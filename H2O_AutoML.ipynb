{
  "cells": [
    {
      "cell_type": "markdown",
      "metadata": {
        "id": "view-in-github",
        "colab_type": "text"
      },
      "source": [
        "<a href=\"https://colab.research.google.com/github/matyi101/ML/blob/master/H2O_AutoML.ipynb\" target=\"_parent\"><img src=\"https://colab.research.google.com/assets/colab-badge.svg\" alt=\"Open In Colab\"/></a>"
      ]
    },
    {
      "cell_type": "code",
      "execution_count": null,
      "metadata": {
        "colab": {
          "base_uri": "https://localhost:8080/"
        },
        "id": "33Xm5BCMzVfw",
        "outputId": "628e6abd-88a6-4f1c-98c3-f3f617abc21b"
      },
      "outputs": [
        {
          "output_type": "stream",
          "name": "stdout",
          "text": [
            "Looking in indexes: https://pypi.org/simple, https://us-python.pkg.dev/colab-wheels/public/simple/\n",
            "Collecting h2o\n",
            "  Downloading h2o-3.38.0.4.tar.gz (177.5 MB)\n",
            "\u001b[2K     \u001b[90m━━━━━━━━━━━━━━━━━━━━━━━━━━━━━━━━━━━━━━━\u001b[0m \u001b[32m177.5/177.5 MB\u001b[0m \u001b[31m6.2 MB/s\u001b[0m eta \u001b[36m0:00:00\u001b[0m\n",
            "\u001b[?25h  Preparing metadata (setup.py) ... \u001b[?25l\u001b[?25hdone\n",
            "Requirement already satisfied: requests in /usr/local/lib/python3.8/dist-packages (from h2o) (2.25.1)\n",
            "Requirement already satisfied: tabulate in /usr/local/lib/python3.8/dist-packages (from h2o) (0.8.10)\n",
            "Requirement already satisfied: future in /usr/local/lib/python3.8/dist-packages (from h2o) (0.16.0)\n",
            "Requirement already satisfied: idna<3,>=2.5 in /usr/local/lib/python3.8/dist-packages (from requests->h2o) (2.10)\n",
            "Requirement already satisfied: chardet<5,>=3.0.2 in /usr/local/lib/python3.8/dist-packages (from requests->h2o) (4.0.0)\n",
            "Requirement already satisfied: urllib3<1.27,>=1.21.1 in /usr/local/lib/python3.8/dist-packages (from requests->h2o) (1.24.3)\n",
            "Requirement already satisfied: certifi>=2017.4.17 in /usr/local/lib/python3.8/dist-packages (from requests->h2o) (2022.12.7)\n",
            "Building wheels for collected packages: h2o\n"
          ]
        }
      ],
      "source": [
        "import time\n",
        "start_time = time.perf_counter()\n",
        "\n",
        "# First, you need to install h2o library\n",
        "!pip install h2o\n",
        "\n",
        "# Next, import the necessary libraries\n",
        "import h2o\n",
        "from h2o.automl import H2OAutoML\n",
        "\n",
        "# Start an H2O cluster\n",
        "h2o.init()"
      ]
    },
    {
      "cell_type": "code",
      "execution_count": null,
      "metadata": {
        "id": "Ob0iHDGLzx1y"
      },
      "outputs": [],
      "source": [
        "from google.colab import drive\n",
        "from google.colab import data_table\n",
        "\n",
        "drive.mount('/content/drive/')\n",
        "data_table.enable_dataframe_formatter()"
      ]
    },
    {
      "cell_type": "code",
      "execution_count": null,
      "metadata": {
        "id": "yMa0d4lcz4vV"
      },
      "outputs": [],
      "source": [
        "data = h2o.import_file(path=\"/content/drive/My Drive/hdddata/1wk/\",pattern = \".*\\.csv\")"
      ]
    },
    {
      "cell_type": "code",
      "execution_count": null,
      "metadata": {
        "id": "p3741tXf3kLK"
      },
      "outputs": [],
      "source": [
        "data.head()"
      ]
    },
    {
      "cell_type": "code",
      "execution_count": null,
      "metadata": {
        "id": "-6c_EYunzRqA"
      },
      "outputs": [],
      "source": [
        "# Splitting the data into training and test sets\n",
        "train, test = data.split_frame(ratios=[0.8])\n",
        "\n",
        "# Defining the response column\n",
        "response_col = \"failure\"\n",
        "\n",
        "# Building the model\n",
        "automl = H2OAutoML(max_models=10, seed=1)\n",
        "automl.train(y=response_col, training_frame=train)\n",
        "\n",
        "# Making predictions on the test set\n",
        "predictions = automl.predict(test)\n",
        "\n",
        "# Evaluating the model's performance\n",
        "performance = automl.leader.model_performance(test)\n",
        "print(performance)"
      ]
    },
    {
      "cell_type": "code",
      "execution_count": null,
      "metadata": {
        "id": "9wx_ZFeCLvkj"
      },
      "outputs": [],
      "source": [
        "#from h2o.estimators.glm import H2OGeneralizedLinearEstimator\n",
        "#h2o.init()\n",
        "#hdd_glm = H2OGeneralizedLinearEstimator(family = 'binomial')\n",
        "#hdd_glm.train(y=response_col, training_frame = train)\n",
        "\n",
        "# Making predictions on the test set\n",
        "#predictions = hdd_glm.predict(test)\n",
        "\n",
        "# Evaluating the model's performance\n",
        "#performance = hdd_glm.leader.model_performance(test)"
      ]
    },
    {
      "cell_type": "markdown",
      "metadata": {
        "id": "JHwiQ7g5Qxa6"
      },
      "source": []
    },
    {
      "cell_type": "code",
      "execution_count": null,
      "metadata": {
        "id": "BWwo2B6UQaAF"
      },
      "outputs": [],
      "source": [
        "hdd_glm.auc(valid = True)"
      ]
    },
    {
      "cell_type": "code",
      "execution_count": null,
      "metadata": {
        "id": "2ZlHZbGm7rep"
      },
      "outputs": [],
      "source": [
        "end_time = time.perf_counter()\n",
        "\n",
        "print(f\"Elapsed time : {end_time-start_time:0.6f} seconds\")"
      ]
    }
  ],
  "metadata": {
    "colab": {
      "provenance": [],
      "authorship_tag": "ABX9TyPpWNEL3WbcwFVATzi+sQEE",
      "include_colab_link": true
    },
    "kernelspec": {
      "display_name": "Python 3",
      "name": "python3"
    },
    "language_info": {
      "name": "python"
    }
  },
  "nbformat": 4,
  "nbformat_minor": 0
}