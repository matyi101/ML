{
  "cells": [
    {
      "cell_type": "markdown",
      "metadata": {
        "id": "view-in-github",
        "colab_type": "text"
      },
      "source": [
        "<a href=\"https://colab.research.google.com/github/matyi101/ML/blob/master/HDD_Failure_Detection.ipynb\" target=\"_parent\"><img src=\"https://colab.research.google.com/assets/colab-badge.svg\" alt=\"Open In Colab\"/></a>"
      ]
    },
    {
      "cell_type": "code",
      "execution_count": 2,
      "metadata": {
        "colab": {
          "base_uri": "https://localhost:8080/"
        },
        "id": "Vsr1DT-teT0I",
        "outputId": "27b57e27-4b17-48c7-a324-8cb8b9fffed7"
      },
      "outputs": [
        {
          "output_type": "stream",
          "name": "stdout",
          "text": [
            "Mounted at /content/drive/\n"
          ]
        }
      ],
      "source": [
        "from google.colab import drive\n",
        "from google.colab import data_table\n",
        "\n",
        "drive.mount('/content/drive/')\n",
        "data_table.enable_dataframe_formatter()"
      ]
    },
    {
      "cell_type": "code",
      "execution_count": 3,
      "metadata": {
        "id": "00O_gJByq_rn"
      },
      "outputs": [],
      "source": [
        "import os\n",
        "import pandas as pd\n",
        "import numpy as np\n",
        "import seaborn as sns\n",
        "import re\n",
        "import matplotlib.pyplot as plt\n",
        "from collections import Counter\n",
        "from imblearn.over_sampling import SMOTE\n",
        "from math import log"
      ]
    },
    {
      "cell_type": "markdown",
      "metadata": {
        "id": "2wc4xb0T9q6g"
      },
      "source": [
        "# DATA INFORMATION:\n",
        "\n",
        "\n",
        "\n",
        "> The dataset is available publicly for the users from https://www.backblaze.com/b2/hard-drive-test-data.html#how-you-can-use-the-data\n",
        "\n",
        "\n",
        "> The first row of the each file contains the column names, the remaining rows are the actual data. The columns are as follows:\n",
        "\n",
        "##### Date – The date of the file in yyyy-mm-dd format.\n",
        "##### Serial Number – The manufacturer-assigned serial number of the drive.\n",
        "##### Model – The manufacturer-assigned model number of the drive.\n",
        "##### Capacity – The drive capacity in bytes.\n",
        "##### Failure – Contains a “0” if the drive is OK. Contains a “1” if the drive is failed.\n",
        "##### S.M.A.R.T Attributes - Raw and Normalized.\n",
        "\n",
        "> In this dataset SMART attributes have two variants namely raw value often corresponds to counts or a physical unit, such as degrees Celsius or seconds and normalized value which ranges from 1 to 253 (1 as worst case and 253 as best case).\n",
        "\n",
        "\n",
        "\n",
        "\n",
        "\n",
        "\n",
        "\n"
      ]
    },
    {
      "cell_type": "markdown",
      "metadata": {
        "id": "jtNSJKkGA8ab"
      },
      "source": [
        "# ML PROBLEM FORMULATION:\n",
        "\n",
        "> It is the Binary class classification problem where we have to predict Hard Drive failure. These are predicted by using attributes that are recorded during normal operations of hard drive. These attributes are known as SMART(Self – Monitoring and Reporting Technology) which is the monitoring system included in computer HDD.\n",
        "\n",
        "> The motive of this prediction is to reduce the rate of failures as a cost saving measure by the HDD vendors and software running on the host system may notify the user so preventive action can be taken to prevent data loss and failing drive can be replaced and data integrity is maintained.\n",
        "\n",
        "> The HDD is said to be failed or critical when some of these attributes crosses the threshold values. Depending upon the manufacturers they use different SMART attributes in which the common attributes are like Read Error Rate, Throughput Performance, Spin-Up Time etc.\n",
        "\n",
        "> References:\n",
        "###### https://en.wikipedia.org/wiki/S.M.A.R.T\n",
        "###### https://www.backblaze.com/b2/hard-drive-test-data.html#how-you-can-use-the-data\n",
        "\n",
        "\n",
        "\n",
        "\n",
        "\n",
        "\n",
        "\n"
      ]
    },
    {
      "cell_type": "markdown",
      "metadata": {
        "id": "pbdpwrt2DJLd"
      },
      "source": [
        "# PERFORMANCE METRICS:\n",
        "\n",
        "\n",
        "1.   PRECISION, RECALL SCORES\n",
        "2.   AUC SCORE AND CONFUSION MATRIX\n",
        "\n"
      ]
    },
    {
      "cell_type": "markdown",
      "metadata": {
        "id": "SdIIo0TQ0OCD"
      },
      "source": [
        "# 1. Importing Data\n",
        "\n",
        "\n"
      ]
    },
    {
      "cell_type": "code",
      "execution_count": 4,
      "metadata": {
        "id": "Utoqk-Ia2RCp"
      },
      "outputs": [],
      "source": [
        "# Using 5 days of data for Train and Val.\n",
        "# dates = ['02', '03', '04', '05', '06', '07', '08', '09', '10']\n",
        "dates = ['02', '03', '04', '05']\n",
        "Data = pd.read_csv(\"/content/drive/My Drive/hdddata/2021/2021-01-01.csv\")\n",
        "for i in dates:\n",
        "  Data = Data.append(pd.read_csv(\"/content/drive/My Drive/hdddata/2021/2021-01-\" + i + \".csv\"))"
      ]
    },
    {
      "cell_type": "code",
      "execution_count": 5,
      "metadata": {
        "colab": {
          "base_uri": "https://localhost:8080/"
        },
        "id": "iPodCMoH8nhu",
        "outputId": "7fc5a10c-e57b-4f27-f9d5-fcc9f68da7e0"
      },
      "outputs": [
        {
          "output_type": "stream",
          "name": "stdout",
          "text": [
            "<class 'pandas.core.frame.DataFrame'>\n",
            "Int64Index: 827509 entries, 0 to 165532\n",
            "Columns: 149 entries, date to smart_255_raw\n",
            "dtypes: float64(144), int64(2), object(3)\n",
            "memory usage: 947.0+ MB\n",
            "None\n",
            "\n",
            "Shape of the Data:  (827509, 149)\n"
          ]
        }
      ],
      "source": [
        "print(Data.info())\n",
        "print()\n",
        "print(\"Shape of the Data: \", Data.shape)"
      ]
    },
    {
      "cell_type": "code",
      "execution_count": 6,
      "metadata": {
        "colab": {
          "base_uri": "https://localhost:8080/",
          "height": 404
        },
        "id": "qXosMjoJPcfw",
        "outputId": "446a7a31-610b-4804-c471-ffeb1a05fbe8"
      },
      "outputs": [
        {
          "output_type": "stream",
          "name": "stdout",
          "text": [
            "Warning: Total number of columns (149) exceeds max_columns (20). Falling back to pandas display.\n"
          ]
        },
        {
          "output_type": "execute_result",
          "data": {
            "text/plain": [
              "         date serial_number          model  capacity_bytes  failure  \\\n",
              "0  2021-01-01      ZLW0EGC6  ST12000NM001G  12000138625024        0   \n",
              "1  2021-01-01      Z305B2QN    ST4000DM000   4000787030016        0   \n",
              "2  2021-01-01      ZLW0C6NE  ST12000NM001G  12000138625024        0   \n",
              "3  2021-01-01      ZJV0XJQ3  ST12000NM0007  12000138625024        0   \n",
              "4  2021-01-01      ZLW18MKT  ST14000NM001G  14000519643136        0   \n",
              "\n",
              "   smart_1_normalized  smart_1_raw  smart_2_normalized  smart_2_raw  \\\n",
              "0                83.0  213166608.0                 NaN          NaN   \n",
              "1               114.0   79306032.0                 NaN          NaN   \n",
              "2                72.0   17162816.0                 NaN          NaN   \n",
              "3               100.0    1102160.0                 NaN          NaN   \n",
              "4                75.0   33233248.0                 NaN          NaN   \n",
              "\n",
              "   smart_3_normalized  ...  smart_250_normalized  smart_250_raw  \\\n",
              "0                99.0  ...                   NaN            NaN   \n",
              "1                91.0  ...                   NaN            NaN   \n",
              "2                98.0  ...                   NaN            NaN   \n",
              "3                98.0  ...                   NaN            NaN   \n",
              "4                95.0  ...                   NaN            NaN   \n",
              "\n",
              "   smart_251_normalized  smart_251_raw  smart_252_normalized  smart_252_raw  \\\n",
              "0                   NaN            NaN                   NaN            NaN   \n",
              "1                   NaN            NaN                   NaN            NaN   \n",
              "2                   NaN            NaN                   NaN            NaN   \n",
              "3                   NaN            NaN                   NaN            NaN   \n",
              "4                   NaN            NaN                   NaN            NaN   \n",
              "\n",
              "   smart_254_normalized  smart_254_raw  smart_255_normalized  smart_255_raw  \n",
              "0                   NaN            NaN                   NaN            NaN  \n",
              "1                   NaN            NaN                   NaN            NaN  \n",
              "2                   NaN            NaN                   NaN            NaN  \n",
              "3                   NaN            NaN                   NaN            NaN  \n",
              "4                   NaN            NaN                   NaN            NaN  \n",
              "\n",
              "[5 rows x 149 columns]"
            ],
            "text/html": [
              "\n",
              "  <div id=\"df-d8b9a08e-0386-4043-950a-1c1bb642243c\">\n",
              "    <div class=\"colab-df-container\">\n",
              "      <div>\n",
              "<style scoped>\n",
              "    .dataframe tbody tr th:only-of-type {\n",
              "        vertical-align: middle;\n",
              "    }\n",
              "\n",
              "    .dataframe tbody tr th {\n",
              "        vertical-align: top;\n",
              "    }\n",
              "\n",
              "    .dataframe thead th {\n",
              "        text-align: right;\n",
              "    }\n",
              "</style>\n",
              "<table border=\"1\" class=\"dataframe\">\n",
              "  <thead>\n",
              "    <tr style=\"text-align: right;\">\n",
              "      <th></th>\n",
              "      <th>date</th>\n",
              "      <th>serial_number</th>\n",
              "      <th>model</th>\n",
              "      <th>capacity_bytes</th>\n",
              "      <th>failure</th>\n",
              "      <th>smart_1_normalized</th>\n",
              "      <th>smart_1_raw</th>\n",
              "      <th>smart_2_normalized</th>\n",
              "      <th>smart_2_raw</th>\n",
              "      <th>smart_3_normalized</th>\n",
              "      <th>...</th>\n",
              "      <th>smart_250_normalized</th>\n",
              "      <th>smart_250_raw</th>\n",
              "      <th>smart_251_normalized</th>\n",
              "      <th>smart_251_raw</th>\n",
              "      <th>smart_252_normalized</th>\n",
              "      <th>smart_252_raw</th>\n",
              "      <th>smart_254_normalized</th>\n",
              "      <th>smart_254_raw</th>\n",
              "      <th>smart_255_normalized</th>\n",
              "      <th>smart_255_raw</th>\n",
              "    </tr>\n",
              "  </thead>\n",
              "  <tbody>\n",
              "    <tr>\n",
              "      <th>0</th>\n",
              "      <td>2021-01-01</td>\n",
              "      <td>ZLW0EGC6</td>\n",
              "      <td>ST12000NM001G</td>\n",
              "      <td>12000138625024</td>\n",
              "      <td>0</td>\n",
              "      <td>83.0</td>\n",
              "      <td>213166608.0</td>\n",
              "      <td>NaN</td>\n",
              "      <td>NaN</td>\n",
              "      <td>99.0</td>\n",
              "      <td>...</td>\n",
              "      <td>NaN</td>\n",
              "      <td>NaN</td>\n",
              "      <td>NaN</td>\n",
              "      <td>NaN</td>\n",
              "      <td>NaN</td>\n",
              "      <td>NaN</td>\n",
              "      <td>NaN</td>\n",
              "      <td>NaN</td>\n",
              "      <td>NaN</td>\n",
              "      <td>NaN</td>\n",
              "    </tr>\n",
              "    <tr>\n",
              "      <th>1</th>\n",
              "      <td>2021-01-01</td>\n",
              "      <td>Z305B2QN</td>\n",
              "      <td>ST4000DM000</td>\n",
              "      <td>4000787030016</td>\n",
              "      <td>0</td>\n",
              "      <td>114.0</td>\n",
              "      <td>79306032.0</td>\n",
              "      <td>NaN</td>\n",
              "      <td>NaN</td>\n",
              "      <td>91.0</td>\n",
              "      <td>...</td>\n",
              "      <td>NaN</td>\n",
              "      <td>NaN</td>\n",
              "      <td>NaN</td>\n",
              "      <td>NaN</td>\n",
              "      <td>NaN</td>\n",
              "      <td>NaN</td>\n",
              "      <td>NaN</td>\n",
              "      <td>NaN</td>\n",
              "      <td>NaN</td>\n",
              "      <td>NaN</td>\n",
              "    </tr>\n",
              "    <tr>\n",
              "      <th>2</th>\n",
              "      <td>2021-01-01</td>\n",
              "      <td>ZLW0C6NE</td>\n",
              "      <td>ST12000NM001G</td>\n",
              "      <td>12000138625024</td>\n",
              "      <td>0</td>\n",
              "      <td>72.0</td>\n",
              "      <td>17162816.0</td>\n",
              "      <td>NaN</td>\n",
              "      <td>NaN</td>\n",
              "      <td>98.0</td>\n",
              "      <td>...</td>\n",
              "      <td>NaN</td>\n",
              "      <td>NaN</td>\n",
              "      <td>NaN</td>\n",
              "      <td>NaN</td>\n",
              "      <td>NaN</td>\n",
              "      <td>NaN</td>\n",
              "      <td>NaN</td>\n",
              "      <td>NaN</td>\n",
              "      <td>NaN</td>\n",
              "      <td>NaN</td>\n",
              "    </tr>\n",
              "    <tr>\n",
              "      <th>3</th>\n",
              "      <td>2021-01-01</td>\n",
              "      <td>ZJV0XJQ3</td>\n",
              "      <td>ST12000NM0007</td>\n",
              "      <td>12000138625024</td>\n",
              "      <td>0</td>\n",
              "      <td>100.0</td>\n",
              "      <td>1102160.0</td>\n",
              "      <td>NaN</td>\n",
              "      <td>NaN</td>\n",
              "      <td>98.0</td>\n",
              "      <td>...</td>\n",
              "      <td>NaN</td>\n",
              "      <td>NaN</td>\n",
              "      <td>NaN</td>\n",
              "      <td>NaN</td>\n",
              "      <td>NaN</td>\n",
              "      <td>NaN</td>\n",
              "      <td>NaN</td>\n",
              "      <td>NaN</td>\n",
              "      <td>NaN</td>\n",
              "      <td>NaN</td>\n",
              "    </tr>\n",
              "    <tr>\n",
              "      <th>4</th>\n",
              "      <td>2021-01-01</td>\n",
              "      <td>ZLW18MKT</td>\n",
              "      <td>ST14000NM001G</td>\n",
              "      <td>14000519643136</td>\n",
              "      <td>0</td>\n",
              "      <td>75.0</td>\n",
              "      <td>33233248.0</td>\n",
              "      <td>NaN</td>\n",
              "      <td>NaN</td>\n",
              "      <td>95.0</td>\n",
              "      <td>...</td>\n",
              "      <td>NaN</td>\n",
              "      <td>NaN</td>\n",
              "      <td>NaN</td>\n",
              "      <td>NaN</td>\n",
              "      <td>NaN</td>\n",
              "      <td>NaN</td>\n",
              "      <td>NaN</td>\n",
              "      <td>NaN</td>\n",
              "      <td>NaN</td>\n",
              "      <td>NaN</td>\n",
              "    </tr>\n",
              "  </tbody>\n",
              "</table>\n",
              "<p>5 rows × 149 columns</p>\n",
              "</div>\n",
              "      <button class=\"colab-df-convert\" onclick=\"convertToInteractive('df-d8b9a08e-0386-4043-950a-1c1bb642243c')\"\n",
              "              title=\"Convert this dataframe to an interactive table.\"\n",
              "              style=\"display:none;\">\n",
              "        \n",
              "  <svg xmlns=\"http://www.w3.org/2000/svg\" height=\"24px\"viewBox=\"0 0 24 24\"\n",
              "       width=\"24px\">\n",
              "    <path d=\"M0 0h24v24H0V0z\" fill=\"none\"/>\n",
              "    <path d=\"M18.56 5.44l.94 2.06.94-2.06 2.06-.94-2.06-.94-.94-2.06-.94 2.06-2.06.94zm-11 1L8.5 8.5l.94-2.06 2.06-.94-2.06-.94L8.5 2.5l-.94 2.06-2.06.94zm10 10l.94 2.06.94-2.06 2.06-.94-2.06-.94-.94-2.06-.94 2.06-2.06.94z\"/><path d=\"M17.41 7.96l-1.37-1.37c-.4-.4-.92-.59-1.43-.59-.52 0-1.04.2-1.43.59L10.3 9.45l-7.72 7.72c-.78.78-.78 2.05 0 2.83L4 21.41c.39.39.9.59 1.41.59.51 0 1.02-.2 1.41-.59l7.78-7.78 2.81-2.81c.8-.78.8-2.07 0-2.86zM5.41 20L4 18.59l7.72-7.72 1.47 1.35L5.41 20z\"/>\n",
              "  </svg>\n",
              "      </button>\n",
              "      \n",
              "  <style>\n",
              "    .colab-df-container {\n",
              "      display:flex;\n",
              "      flex-wrap:wrap;\n",
              "      gap: 12px;\n",
              "    }\n",
              "\n",
              "    .colab-df-convert {\n",
              "      background-color: #E8F0FE;\n",
              "      border: none;\n",
              "      border-radius: 50%;\n",
              "      cursor: pointer;\n",
              "      display: none;\n",
              "      fill: #1967D2;\n",
              "      height: 32px;\n",
              "      padding: 0 0 0 0;\n",
              "      width: 32px;\n",
              "    }\n",
              "\n",
              "    .colab-df-convert:hover {\n",
              "      background-color: #E2EBFA;\n",
              "      box-shadow: 0px 1px 2px rgba(60, 64, 67, 0.3), 0px 1px 3px 1px rgba(60, 64, 67, 0.15);\n",
              "      fill: #174EA6;\n",
              "    }\n",
              "\n",
              "    [theme=dark] .colab-df-convert {\n",
              "      background-color: #3B4455;\n",
              "      fill: #D2E3FC;\n",
              "    }\n",
              "\n",
              "    [theme=dark] .colab-df-convert:hover {\n",
              "      background-color: #434B5C;\n",
              "      box-shadow: 0px 1px 3px 1px rgba(0, 0, 0, 0.15);\n",
              "      filter: drop-shadow(0px 1px 2px rgba(0, 0, 0, 0.3));\n",
              "      fill: #FFFFFF;\n",
              "    }\n",
              "  </style>\n",
              "\n",
              "      <script>\n",
              "        const buttonEl =\n",
              "          document.querySelector('#df-d8b9a08e-0386-4043-950a-1c1bb642243c button.colab-df-convert');\n",
              "        buttonEl.style.display =\n",
              "          google.colab.kernel.accessAllowed ? 'block' : 'none';\n",
              "\n",
              "        async function convertToInteractive(key) {\n",
              "          const element = document.querySelector('#df-d8b9a08e-0386-4043-950a-1c1bb642243c');\n",
              "          const dataTable =\n",
              "            await google.colab.kernel.invokeFunction('convertToInteractive',\n",
              "                                                     [key], {});\n",
              "          if (!dataTable) return;\n",
              "\n",
              "          const docLinkHtml = 'Like what you see? Visit the ' +\n",
              "            '<a target=\"_blank\" href=https://colab.research.google.com/notebooks/data_table.ipynb>data table notebook</a>'\n",
              "            + ' to learn more about interactive tables.';\n",
              "          element.innerHTML = '';\n",
              "          dataTable['output_type'] = 'display_data';\n",
              "          await google.colab.output.renderOutput(dataTable, element);\n",
              "          const docLink = document.createElement('div');\n",
              "          docLink.innerHTML = docLinkHtml;\n",
              "          element.appendChild(docLink);\n",
              "        }\n",
              "      </script>\n",
              "    </div>\n",
              "  </div>\n",
              "  "
            ]
          },
          "metadata": {},
          "execution_count": 6
        }
      ],
      "source": [
        "Data.head()"
      ]
    },
    {
      "cell_type": "code",
      "execution_count": 7,
      "metadata": {
        "colab": {
          "base_uri": "https://localhost:8080/",
          "height": 404
        },
        "id": "gXHSrWH6-91D",
        "outputId": "3d919950-dab3-47a6-a9e8-fdc2dfc878d6"
      },
      "outputs": [
        {
          "output_type": "stream",
          "name": "stdout",
          "text": [
            "Warning: Total number of columns (149) exceeds max_columns (20). Falling back to pandas display.\n"
          ]
        },
        {
          "output_type": "execute_result",
          "data": {
            "text/plain": [
              "              date   serial_number                 model  capacity_bytes  \\\n",
              "165528  2021-01-05        ZJV2ESXT         ST12000NM0007  12000138625024   \n",
              "165529  2021-01-05        ZA13ZBCT           ST8000DM002   8001563222016   \n",
              "165530  2021-01-05  PL1331LAHGD9NH  HGST HMS5C4040BLE640   4000787030016   \n",
              "165531  2021-01-05  PL2331LAHDS4TJ  HGST HMS5C4040BLE640   4000787030016   \n",
              "165532  2021-01-05        X0GEV9EC   WDC WUH721414ALE6L4  14000519643136   \n",
              "\n",
              "        failure  smart_1_normalized  smart_1_raw  smart_2_normalized  \\\n",
              "165528        0                80.0   97876120.0                 NaN   \n",
              "165529        0                84.0  227496000.0                 NaN   \n",
              "165530        0               100.0          0.0               134.0   \n",
              "165531        0               100.0          0.0               133.0   \n",
              "165532        0               100.0          0.0               138.0   \n",
              "\n",
              "        smart_2_raw  smart_3_normalized  ...  smart_250_normalized  \\\n",
              "165528          NaN                98.0  ...                   NaN   \n",
              "165529          NaN                86.0  ...                   NaN   \n",
              "165530        100.0               100.0  ...                   NaN   \n",
              "165531        104.0               100.0  ...                   NaN   \n",
              "165532         92.0                85.0  ...                   NaN   \n",
              "\n",
              "        smart_250_raw  smart_251_normalized  smart_251_raw  \\\n",
              "165528            NaN                   NaN            NaN   \n",
              "165529            NaN                   NaN            NaN   \n",
              "165530            NaN                   NaN            NaN   \n",
              "165531            NaN                   NaN            NaN   \n",
              "165532            NaN                   NaN            NaN   \n",
              "\n",
              "        smart_252_normalized  smart_252_raw  smart_254_normalized  \\\n",
              "165528                   NaN            NaN                   NaN   \n",
              "165529                   NaN            NaN                   NaN   \n",
              "165530                   NaN            NaN                   NaN   \n",
              "165531                   NaN            NaN                   NaN   \n",
              "165532                   NaN            NaN                   NaN   \n",
              "\n",
              "        smart_254_raw  smart_255_normalized  smart_255_raw  \n",
              "165528            NaN                   NaN            NaN  \n",
              "165529            NaN                   NaN            NaN  \n",
              "165530            NaN                   NaN            NaN  \n",
              "165531            NaN                   NaN            NaN  \n",
              "165532            NaN                   NaN            NaN  \n",
              "\n",
              "[5 rows x 149 columns]"
            ],
            "text/html": [
              "\n",
              "  <div id=\"df-e763a9e4-b0ce-4255-9fc0-2a8c4cfa0d49\">\n",
              "    <div class=\"colab-df-container\">\n",
              "      <div>\n",
              "<style scoped>\n",
              "    .dataframe tbody tr th:only-of-type {\n",
              "        vertical-align: middle;\n",
              "    }\n",
              "\n",
              "    .dataframe tbody tr th {\n",
              "        vertical-align: top;\n",
              "    }\n",
              "\n",
              "    .dataframe thead th {\n",
              "        text-align: right;\n",
              "    }\n",
              "</style>\n",
              "<table border=\"1\" class=\"dataframe\">\n",
              "  <thead>\n",
              "    <tr style=\"text-align: right;\">\n",
              "      <th></th>\n",
              "      <th>date</th>\n",
              "      <th>serial_number</th>\n",
              "      <th>model</th>\n",
              "      <th>capacity_bytes</th>\n",
              "      <th>failure</th>\n",
              "      <th>smart_1_normalized</th>\n",
              "      <th>smart_1_raw</th>\n",
              "      <th>smart_2_normalized</th>\n",
              "      <th>smart_2_raw</th>\n",
              "      <th>smart_3_normalized</th>\n",
              "      <th>...</th>\n",
              "      <th>smart_250_normalized</th>\n",
              "      <th>smart_250_raw</th>\n",
              "      <th>smart_251_normalized</th>\n",
              "      <th>smart_251_raw</th>\n",
              "      <th>smart_252_normalized</th>\n",
              "      <th>smart_252_raw</th>\n",
              "      <th>smart_254_normalized</th>\n",
              "      <th>smart_254_raw</th>\n",
              "      <th>smart_255_normalized</th>\n",
              "      <th>smart_255_raw</th>\n",
              "    </tr>\n",
              "  </thead>\n",
              "  <tbody>\n",
              "    <tr>\n",
              "      <th>165528</th>\n",
              "      <td>2021-01-05</td>\n",
              "      <td>ZJV2ESXT</td>\n",
              "      <td>ST12000NM0007</td>\n",
              "      <td>12000138625024</td>\n",
              "      <td>0</td>\n",
              "      <td>80.0</td>\n",
              "      <td>97876120.0</td>\n",
              "      <td>NaN</td>\n",
              "      <td>NaN</td>\n",
              "      <td>98.0</td>\n",
              "      <td>...</td>\n",
              "      <td>NaN</td>\n",
              "      <td>NaN</td>\n",
              "      <td>NaN</td>\n",
              "      <td>NaN</td>\n",
              "      <td>NaN</td>\n",
              "      <td>NaN</td>\n",
              "      <td>NaN</td>\n",
              "      <td>NaN</td>\n",
              "      <td>NaN</td>\n",
              "      <td>NaN</td>\n",
              "    </tr>\n",
              "    <tr>\n",
              "      <th>165529</th>\n",
              "      <td>2021-01-05</td>\n",
              "      <td>ZA13ZBCT</td>\n",
              "      <td>ST8000DM002</td>\n",
              "      <td>8001563222016</td>\n",
              "      <td>0</td>\n",
              "      <td>84.0</td>\n",
              "      <td>227496000.0</td>\n",
              "      <td>NaN</td>\n",
              "      <td>NaN</td>\n",
              "      <td>86.0</td>\n",
              "      <td>...</td>\n",
              "      <td>NaN</td>\n",
              "      <td>NaN</td>\n",
              "      <td>NaN</td>\n",
              "      <td>NaN</td>\n",
              "      <td>NaN</td>\n",
              "      <td>NaN</td>\n",
              "      <td>NaN</td>\n",
              "      <td>NaN</td>\n",
              "      <td>NaN</td>\n",
              "      <td>NaN</td>\n",
              "    </tr>\n",
              "    <tr>\n",
              "      <th>165530</th>\n",
              "      <td>2021-01-05</td>\n",
              "      <td>PL1331LAHGD9NH</td>\n",
              "      <td>HGST HMS5C4040BLE640</td>\n",
              "      <td>4000787030016</td>\n",
              "      <td>0</td>\n",
              "      <td>100.0</td>\n",
              "      <td>0.0</td>\n",
              "      <td>134.0</td>\n",
              "      <td>100.0</td>\n",
              "      <td>100.0</td>\n",
              "      <td>...</td>\n",
              "      <td>NaN</td>\n",
              "      <td>NaN</td>\n",
              "      <td>NaN</td>\n",
              "      <td>NaN</td>\n",
              "      <td>NaN</td>\n",
              "      <td>NaN</td>\n",
              "      <td>NaN</td>\n",
              "      <td>NaN</td>\n",
              "      <td>NaN</td>\n",
              "      <td>NaN</td>\n",
              "    </tr>\n",
              "    <tr>\n",
              "      <th>165531</th>\n",
              "      <td>2021-01-05</td>\n",
              "      <td>PL2331LAHDS4TJ</td>\n",
              "      <td>HGST HMS5C4040BLE640</td>\n",
              "      <td>4000787030016</td>\n",
              "      <td>0</td>\n",
              "      <td>100.0</td>\n",
              "      <td>0.0</td>\n",
              "      <td>133.0</td>\n",
              "      <td>104.0</td>\n",
              "      <td>100.0</td>\n",
              "      <td>...</td>\n",
              "      <td>NaN</td>\n",
              "      <td>NaN</td>\n",
              "      <td>NaN</td>\n",
              "      <td>NaN</td>\n",
              "      <td>NaN</td>\n",
              "      <td>NaN</td>\n",
              "      <td>NaN</td>\n",
              "      <td>NaN</td>\n",
              "      <td>NaN</td>\n",
              "      <td>NaN</td>\n",
              "    </tr>\n",
              "    <tr>\n",
              "      <th>165532</th>\n",
              "      <td>2021-01-05</td>\n",
              "      <td>X0GEV9EC</td>\n",
              "      <td>WDC WUH721414ALE6L4</td>\n",
              "      <td>14000519643136</td>\n",
              "      <td>0</td>\n",
              "      <td>100.0</td>\n",
              "      <td>0.0</td>\n",
              "      <td>138.0</td>\n",
              "      <td>92.0</td>\n",
              "      <td>85.0</td>\n",
              "      <td>...</td>\n",
              "      <td>NaN</td>\n",
              "      <td>NaN</td>\n",
              "      <td>NaN</td>\n",
              "      <td>NaN</td>\n",
              "      <td>NaN</td>\n",
              "      <td>NaN</td>\n",
              "      <td>NaN</td>\n",
              "      <td>NaN</td>\n",
              "      <td>NaN</td>\n",
              "      <td>NaN</td>\n",
              "    </tr>\n",
              "  </tbody>\n",
              "</table>\n",
              "<p>5 rows × 149 columns</p>\n",
              "</div>\n",
              "      <button class=\"colab-df-convert\" onclick=\"convertToInteractive('df-e763a9e4-b0ce-4255-9fc0-2a8c4cfa0d49')\"\n",
              "              title=\"Convert this dataframe to an interactive table.\"\n",
              "              style=\"display:none;\">\n",
              "        \n",
              "  <svg xmlns=\"http://www.w3.org/2000/svg\" height=\"24px\"viewBox=\"0 0 24 24\"\n",
              "       width=\"24px\">\n",
              "    <path d=\"M0 0h24v24H0V0z\" fill=\"none\"/>\n",
              "    <path d=\"M18.56 5.44l.94 2.06.94-2.06 2.06-.94-2.06-.94-.94-2.06-.94 2.06-2.06.94zm-11 1L8.5 8.5l.94-2.06 2.06-.94-2.06-.94L8.5 2.5l-.94 2.06-2.06.94zm10 10l.94 2.06.94-2.06 2.06-.94-2.06-.94-.94-2.06-.94 2.06-2.06.94z\"/><path d=\"M17.41 7.96l-1.37-1.37c-.4-.4-.92-.59-1.43-.59-.52 0-1.04.2-1.43.59L10.3 9.45l-7.72 7.72c-.78.78-.78 2.05 0 2.83L4 21.41c.39.39.9.59 1.41.59.51 0 1.02-.2 1.41-.59l7.78-7.78 2.81-2.81c.8-.78.8-2.07 0-2.86zM5.41 20L4 18.59l7.72-7.72 1.47 1.35L5.41 20z\"/>\n",
              "  </svg>\n",
              "      </button>\n",
              "      \n",
              "  <style>\n",
              "    .colab-df-container {\n",
              "      display:flex;\n",
              "      flex-wrap:wrap;\n",
              "      gap: 12px;\n",
              "    }\n",
              "\n",
              "    .colab-df-convert {\n",
              "      background-color: #E8F0FE;\n",
              "      border: none;\n",
              "      border-radius: 50%;\n",
              "      cursor: pointer;\n",
              "      display: none;\n",
              "      fill: #1967D2;\n",
              "      height: 32px;\n",
              "      padding: 0 0 0 0;\n",
              "      width: 32px;\n",
              "    }\n",
              "\n",
              "    .colab-df-convert:hover {\n",
              "      background-color: #E2EBFA;\n",
              "      box-shadow: 0px 1px 2px rgba(60, 64, 67, 0.3), 0px 1px 3px 1px rgba(60, 64, 67, 0.15);\n",
              "      fill: #174EA6;\n",
              "    }\n",
              "\n",
              "    [theme=dark] .colab-df-convert {\n",
              "      background-color: #3B4455;\n",
              "      fill: #D2E3FC;\n",
              "    }\n",
              "\n",
              "    [theme=dark] .colab-df-convert:hover {\n",
              "      background-color: #434B5C;\n",
              "      box-shadow: 0px 1px 3px 1px rgba(0, 0, 0, 0.15);\n",
              "      filter: drop-shadow(0px 1px 2px rgba(0, 0, 0, 0.3));\n",
              "      fill: #FFFFFF;\n",
              "    }\n",
              "  </style>\n",
              "\n",
              "      <script>\n",
              "        const buttonEl =\n",
              "          document.querySelector('#df-e763a9e4-b0ce-4255-9fc0-2a8c4cfa0d49 button.colab-df-convert');\n",
              "        buttonEl.style.display =\n",
              "          google.colab.kernel.accessAllowed ? 'block' : 'none';\n",
              "\n",
              "        async function convertToInteractive(key) {\n",
              "          const element = document.querySelector('#df-e763a9e4-b0ce-4255-9fc0-2a8c4cfa0d49');\n",
              "          const dataTable =\n",
              "            await google.colab.kernel.invokeFunction('convertToInteractive',\n",
              "                                                     [key], {});\n",
              "          if (!dataTable) return;\n",
              "\n",
              "          const docLinkHtml = 'Like what you see? Visit the ' +\n",
              "            '<a target=\"_blank\" href=https://colab.research.google.com/notebooks/data_table.ipynb>data table notebook</a>'\n",
              "            + ' to learn more about interactive tables.';\n",
              "          element.innerHTML = '';\n",
              "          dataTable['output_type'] = 'display_data';\n",
              "          await google.colab.output.renderOutput(dataTable, element);\n",
              "          const docLink = document.createElement('div');\n",
              "          docLink.innerHTML = docLinkHtml;\n",
              "          element.appendChild(docLink);\n",
              "        }\n",
              "      </script>\n",
              "    </div>\n",
              "  </div>\n",
              "  "
            ]
          },
          "metadata": {},
          "execution_count": 7
        }
      ],
      "source": [
        "Data.tail()"
      ]
    },
    {
      "cell_type": "code",
      "execution_count": 8,
      "metadata": {
        "colab": {
          "base_uri": "https://localhost:8080/"
        },
        "id": "OFLQ4fIy_Er9",
        "outputId": "58517be1-bed6-4b8c-c1fe-63cb3ece2327"
      },
      "outputs": [
        {
          "output_type": "execute_result",
          "data": {
            "text/plain": [
              "Index(['index', 'date', 'serial_number', 'model', 'capacity_bytes', 'failure',\n",
              "       'smart_1_normalized', 'smart_1_raw', 'smart_2_normalized',\n",
              "       'smart_2_raw',\n",
              "       ...\n",
              "       'smart_250_normalized', 'smart_250_raw', 'smart_251_normalized',\n",
              "       'smart_251_raw', 'smart_252_normalized', 'smart_252_raw',\n",
              "       'smart_254_normalized', 'smart_254_raw', 'smart_255_normalized',\n",
              "       'smart_255_raw'],\n",
              "      dtype='object', length=150)"
            ]
          },
          "metadata": {},
          "execution_count": 8
        }
      ],
      "source": [
        "Data.reset_index(inplace = True)\n",
        "Data['date'] = pd.to_datetime(Data['date'])\n",
        "Data.columns"
      ]
    },
    {
      "cell_type": "markdown",
      "metadata": {
        "id": "jbDTDRywuYl7"
      },
      "source": [
        "From the above Dataset it is found that it many features contains NaN values."
      ]
    },
    {
      "cell_type": "markdown",
      "metadata": {
        "id": "mMvcgQLEpinl"
      },
      "source": [
        "# 2. To Find the common features of all the models of HDD.\n",
        "\n",
        "\n",
        "\n",
        "\n",
        "\n"
      ]
    },
    {
      "cell_type": "markdown",
      "metadata": {
        "id": "Z4b7XudXLS7j"
      },
      "source": [
        "> Since each vendors provide different SMART attributes, I am finding and keeping the common attributes that each model have defined values.\n",
        "\n",
        "\n",
        "> Attributes with many NaN are removed."
      ]
    },
    {
      "cell_type": "code",
      "execution_count": 9,
      "metadata": {
        "colab": {
          "base_uri": "https://localhost:8080/"
        },
        "id": "7V_Mmy6UXI7n",
        "outputId": "46631f5a-6365-4620-9222-c0c60836f72e"
      },
      "outputs": [
        {
          "output_type": "execute_result",
          "data": {
            "text/plain": [
              "Index(['date', 'serial_number', 'model', 'capacity_bytes', 'failure',\n",
              "       'smart_1_normalized', 'smart_1_raw', 'smart_2_normalized',\n",
              "       'smart_2_raw', 'smart_3_normalized',\n",
              "       ...\n",
              "       'smart_250_normalized', 'smart_250_raw', 'smart_251_normalized',\n",
              "       'smart_251_raw', 'smart_252_normalized', 'smart_252_raw',\n",
              "       'smart_254_normalized', 'smart_254_raw', 'smart_255_normalized',\n",
              "       'smart_255_raw'],\n",
              "      dtype='object', length=149)"
            ]
          },
          "metadata": {},
          "execution_count": 9
        }
      ],
      "source": [
        "# Creating the copy of original data with removing the columns containing all instances as NaN.\n",
        "Data.drop('index', axis = 1, inplace = True)\n",
        "Test = Data.dropna(how = 'all', axis = 1)\n",
        "Initial = Data.columns\n",
        "Initial"
      ]
    },
    {
      "cell_type": "code",
      "execution_count": 10,
      "metadata": {
        "colab": {
          "base_uri": "https://localhost:8080/"
        },
        "id": "-wnh46ZXA1Dx",
        "outputId": "deb63f8d-cd4b-4509-e51a-a9a59be5bfe4"
      },
      "outputs": [
        {
          "output_type": "execute_result",
          "data": {
            "text/plain": [
              "(827509, 139)"
            ]
          },
          "metadata": {},
          "execution_count": 10
        }
      ],
      "source": [
        "Test.shape # Shape of the data after removing the NaN Features."
      ]
    },
    {
      "cell_type": "code",
      "execution_count": 11,
      "metadata": {
        "colab": {
          "base_uri": "https://localhost:8080/"
        },
        "id": "8WDwz9QzA884",
        "outputId": "d99e3e99-75f1-47c3-99b8-d85a25eb1066"
      },
      "outputs": [
        {
          "output_type": "execute_result",
          "data": {
            "text/plain": [
              "8"
            ]
          },
          "metadata": {},
          "execution_count": 11
        }
      ],
      "source": [
        "# Critical Features for HDD failure as mentioned in Wikipedia and BlackBlaze.\n",
        "# These features are removed to find other common features of all the models.\n",
        "Features = ['5', '10', '184', '187', '188', '196', '197', '198']\n",
        "len(Features)"
      ]
    },
    {
      "cell_type": "code",
      "execution_count": 12,
      "metadata": {
        "colab": {
          "base_uri": "https://localhost:8080/"
        },
        "id": "GXeV334bA846",
        "outputId": "9c9897b1-4f37-4702-f8dc-b2924a315820"
      },
      "outputs": [
        {
          "output_type": "stream",
          "name": "stderr",
          "text": [
            "/usr/local/lib/python3.8/dist-packages/pandas/core/frame.py:4906: SettingWithCopyWarning: \n",
            "A value is trying to be set on a copy of a slice from a DataFrame\n",
            "\n",
            "See the caveats in the documentation: https://pandas.pydata.org/pandas-docs/stable/user_guide/indexing.html#returning-a-view-versus-a-copy\n",
            "  return super().drop(\n"
          ]
        }
      ],
      "source": [
        "for i in Features:\n",
        "  features = ['smart_' + i + '_normalized', 'smart_' + i + '_raw']\n",
        "  Test.drop(features, axis = 1, inplace = True)"
      ]
    },
    {
      "cell_type": "code",
      "execution_count": 13,
      "metadata": {
        "colab": {
          "base_uri": "https://localhost:8080/"
        },
        "id": "j_AAlxPLA832",
        "outputId": "de51b1f7-ca6d-451f-87e6-a20504a10ea5"
      },
      "outputs": [
        {
          "output_type": "execute_result",
          "data": {
            "text/plain": [
              "(827509, 123)"
            ]
          },
          "metadata": {},
          "execution_count": 13
        }
      ],
      "source": [
        "# Shape of the data after removing the critical features.\n",
        "Test.shape "
      ]
    },
    {
      "cell_type": "code",
      "execution_count": 14,
      "metadata": {
        "colab": {
          "base_uri": "https://localhost:8080/",
          "height": 1000
        },
        "id": "oQfgRDw3tZWI",
        "outputId": "9cfca9ed-a504-40c7-f554-846fd7f71b6d"
      },
      "outputs": [
        {
          "output_type": "display_data",
          "data": {
            "text/plain": [
              "<Figure size 1440x1440 with 1 Axes>"
            ],
            "image/png": "[encoded data removed]"
          },
          "metadata": {
            "needs_background": "light"
          }
        }
      ],
      "source": [
        "# Checking the count and percentage of unique models from the data.\n",
        "total = len(Data)\n",
        "plt.figure(figsize = (20,20))\n",
        "ax = sns.countplot(x = \"model\", data = Test, order = Test.model.value_counts().index)\n",
        "for p in ax.patches:\n",
        "        ax.annotate('{:.4f}% ({})'.format(100*p.get_height()/total, p.get_height()), (p.get_x()+0.1, p.get_height()+5), rotation = 'vertical')\n",
        "\n",
        "#put 11 ticks (therefore 10 steps), from 0 to the total number of rows in the dataframe\n",
        "ax.yaxis.set_ticks(np.linspace(0, total, 11))\n",
        "\n",
        "#adjust the ticklabel to the desired format, without changing the position of the ticks. \n",
        "ax.set_yticklabels(map('{:.1f}%'.format, 100*ax.yaxis.get_majorticklocs()/total))\n",
        "plt.xticks(rotation=90)\n",
        "plt.title('Counts of every HDD model')\n",
        "plt.grid(True)\n",
        "plt.show()"
      ]
    },
    {
      "cell_type": "code",
      "execution_count": 15,
      "metadata": {
        "colab": {
          "base_uri": "https://localhost:8080/",
          "height": 390
        },
        "id": "yH5s7PO6jdBa",
        "outputId": "0098fb49-942b-431c-f8a6-9f076a6dfa2b"
      },
      "outputs": [
        {
          "output_type": "display_data",
          "data": {
            "text/plain": [
              "<Figure size 432x288 with 1 Axes>"
            ],
            "image/png": "[encoded data removed]"
          },
          "metadata": {
            "needs_background": "light"
          }
        }
      ],
      "source": [
        "#This plot tells the number of HDD failed in each days\n",
        "ax = Test.groupby(['date', 'failure'])['failure'].count().unstack(1)[1].plot.bar()\n",
        "for p in ax.patches:\n",
        "        ax.annotate('({})'.format(p.get_height()), (p.get_x()+0.1, p.get_height()+0.1))\n",
        "plt.legend()\n",
        "plt.title(\"Number of HDD falied in each Day's\")\n",
        "plt.show()"
      ]
    },
    {
      "cell_type": "code",
      "execution_count": 16,
      "metadata": {
        "colab": {
          "base_uri": "https://localhost:8080/"
        },
        "id": "z2T1WSOPA8yU",
        "outputId": "0ce7a4e9-c49b-4b27-9e3e-413746ef68a0"
      },
      "outputs": [
        {
          "output_type": "stream",
          "name": "stdout",
          "text": [
            "Number of Unique Models:  59\n",
            "Index(['ST12000NM0007', 'TOSHIBA MG07ACA14TA', 'ST12000NM0008', 'ST4000DM000',\n",
            "       'ST8000NM0055', 'HGST HMS5C4040BLE640', 'HGST HUH721212ALN604',\n",
            "       'ST8000DM002', 'ST12000NM001G', 'ST14000NM001G', 'WDC WUH721414ALE6L4',\n",
            "       'HGST HMS5C4040ALE640', 'HGST HUH721212ALE600', 'HGST HUH721212ALE604',\n",
            "       'ST10000NM0086', 'HGST HUH728080ALE600', 'TOSHIBA MG08ACA16TEY',\n",
            "       'ST6000DX000', 'Seagate BarraCuda SSD ZA250CM10002', 'ST500LM012 HN',\n",
            "       'Seagate BarraCuda 120 SSD ZA250CM10003', 'TOSHIBA MQ01ABF050M',\n",
            "       'ST14000NM0138', 'TOSHIBA MQ01ABF050', 'ST500LM030', 'WDC WD5000LPVX',\n",
            "       'TOSHIBA MG07ACA14TEY', 'DELLBOSS VD', 'Seagate SSD',\n",
            "       'TOSHIBA MD04ABA400V', 'WDC  WUH721414ALE6L4', 'ST18000NM000J',\n",
            "       'ST16000NM001G', 'WDC WD5000LPCX', 'TOSHIBA MG08ACA16TA', 'ST4000DM005',\n",
            "       'MTFDDAV240TCB', 'ST500LM021', 'HGST HUS726040ALE610', 'ST16000NM005G',\n",
            "       'ST8000DM005', 'HGST HDS5C4040ALE630', 'HGST HUH721010ALE600',\n",
            "       'Seagate BarraCuda SSD ZA500CM10002', 'TOSHIBA HDWF180',\n",
            "       'ST12000NM0117', 'WDC WD5000BPKT', 'ST14000NM0018', 'TOSHIBA HDWE160',\n",
            "       'Seagate BarraCuda SSD ZA2000CM10002', 'SSDSCKKB480G8R', 'ST6000DM001',\n",
            "       'WDC WD60EFRX', 'Hitachi HDS5C4040ALE630', 'MTFDDAV240TDU',\n",
            "       'HGST HMS5C4040BLE641', 'ST1000LM024 HN', 'ST6000DM004', 'ST8000DM004'],\n",
            "      dtype='object')\n"
          ]
        }
      ],
      "source": [
        "models = Test.model.value_counts().index\n",
        "print(\"Number of Unique Models: \", len(models))\n",
        "print(models)"
      ]
    },
    {
      "cell_type": "code",
      "execution_count": 17,
      "metadata": {
        "colab": {
          "base_uri": "https://localhost:8080/"
        },
        "id": "xbPG_Nw_nbge",
        "outputId": "eb5248d4-48a2-4594-fa16-c449161c4989"
      },
      "outputs": [
        {
          "output_type": "stream",
          "name": "stdout",
          "text": [
            "ST12000NM0007 failure_rate is 0.00347 %\n",
            "TOSHIBA MG07ACA14TA failure_rate is 0.00095 %\n",
            "ST12000NM0008 failure_rate is 0.00622 %\n",
            "ST4000DM000 failure_rate is 0.00423 %\n",
            "ST8000NM0055 failure_rate is 0 %\n",
            "HGST HMS5C4040BLE640 failure_rate is 0.00157 %\n",
            "HGST HUH721212ALN604 failure_rate is 0 %\n",
            "ST8000DM002 failure_rate is 0 %\n",
            "ST12000NM001G failure_rate is 0.00561 %\n",
            "ST14000NM001G failure_rate is 0 %\n",
            "WDC WUH721414ALE6L4 failure_rate is 0 %\n",
            "HGST HMS5C4040ALE640 failure_rate is 0 %\n",
            "HGST HUH721212ALE600 failure_rate is 0 %\n",
            "HGST HUH721212ALE604 failure_rate is 0 %\n",
            "ST10000NM0086 failure_rate is 0.03331 %\n",
            "HGST HUH728080ALE600 failure_rate is 0 %\n",
            "TOSHIBA MG08ACA16TEY failure_rate is 0 %\n",
            "ST6000DX000 failure_rate is 0 %\n",
            "Seagate BarraCuda SSD ZA250CM10002 failure_rate is 0 %\n",
            "ST500LM012 HN failure_rate is 0 %\n",
            "Seagate BarraCuda 120 SSD ZA250CM10003 failure_rate is 0.04924 %\n",
            "TOSHIBA MQ01ABF050M failure_rate is 0 %\n",
            "ST14000NM0138 failure_rate is 0 %\n",
            "TOSHIBA MQ01ABF050 failure_rate is 0.17007 %\n",
            "ST500LM030 failure_rate is 0 %\n",
            "WDC WD5000LPVX failure_rate is 0 %\n",
            "TOSHIBA MG07ACA14TEY failure_rate is 0 %\n",
            "DELLBOSS VD failure_rate is 0 %\n",
            "Seagate SSD failure_rate is 0 %\n",
            "TOSHIBA MD04ABA400V failure_rate is 0 %\n",
            "WDC  WUH721414ALE6L4 failure_rate is 0 %\n",
            "ST18000NM000J failure_rate is 0 %\n",
            "ST16000NM001G failure_rate is 0 %\n",
            "WDC WD5000LPCX failure_rate is 0 %\n",
            "TOSHIBA MG08ACA16TA failure_rate is 0 %\n",
            "ST4000DM005 failure_rate is 0 %\n",
            "MTFDDAV240TCB failure_rate is 0 %\n",
            "ST500LM021 failure_rate is 0 %\n",
            "HGST HUS726040ALE610 failure_rate is 0 %\n",
            "ST16000NM005G failure_rate is 0 %\n",
            "ST8000DM005 failure_rate is 0 %\n",
            "HGST HDS5C4040ALE630 failure_rate is 0 %\n",
            "HGST HUH721010ALE600 failure_rate is 0 %\n",
            "Seagate BarraCuda SSD ZA500CM10002 failure_rate is 0 %\n",
            "TOSHIBA HDWF180 failure_rate is 0 %\n",
            "ST12000NM0117 failure_rate is 0 %\n",
            "WDC WD5000BPKT failure_rate is 0 %\n",
            "ST14000NM0018 failure_rate is 0 %\n",
            "TOSHIBA HDWE160 failure_rate is 0 %\n",
            "Seagate BarraCuda SSD ZA2000CM10002 failure_rate is 0 %\n",
            "SSDSCKKB480G8R failure_rate is 0 %\n",
            "ST6000DM001 failure_rate is 0 %\n",
            "WDC WD60EFRX failure_rate is 0 %\n",
            "Hitachi HDS5C4040ALE630 failure_rate is 0 %\n",
            "MTFDDAV240TDU failure_rate is 0 %\n",
            "HGST HMS5C4040BLE641 failure_rate is 0 %\n",
            "ST1000LM024 HN failure_rate is 0 %\n",
            "ST6000DM004 failure_rate is 0 %\n",
            "ST8000DM004 failure_rate is 0 %\n"
          ]
        }
      ],
      "source": [
        "# Finding the failure rate of every model in 7 days.\n",
        "for i in models:\n",
        "  try:\n",
        "    c = Test[Test.model == i].failure.value_counts()[1] / len(Test[Test.model == i]) * 100\n",
        "    print(i, 'failure_rate is {:.5f} %'.format(c))\n",
        "  except KeyError:\n",
        "    print(i, 'failure_rate is 0 %')"
      ]
    },
    {
      "cell_type": "markdown",
      "metadata": {
        "id": "SnqlZkpJr19K"
      },
      "source": [
        "From the above it is found that only five models have failed in these 7 days."
      ]
    },
    {
      "cell_type": "code",
      "execution_count": 18,
      "metadata": {
        "colab": {
          "base_uri": "https://localhost:8080/",
          "height": 404
        },
        "id": "__PgAGjT_HLA",
        "outputId": "cbc14c77-429a-4dca-cf7a-2d7e098f7001"
      },
      "outputs": [
        {
          "output_type": "stream",
          "name": "stdout",
          "text": [
            "Warning: Total number of columns (123) exceeds max_columns (20). Falling back to pandas display.\n"
          ]
        },
        {
          "output_type": "execute_result",
          "data": {
            "text/plain": [
              "        date serial_number          model  capacity_bytes  failure  \\\n",
              "0 2021-01-01      ZLW0EGC6  ST12000NM001G  12000138625024        0   \n",
              "1 2021-01-01      Z305B2QN    ST4000DM000   4000787030016        0   \n",
              "2 2021-01-01      ZLW0C6NE  ST12000NM001G  12000138625024        0   \n",
              "3 2021-01-01      ZJV0XJQ3  ST12000NM0007  12000138625024        0   \n",
              "4 2021-01-01      ZLW18MKT  ST14000NM001G  14000519643136        0   \n",
              "\n",
              "   smart_1_normalized  smart_1_raw  smart_2_normalized  smart_2_raw  \\\n",
              "0                83.0  213166608.0                 NaN          NaN   \n",
              "1               114.0   79306032.0                 NaN          NaN   \n",
              "2                72.0   17162816.0                 NaN          NaN   \n",
              "3               100.0    1102160.0                 NaN          NaN   \n",
              "4                75.0   33233248.0                 NaN          NaN   \n",
              "\n",
              "   smart_3_normalized  ...  smart_242_normalized  smart_242_raw  \\\n",
              "0                99.0  ...                 100.0   7.022831e+10   \n",
              "1                91.0  ...                 100.0   5.457889e+11   \n",
              "2                98.0  ...                 100.0   8.706921e+10   \n",
              "3                98.0  ...                 100.0   1.295292e+11   \n",
              "4                95.0  ...                 100.0   1.872005e+10   \n",
              "\n",
              "   smart_245_normalized  smart_245_raw  smart_247_normalized  smart_247_raw  \\\n",
              "0                   NaN            NaN                   NaN            NaN   \n",
              "1                   NaN            NaN                   NaN            NaN   \n",
              "2                   NaN            NaN                   NaN            NaN   \n",
              "3                   NaN            NaN                   NaN            NaN   \n",
              "4                   NaN            NaN                   NaN            NaN   \n",
              "\n",
              "   smart_248_normalized  smart_248_raw  smart_254_normalized  smart_254_raw  \n",
              "0                   NaN            NaN                   NaN            NaN  \n",
              "1                   NaN            NaN                   NaN            NaN  \n",
              "2                   NaN            NaN                   NaN            NaN  \n",
              "3                   NaN            NaN                   NaN            NaN  \n",
              "4                   NaN            NaN                   NaN            NaN  \n",
              "\n",
              "[5 rows x 123 columns]"
            ],
            "text/html": [
              "\n",
              "  <div id=\"df-0e45320c-aab3-48aa-8af0-9053e5190ab5\">\n",
              "    <div class=\"colab-df-container\">\n",
              "      <div>\n",
              "<style scoped>\n",
              "    .dataframe tbody tr th:only-of-type {\n",
              "        vertical-align: middle;\n",
              "    }\n",
              "\n",
              "    .dataframe tbody tr th {\n",
              "        vertical-align: top;\n",
              "    }\n",
              "\n",
              "    .dataframe thead th {\n",
              "        text-align: right;\n",
              "    }\n",
              "</style>\n",
              "<table border=\"1\" class=\"dataframe\">\n",
              "  <thead>\n",
              "    <tr style=\"text-align: right;\">\n",
              "      <th></th>\n",
              "      <th>date</th>\n",
              "      <th>serial_number</th>\n",
              "      <th>model</th>\n",
              "      <th>capacity_bytes</th>\n",
              "      <th>failure</th>\n",
              "      <th>smart_1_normalized</th>\n",
              "      <th>smart_1_raw</th>\n",
              "      <th>smart_2_normalized</th>\n",
              "      <th>smart_2_raw</th>\n",
              "      <th>smart_3_normalized</th>\n",
              "      <th>...</th>\n",
              "      <th>smart_242_normalized</th>\n",
              "      <th>smart_242_raw</th>\n",
              "      <th>smart_245_normalized</th>\n",
              "      <th>smart_245_raw</th>\n",
              "      <th>smart_247_normalized</th>\n",
              "      <th>smart_247_raw</th>\n",
              "      <th>smart_248_normalized</th>\n",
              "      <th>smart_248_raw</th>\n",
              "      <th>smart_254_normalized</th>\n",
              "      <th>smart_254_raw</th>\n",
              "    </tr>\n",
              "  </thead>\n",
              "  <tbody>\n",
              "    <tr>\n",
              "      <th>0</th>\n",
              "      <td>2021-01-01</td>\n",
              "      <td>ZLW0EGC6</td>\n",
              "      <td>ST12000NM001G</td>\n",
              "      <td>12000138625024</td>\n",
              "      <td>0</td>\n",
              "      <td>83.0</td>\n",
              "      <td>213166608.0</td>\n",
              "      <td>NaN</td>\n",
              "      <td>NaN</td>\n",
              "      <td>99.0</td>\n",
              "      <td>...</td>\n",
              "      <td>100.0</td>\n",
              "      <td>7.022831e+10</td>\n",
              "      <td>NaN</td>\n",
              "      <td>NaN</td>\n",
              "      <td>NaN</td>\n",
              "      <td>NaN</td>\n",
              "      <td>NaN</td>\n",
              "      <td>NaN</td>\n",
              "      <td>NaN</td>\n",
              "      <td>NaN</td>\n",
              "    </tr>\n",
              "    <tr>\n",
              "      <th>1</th>\n",
              "      <td>2021-01-01</td>\n",
              "      <td>Z305B2QN</td>\n",
              "      <td>ST4000DM000</td>\n",
              "      <td>4000787030016</td>\n",
              "      <td>0</td>\n",
              "      <td>114.0</td>\n",
              "      <td>79306032.0</td>\n",
              "      <td>NaN</td>\n",
              "      <td>NaN</td>\n",
              "      <td>91.0</td>\n",
              "      <td>...</td>\n",
              "      <td>100.0</td>\n",
              "      <td>5.457889e+11</td>\n",
              "      <td>NaN</td>\n",
              "      <td>NaN</td>\n",
              "      <td>NaN</td>\n",
              "      <td>NaN</td>\n",
              "      <td>NaN</td>\n",
              "      <td>NaN</td>\n",
              "      <td>NaN</td>\n",
              "      <td>NaN</td>\n",
              "    </tr>\n",
              "    <tr>\n",
              "      <th>2</th>\n",
              "      <td>2021-01-01</td>\n",
              "      <td>ZLW0C6NE</td>\n",
              "      <td>ST12000NM001G</td>\n",
              "      <td>12000138625024</td>\n",
              "      <td>0</td>\n",
              "      <td>72.0</td>\n",
              "      <td>17162816.0</td>\n",
              "      <td>NaN</td>\n",
              "      <td>NaN</td>\n",
              "      <td>98.0</td>\n",
              "      <td>...</td>\n",
              "      <td>100.0</td>\n",
              "      <td>8.706921e+10</td>\n",
              "      <td>NaN</td>\n",
              "      <td>NaN</td>\n",
              "      <td>NaN</td>\n",
              "      <td>NaN</td>\n",
              "      <td>NaN</td>\n",
              "      <td>NaN</td>\n",
              "      <td>NaN</td>\n",
              "      <td>NaN</td>\n",
              "    </tr>\n",
              "    <tr>\n",
              "      <th>3</th>\n",
              "      <td>2021-01-01</td>\n",
              "      <td>ZJV0XJQ3</td>\n",
              "      <td>ST12000NM0007</td>\n",
              "      <td>12000138625024</td>\n",
              "      <td>0</td>\n",
              "      <td>100.0</td>\n",
              "      <td>1102160.0</td>\n",
              "      <td>NaN</td>\n",
              "      <td>NaN</td>\n",
              "      <td>98.0</td>\n",
              "      <td>...</td>\n",
              "      <td>100.0</td>\n",
              "      <td>1.295292e+11</td>\n",
              "      <td>NaN</td>\n",
              "      <td>NaN</td>\n",
              "      <td>NaN</td>\n",
              "      <td>NaN</td>\n",
              "      <td>NaN</td>\n",
              "      <td>NaN</td>\n",
              "      <td>NaN</td>\n",
              "      <td>NaN</td>\n",
              "    </tr>\n",
              "    <tr>\n",
              "      <th>4</th>\n",
              "      <td>2021-01-01</td>\n",
              "      <td>ZLW18MKT</td>\n",
              "      <td>ST14000NM001G</td>\n",
              "      <td>14000519643136</td>\n",
              "      <td>0</td>\n",
              "      <td>75.0</td>\n",
              "      <td>33233248.0</td>\n",
              "      <td>NaN</td>\n",
              "      <td>NaN</td>\n",
              "      <td>95.0</td>\n",
              "      <td>...</td>\n",
              "      <td>100.0</td>\n",
              "      <td>1.872005e+10</td>\n",
              "      <td>NaN</td>\n",
              "      <td>NaN</td>\n",
              "      <td>NaN</td>\n",
              "      <td>NaN</td>\n",
              "      <td>NaN</td>\n",
              "      <td>NaN</td>\n",
              "      <td>NaN</td>\n",
              "      <td>NaN</td>\n",
              "    </tr>\n",
              "  </tbody>\n",
              "</table>\n",
              "<p>5 rows × 123 columns</p>\n",
              "</div>\n",
              "      <button class=\"colab-df-convert\" onclick=\"convertToInteractive('df-0e45320c-aab3-48aa-8af0-9053e5190ab5')\"\n",
              "              title=\"Convert this dataframe to an interactive table.\"\n",
              "              style=\"display:none;\">\n",
              "        \n",
              "  <svg xmlns=\"http://www.w3.org/2000/svg\" height=\"24px\"viewBox=\"0 0 24 24\"\n",
              "       width=\"24px\">\n",
              "    <path d=\"M0 0h24v24H0V0z\" fill=\"none\"/>\n",
              "    <path d=\"M18.56 5.44l.94 2.06.94-2.06 2.06-.94-2.06-.94-.94-2.06-.94 2.06-2.06.94zm-11 1L8.5 8.5l.94-2.06 2.06-.94-2.06-.94L8.5 2.5l-.94 2.06-2.06.94zm10 10l.94 2.06.94-2.06 2.06-.94-2.06-.94-.94-2.06-.94 2.06-2.06.94z\"/><path d=\"M17.41 7.96l-1.37-1.37c-.4-.4-.92-.59-1.43-.59-.52 0-1.04.2-1.43.59L10.3 9.45l-7.72 7.72c-.78.78-.78 2.05 0 2.83L4 21.41c.39.39.9.59 1.41.59.51 0 1.02-.2 1.41-.59l7.78-7.78 2.81-2.81c.8-.78.8-2.07 0-2.86zM5.41 20L4 18.59l7.72-7.72 1.47 1.35L5.41 20z\"/>\n",
              "  </svg>\n",
              "      </button>\n",
              "      \n",
              "  <style>\n",
              "    .colab-df-container {\n",
              "      display:flex;\n",
              "      flex-wrap:wrap;\n",
              "      gap: 12px;\n",
              "    }\n",
              "\n",
              "    .colab-df-convert {\n",
              "      background-color: #E8F0FE;\n",
              "      border: none;\n",
              "      border-radius: 50%;\n",
              "      cursor: pointer;\n",
              "      display: none;\n",
              "      fill: #1967D2;\n",
              "      height: 32px;\n",
              "      padding: 0 0 0 0;\n",
              "      width: 32px;\n",
              "    }\n",
              "\n",
              "    .colab-df-convert:hover {\n",
              "      background-color: #E2EBFA;\n",
              "      box-shadow: 0px 1px 2px rgba(60, 64, 67, 0.3), 0px 1px 3px 1px rgba(60, 64, 67, 0.15);\n",
              "      fill: #174EA6;\n",
              "    }\n",
              "\n",
              "    [theme=dark] .colab-df-convert {\n",
              "      background-color: #3B4455;\n",
              "      fill: #D2E3FC;\n",
              "    }\n",
              "\n",
              "    [theme=dark] .colab-df-convert:hover {\n",
              "      background-color: #434B5C;\n",
              "      box-shadow: 0px 1px 3px 1px rgba(0, 0, 0, 0.15);\n",
              "      filter: drop-shadow(0px 1px 2px rgba(0, 0, 0, 0.3));\n",
              "      fill: #FFFFFF;\n",
              "    }\n",
              "  </style>\n",
              "\n",
              "      <script>\n",
              "        const buttonEl =\n",
              "          document.querySelector('#df-0e45320c-aab3-48aa-8af0-9053e5190ab5 button.colab-df-convert');\n",
              "        buttonEl.style.display =\n",
              "          google.colab.kernel.accessAllowed ? 'block' : 'none';\n",
              "\n",
              "        async function convertToInteractive(key) {\n",
              "          const element = document.querySelector('#df-0e45320c-aab3-48aa-8af0-9053e5190ab5');\n",
              "          const dataTable =\n",
              "            await google.colab.kernel.invokeFunction('convertToInteractive',\n",
              "                                                     [key], {});\n",
              "          if (!dataTable) return;\n",
              "\n",
              "          const docLinkHtml = 'Like what you see? Visit the ' +\n",
              "            '<a target=\"_blank\" href=https://colab.research.google.com/notebooks/data_table.ipynb>data table notebook</a>'\n",
              "            + ' to learn more about interactive tables.';\n",
              "          element.innerHTML = '';\n",
              "          dataTable['output_type'] = 'display_data';\n",
              "          await google.colab.output.renderOutput(dataTable, element);\n",
              "          const docLink = document.createElement('div');\n",
              "          docLink.innerHTML = docLinkHtml;\n",
              "          element.appendChild(docLink);\n",
              "        }\n",
              "      </script>\n",
              "    </div>\n",
              "  </div>\n",
              "  "
            ]
          },
          "metadata": {},
          "execution_count": 18
        }
      ],
      "source": [
        "Test.head()"
      ]
    },
    {
      "cell_type": "code",
      "execution_count": 19,
      "metadata": {
        "colab": {
          "base_uri": "https://localhost:8080/"
        },
        "id": "qIrnuvjuZac5",
        "outputId": "1c9260db-f085-4976-9c61-26c7787e399c"
      },
      "outputs": [
        {
          "output_type": "stream",
          "name": "stdout",
          "text": [
            "date                    0.000000\n",
            "serial_number           0.000000\n",
            "model                   0.000000\n",
            "capacity_bytes          0.000000\n",
            "failure                 0.000000\n",
            "                          ...   \n",
            "smart_247_raw           0.999988\n",
            "smart_248_normalized    0.999988\n",
            "smart_248_raw           0.999988\n",
            "smart_254_normalized    0.998284\n",
            "smart_254_raw           0.998284\n",
            "Length: 123, dtype: float64\n"
          ]
        },
        {
          "output_type": "execute_result",
          "data": {
            "text/plain": [
              "90"
            ]
          },
          "metadata": {},
          "execution_count": 19
        }
      ],
      "source": [
        "# Finding the features which has NaN percentage greater than 50%\n",
        "M_features = Test.columns\n",
        "print(Test.isnull().sum(axis = 0) / len(Test))\n",
        "index = np.where(Test.isnull().sum(axis = 0) / len(Test) >= 0.5)[0]\n",
        "len(index) # Count of the found features."
      ]
    },
    {
      "cell_type": "code",
      "execution_count": 20,
      "metadata": {
        "colab": {
          "base_uri": "https://localhost:8080/"
        },
        "id": "MoHqoQayZrVe",
        "outputId": "6e26b88d-1561-46d8-c27f-c86bc230e36c"
      },
      "outputs": [
        {
          "output_type": "execute_result",
          "data": {
            "text/plain": [
              "Index(['smart_2_normalized', 'smart_2_raw', 'smart_8_normalized',\n",
              "       'smart_8_raw', 'smart_11_normalized', 'smart_11_raw',\n",
              "       'smart_13_normalized', 'smart_13_raw', 'smart_16_normalized',\n",
              "       'smart_16_raw', 'smart_17_normalized', 'smart_17_raw',\n",
              "       'smart_18_normalized', 'smart_18_raw', 'smart_22_normalized',\n",
              "       'smart_22_raw', 'smart_23_normalized', 'smart_23_raw',\n",
              "       'smart_24_normalized', 'smart_24_raw', 'smart_168_normalized',\n",
              "       'smart_168_raw', 'smart_170_normalized', 'smart_170_raw',\n",
              "       'smart_173_normalized', 'smart_173_raw', 'smart_174_normalized',\n",
              "       'smart_174_raw', 'smart_175_normalized', 'smart_175_raw',\n",
              "       'smart_177_normalized', 'smart_177_raw', 'smart_179_normalized',\n",
              "       'smart_179_raw', 'smart_180_normalized', 'smart_180_raw',\n",
              "       'smart_181_normalized', 'smart_181_raw', 'smart_182_normalized',\n",
              "       'smart_182_raw', 'smart_183_normalized', 'smart_183_raw',\n",
              "       'smart_189_normalized', 'smart_189_raw', 'smart_191_normalized',\n",
              "       'smart_191_raw', 'smart_195_normalized', 'smart_195_raw',\n",
              "       'smart_200_normalized', 'smart_200_raw', 'smart_201_normalized',\n",
              "       'smart_201_raw', 'smart_202_normalized', 'smart_202_raw',\n",
              "       'smart_206_normalized', 'smart_206_raw', 'smart_210_normalized',\n",
              "       'smart_210_raw', 'smart_218_normalized', 'smart_218_raw',\n",
              "       'smart_220_normalized', 'smart_220_raw', 'smart_222_normalized',\n",
              "       'smart_222_raw', 'smart_223_normalized', 'smart_223_raw',\n",
              "       'smart_224_normalized', 'smart_224_raw', 'smart_225_normalized',\n",
              "       'smart_225_raw', 'smart_226_normalized', 'smart_226_raw',\n",
              "       'smart_231_normalized', 'smart_231_raw', 'smart_232_normalized',\n",
              "       'smart_232_raw', 'smart_233_normalized', 'smart_233_raw',\n",
              "       'smart_234_normalized', 'smart_234_raw', 'smart_235_normalized',\n",
              "       'smart_235_raw', 'smart_245_normalized', 'smart_245_raw',\n",
              "       'smart_247_normalized', 'smart_247_raw', 'smart_248_normalized',\n",
              "       'smart_248_raw', 'smart_254_normalized', 'smart_254_raw'],\n",
              "      dtype='object')"
            ]
          },
          "metadata": {},
          "execution_count": 20
        }
      ],
      "source": [
        "M_features[index]"
      ]
    },
    {
      "cell_type": "markdown",
      "metadata": {
        "id": "WXU7S9oQRTRY"
      },
      "source": [
        "##### These are the attributes which have more than 50% of NaN."
      ]
    },
    {
      "cell_type": "markdown",
      "metadata": {
        "id": "3xksfbafvM4j"
      },
      "source": [
        "# 3. Relevant Features for Dataset"
      ]
    },
    {
      "cell_type": "code",
      "execution_count": 21,
      "metadata": {
        "id": "kv6Ej__mDw9Y"
      },
      "outputs": [],
      "source": [
        "f = ['date',\t'serial_number',\t'model',\t'capacity_bytes',\t'failure']"
      ]
    },
    {
      "cell_type": "code",
      "execution_count": 22,
      "metadata": {
        "colab": {
          "base_uri": "https://localhost:8080/"
        },
        "id": "ceWtz821xuBE",
        "outputId": "6c40adf2-ddeb-4956-8535-ee2f256112d3"
      },
      "outputs": [
        {
          "output_type": "execute_result",
          "data": {
            "text/plain": [
              "10"
            ]
          },
          "metadata": {},
          "execution_count": 22
        }
      ],
      "source": [
        "Null = np.where(Data.isnull().sum(axis = 0) == len(Data))[0]\n",
        "len(Initial[Null])"
      ]
    },
    {
      "cell_type": "code",
      "execution_count": 23,
      "metadata": {
        "colab": {
          "base_uri": "https://localhost:8080/"
        },
        "id": "gX70BgpLXmSr",
        "outputId": "8f1386b1-684c-4230-f9fc-d20ef9384ad8"
      },
      "outputs": [
        {
          "output_type": "stream",
          "name": "stdout",
          "text": [
            "(827509, 139)\n"
          ]
        }
      ],
      "source": [
        "# Dropping the features with all instances as NaN from the original Dataset.\n",
        "Data.dropna(how = 'all', axis = 1, inplace = True) \n",
        "print(Data.shape)\n",
        "del Test # Removing the Test Dataframe to free the memory."
      ]
    },
    {
      "cell_type": "code",
      "execution_count": 24,
      "metadata": {
        "colab": {
          "base_uri": "https://localhost:8080/"
        },
        "id": "yHgE7Y6cZ7yY",
        "outputId": "1a9a23c1-e1ae-4683-917d-9609e9ee8a0d"
      },
      "outputs": [
        {
          "output_type": "execute_result",
          "data": {
            "text/plain": [
              "(827509, 49)"
            ]
          },
          "metadata": {},
          "execution_count": 24
        }
      ],
      "source": [
        "# Dropping the uncommon features found from above task from the original Dataset.\n",
        "Data.drop(M_features[index], axis = 1, inplace = True)\n",
        "Data.shape # Final shape of Data with relevant SMART attributes."
      ]
    },
    {
      "cell_type": "code",
      "execution_count": 25,
      "metadata": {
        "colab": {
          "base_uri": "https://localhost:8080/",
          "height": 404
        },
        "id": "MODn4jrYXmku",
        "outputId": "9f80535f-2a3f-4db2-877c-8f911f69cad3"
      },
      "outputs": [
        {
          "output_type": "stream",
          "name": "stdout",
          "text": [
            "Warning: Total number of columns (49) exceeds max_columns (20). Falling back to pandas display.\n"
          ]
        },
        {
          "output_type": "execute_result",
          "data": {
            "text/plain": [
              "        date serial_number          model  capacity_bytes  failure  \\\n",
              "0 2021-01-01      ZLW0EGC6  ST12000NM001G  12000138625024        0   \n",
              "1 2021-01-01      Z305B2QN    ST4000DM000   4000787030016        0   \n",
              "2 2021-01-01      ZLW0C6NE  ST12000NM001G  12000138625024        0   \n",
              "3 2021-01-01      ZJV0XJQ3  ST12000NM0007  12000138625024        0   \n",
              "4 2021-01-01      ZLW18MKT  ST14000NM001G  14000519643136        0   \n",
              "\n",
              "   smart_1_normalized  smart_1_raw  smart_3_normalized  smart_3_raw  \\\n",
              "0                83.0  213166608.0                99.0          0.0   \n",
              "1               114.0   79306032.0                91.0          0.0   \n",
              "2                72.0   17162816.0                98.0          0.0   \n",
              "3               100.0    1102160.0                98.0          0.0   \n",
              "4                75.0   33233248.0                95.0          0.0   \n",
              "\n",
              "   smart_4_normalized  ...  smart_198_normalized  smart_198_raw  \\\n",
              "0               100.0  ...                 100.0            0.0   \n",
              "1               100.0  ...                 100.0            0.0   \n",
              "2               100.0  ...                 100.0            0.0   \n",
              "3               100.0  ...                 100.0            0.0   \n",
              "4               100.0  ...                 100.0            0.0   \n",
              "\n",
              "   smart_199_normalized  smart_199_raw  smart_240_normalized  smart_240_raw  \\\n",
              "0                 200.0            0.0                 100.0         4910.0   \n",
              "1                 200.0            0.0                 100.0        44001.0   \n",
              "2                 200.0            0.0                 100.0         5414.0   \n",
              "3                 200.0            0.0                 100.0        17282.0   \n",
              "4                 200.0            0.0                 100.0          745.0   \n",
              "\n",
              "   smart_241_normalized  smart_241_raw  smart_242_normalized  smart_242_raw  \n",
              "0                 100.0   4.839342e+10                 100.0   7.022831e+10  \n",
              "1                 100.0   5.940338e+10                 100.0   5.457889e+11  \n",
              "2                 100.0   4.917863e+10                 100.0   8.706921e+10  \n",
              "3                 100.0   5.260102e+10                 100.0   1.295292e+11  \n",
              "4                 100.0   1.647225e+10                 100.0   1.872005e+10  \n",
              "\n",
              "[5 rows x 49 columns]"
            ],
            "text/html": [
              "\n",
              "  <div id=\"df-daf5fdd6-634c-4ad3-ae08-e556d4a482b9\">\n",
              "    <div class=\"colab-df-container\">\n",
              "      <div>\n",
              "<style scoped>\n",
              "    .dataframe tbody tr th:only-of-type {\n",
              "        vertical-align: middle;\n",
              "    }\n",
              "\n",
              "    .dataframe tbody tr th {\n",
              "        vertical-align: top;\n",
              "    }\n",
              "\n",
              "    .dataframe thead th {\n",
              "        text-align: right;\n",
              "    }\n",
              "</style>\n",
              "<table border=\"1\" class=\"dataframe\">\n",
              "  <thead>\n",
              "    <tr style=\"text-align: right;\">\n",
              "      <th></th>\n",
              "      <th>date</th>\n",
              "      <th>serial_number</th>\n",
              "      <th>model</th>\n",
              "      <th>capacity_bytes</th>\n",
              "      <th>failure</th>\n",
              "      <th>smart_1_normalized</th>\n",
              "      <th>smart_1_raw</th>\n",
              "      <th>smart_3_normalized</th>\n",
              "      <th>smart_3_raw</th>\n",
              "      <th>smart_4_normalized</th>\n",
              "      <th>...</th>\n",
              "      <th>smart_198_normalized</th>\n",
              "      <th>smart_198_raw</th>\n",
              "      <th>smart_199_normalized</th>\n",
              "      <th>smart_199_raw</th>\n",
              "      <th>smart_240_normalized</th>\n",
              "      <th>smart_240_raw</th>\n",
              "      <th>smart_241_normalized</th>\n",
              "      <th>smart_241_raw</th>\n",
              "      <th>smart_242_normalized</th>\n",
              "      <th>smart_242_raw</th>\n",
              "    </tr>\n",
              "  </thead>\n",
              "  <tbody>\n",
              "    <tr>\n",
              "      <th>0</th>\n",
              "      <td>2021-01-01</td>\n",
              "      <td>ZLW0EGC6</td>\n",
              "      <td>ST12000NM001G</td>\n",
              "      <td>12000138625024</td>\n",
              "      <td>0</td>\n",
              "      <td>83.0</td>\n",
              "      <td>213166608.0</td>\n",
              "      <td>99.0</td>\n",
              "      <td>0.0</td>\n",
              "      <td>100.0</td>\n",
              "      <td>...</td>\n",
              "      <td>100.0</td>\n",
              "      <td>0.0</td>\n",
              "      <td>200.0</td>\n",
              "      <td>0.0</td>\n",
              "      <td>100.0</td>\n",
              "      <td>4910.0</td>\n",
              "      <td>100.0</td>\n",
              "      <td>4.839342e+10</td>\n",
              "      <td>100.0</td>\n",
              "      <td>7.022831e+10</td>\n",
              "    </tr>\n",
              "    <tr>\n",
              "      <th>1</th>\n",
              "      <td>2021-01-01</td>\n",
              "      <td>Z305B2QN</td>\n",
              "      <td>ST4000DM000</td>\n",
              "      <td>4000787030016</td>\n",
              "      <td>0</td>\n",
              "      <td>114.0</td>\n",
              "      <td>79306032.0</td>\n",
              "      <td>91.0</td>\n",
              "      <td>0.0</td>\n",
              "      <td>100.0</td>\n",
              "      <td>...</td>\n",
              "      <td>100.0</td>\n",
              "      <td>0.0</td>\n",
              "      <td>200.0</td>\n",
              "      <td>0.0</td>\n",
              "      <td>100.0</td>\n",
              "      <td>44001.0</td>\n",
              "      <td>100.0</td>\n",
              "      <td>5.940338e+10</td>\n",
              "      <td>100.0</td>\n",
              "      <td>5.457889e+11</td>\n",
              "    </tr>\n",
              "    <tr>\n",
              "      <th>2</th>\n",
              "      <td>2021-01-01</td>\n",
              "      <td>ZLW0C6NE</td>\n",
              "      <td>ST12000NM001G</td>\n",
              "      <td>12000138625024</td>\n",
              "      <td>0</td>\n",
              "      <td>72.0</td>\n",
              "      <td>17162816.0</td>\n",
              "      <td>98.0</td>\n",
              "      <td>0.0</td>\n",
              "      <td>100.0</td>\n",
              "      <td>...</td>\n",
              "      <td>100.0</td>\n",
              "      <td>0.0</td>\n",
              "      <td>200.0</td>\n",
              "      <td>0.0</td>\n",
              "      <td>100.0</td>\n",
              "      <td>5414.0</td>\n",
              "      <td>100.0</td>\n",
              "      <td>4.917863e+10</td>\n",
              "      <td>100.0</td>\n",
              "      <td>8.706921e+10</td>\n",
              "    </tr>\n",
              "    <tr>\n",
              "      <th>3</th>\n",
              "      <td>2021-01-01</td>\n",
              "      <td>ZJV0XJQ3</td>\n",
              "      <td>ST12000NM0007</td>\n",
              "      <td>12000138625024</td>\n",
              "      <td>0</td>\n",
              "      <td>100.0</td>\n",
              "      <td>1102160.0</td>\n",
              "      <td>98.0</td>\n",
              "      <td>0.0</td>\n",
              "      <td>100.0</td>\n",
              "      <td>...</td>\n",
              "      <td>100.0</td>\n",
              "      <td>0.0</td>\n",
              "      <td>200.0</td>\n",
              "      <td>0.0</td>\n",
              "      <td>100.0</td>\n",
              "      <td>17282.0</td>\n",
              "      <td>100.0</td>\n",
              "      <td>5.260102e+10</td>\n",
              "      <td>100.0</td>\n",
              "      <td>1.295292e+11</td>\n",
              "    </tr>\n",
              "    <tr>\n",
              "      <th>4</th>\n",
              "      <td>2021-01-01</td>\n",
              "      <td>ZLW18MKT</td>\n",
              "      <td>ST14000NM001G</td>\n",
              "      <td>14000519643136</td>\n",
              "      <td>0</td>\n",
              "      <td>75.0</td>\n",
              "      <td>33233248.0</td>\n",
              "      <td>95.0</td>\n",
              "      <td>0.0</td>\n",
              "      <td>100.0</td>\n",
              "      <td>...</td>\n",
              "      <td>100.0</td>\n",
              "      <td>0.0</td>\n",
              "      <td>200.0</td>\n",
              "      <td>0.0</td>\n",
              "      <td>100.0</td>\n",
              "      <td>745.0</td>\n",
              "      <td>100.0</td>\n",
              "      <td>1.647225e+10</td>\n",
              "      <td>100.0</td>\n",
              "      <td>1.872005e+10</td>\n",
              "    </tr>\n",
              "  </tbody>\n",
              "</table>\n",
              "<p>5 rows × 49 columns</p>\n",
              "</div>\n",
              "      <button class=\"colab-df-convert\" onclick=\"convertToInteractive('df-daf5fdd6-634c-4ad3-ae08-e556d4a482b9')\"\n",
              "              title=\"Convert this dataframe to an interactive table.\"\n",
              "              style=\"display:none;\">\n",
              "        \n",
              "  <svg xmlns=\"http://www.w3.org/2000/svg\" height=\"24px\"viewBox=\"0 0 24 24\"\n",
              "       width=\"24px\">\n",
              "    <path d=\"M0 0h24v24H0V0z\" fill=\"none\"/>\n",
              "    <path d=\"M18.56 5.44l.94 2.06.94-2.06 2.06-.94-2.06-.94-.94-2.06-.94 2.06-2.06.94zm-11 1L8.5 8.5l.94-2.06 2.06-.94-2.06-.94L8.5 2.5l-.94 2.06-2.06.94zm10 10l.94 2.06.94-2.06 2.06-.94-2.06-.94-.94-2.06-.94 2.06-2.06.94z\"/><path d=\"M17.41 7.96l-1.37-1.37c-.4-.4-.92-.59-1.43-.59-.52 0-1.04.2-1.43.59L10.3 9.45l-7.72 7.72c-.78.78-.78 2.05 0 2.83L4 21.41c.39.39.9.59 1.41.59.51 0 1.02-.2 1.41-.59l7.78-7.78 2.81-2.81c.8-.78.8-2.07 0-2.86zM5.41 20L4 18.59l7.72-7.72 1.47 1.35L5.41 20z\"/>\n",
              "  </svg>\n",
              "      </button>\n",
              "      \n",
              "  <style>\n",
              "    .colab-df-container {\n",
              "      display:flex;\n",
              "      flex-wrap:wrap;\n",
              "      gap: 12px;\n",
              "    }\n",
              "\n",
              "    .colab-df-convert {\n",
              "      background-color: #E8F0FE;\n",
              "      border: none;\n",
              "      border-radius: 50%;\n",
              "      cursor: pointer;\n",
              "      display: none;\n",
              "      fill: #1967D2;\n",
              "      height: 32px;\n",
              "      padding: 0 0 0 0;\n",
              "      width: 32px;\n",
              "    }\n",
              "\n",
              "    .colab-df-convert:hover {\n",
              "      background-color: #E2EBFA;\n",
              "      box-shadow: 0px 1px 2px rgba(60, 64, 67, 0.3), 0px 1px 3px 1px rgba(60, 64, 67, 0.15);\n",
              "      fill: #174EA6;\n",
              "    }\n",
              "\n",
              "    [theme=dark] .colab-df-convert {\n",
              "      background-color: #3B4455;\n",
              "      fill: #D2E3FC;\n",
              "    }\n",
              "\n",
              "    [theme=dark] .colab-df-convert:hover {\n",
              "      background-color: #434B5C;\n",
              "      box-shadow: 0px 1px 3px 1px rgba(0, 0, 0, 0.15);\n",
              "      filter: drop-shadow(0px 1px 2px rgba(0, 0, 0, 0.3));\n",
              "      fill: #FFFFFF;\n",
              "    }\n",
              "  </style>\n",
              "\n",
              "      <script>\n",
              "        const buttonEl =\n",
              "          document.querySelector('#df-daf5fdd6-634c-4ad3-ae08-e556d4a482b9 button.colab-df-convert');\n",
              "        buttonEl.style.display =\n",
              "          google.colab.kernel.accessAllowed ? 'block' : 'none';\n",
              "\n",
              "        async function convertToInteractive(key) {\n",
              "          const element = document.querySelector('#df-daf5fdd6-634c-4ad3-ae08-e556d4a482b9');\n",
              "          const dataTable =\n",
              "            await google.colab.kernel.invokeFunction('convertToInteractive',\n",
              "                                                     [key], {});\n",
              "          if (!dataTable) return;\n",
              "\n",
              "          const docLinkHtml = 'Like what you see? Visit the ' +\n",
              "            '<a target=\"_blank\" href=https://colab.research.google.com/notebooks/data_table.ipynb>data table notebook</a>'\n",
              "            + ' to learn more about interactive tables.';\n",
              "          element.innerHTML = '';\n",
              "          dataTable['output_type'] = 'display_data';\n",
              "          await google.colab.output.renderOutput(dataTable, element);\n",
              "          const docLink = document.createElement('div');\n",
              "          docLink.innerHTML = docLinkHtml;\n",
              "          element.appendChild(docLink);\n",
              "        }\n",
              "      </script>\n",
              "    </div>\n",
              "  </div>\n",
              "  "
            ]
          },
          "metadata": {},
          "execution_count": 25
        }
      ],
      "source": [
        "Data.head()"
      ]
    },
    {
      "cell_type": "code",
      "execution_count": 26,
      "metadata": {
        "colab": {
          "base_uri": "https://localhost:8080/",
          "height": 411
        },
        "id": "cipKObSpgLZW",
        "outputId": "8d5e4e11-6282-4190-a878-3778406cb301"
      },
      "outputs": [
        {
          "output_type": "stream",
          "name": "stdout",
          "text": [
            "Warning: Total number of columns (46) exceeds max_columns (20). Falling back to pandas display.\n"
          ]
        },
        {
          "output_type": "execute_result",
          "data": {
            "text/plain": [
              "       capacity_bytes        failure  smart_1_normalized   smart_1_raw  \\\n",
              "count    8.275090e+05  827509.000000       826837.000000  8.268370e+05   \n",
              "mean     9.877604e+12       0.000029           92.109367  7.489772e+07   \n",
              "std      3.878876e+12       0.005385           13.814933  8.108625e+07   \n",
              "min     -1.000000e+00       0.000000           48.000000  0.000000e+00   \n",
              "25%      8.001563e+12       0.000000           81.000000  0.000000e+00   \n",
              "50%      1.200014e+13       0.000000          100.000000  4.528490e+07   \n",
              "75%      1.200014e+13       0.000000          100.000000  1.441926e+08   \n",
              "max      1.800021e+13       1.000000          200.000000  4.515787e+08   \n",
              "\n",
              "       smart_3_normalized    smart_3_raw  smart_4_normalized    smart_4_raw  \\\n",
              "count       821146.000000  821146.000000       821146.000000  821146.000000   \n",
              "mean            98.571473    1108.194427           99.998563       9.613792   \n",
              "std             15.400574    2610.030659            0.105493     113.979821   \n",
              "min             75.000000       0.000000           75.000000       1.000000   \n",
              "25%             91.000000       0.000000          100.000000       2.000000   \n",
              "50%             97.000000       0.000000          100.000000       5.000000   \n",
              "75%            100.000000     380.000000          100.000000      10.000000   \n",
              "max            253.000000   11111.000000          100.000000   25141.000000   \n",
              "\n",
              "       smart_5_normalized    smart_5_raw  ...  smart_198_normalized  \\\n",
              "count       821366.000000  821366.000000  ...         821366.000000   \n",
              "mean           100.555372      39.525386  ...            100.420319   \n",
              "std              8.978446    1035.302951  ...              7.992256   \n",
              "min              1.000000       0.000000  ...              1.000000   \n",
              "25%            100.000000       0.000000  ...            100.000000   \n",
              "50%            100.000000       0.000000  ...            100.000000   \n",
              "75%            100.000000       0.000000  ...            100.000000   \n",
              "max            252.000000   65480.000000  ...            252.000000   \n",
              "\n",
              "       smart_198_raw  smart_199_normalized  smart_199_raw  \\\n",
              "count  821366.000000         821366.000000  821366.000000   \n",
              "mean        0.411193            196.317354       0.523777   \n",
              "std       101.417785             18.833564      37.496426   \n",
              "min         0.000000            100.000000       0.000000   \n",
              "25%         0.000000            200.000000       0.000000   \n",
              "50%         0.000000            200.000000       0.000000   \n",
              "75%         0.000000            200.000000       0.000000   \n",
              "max     41040.000000            200.000000    7670.000000   \n",
              "\n",
              "       smart_240_normalized  smart_240_raw  smart_241_normalized  \\\n",
              "count         617451.000000  617451.000000         531854.000000   \n",
              "mean              99.958756   19539.948509            100.009401   \n",
              "std                1.596372   16815.497165              0.969547   \n",
              "min                8.000000       0.000000            100.000000   \n",
              "25%              100.000000    2641.000000            100.000000   \n",
              "50%              100.000000   17421.000000            100.000000   \n",
              "75%              100.000000   33203.000000            100.000000   \n",
              "max              100.000000   67845.000000            200.000000   \n",
              "\n",
              "       smart_241_raw  smart_242_normalized  smart_242_raw  \n",
              "count   5.318540e+05         531844.000000   5.318440e+05  \n",
              "mean    5.612417e+10            100.009401   1.923745e+11  \n",
              "std     1.795249e+10              0.969556   1.765763e+11  \n",
              "min     0.000000e+00            100.000000   1.000000e+00  \n",
              "25%     4.848800e+10            100.000000   1.001612e+11  \n",
              "50%     5.912925e+10            100.000000   2.255465e+11  \n",
              "75%     6.771780e+10            100.000000   2.620806e+11  \n",
              "max     2.202436e+11            200.000000   2.818246e+13  \n",
              "\n",
              "[8 rows x 46 columns]"
            ],
            "text/html": [
              "\n",
              "  <div id=\"df-3617388f-64ef-460f-935d-804e3a98eb1d\">\n",
              "    <div class=\"colab-df-container\">\n",
              "      <div>\n",
              "<style scoped>\n",
              "    .dataframe tbody tr th:only-of-type {\n",
              "        vertical-align: middle;\n",
              "    }\n",
              "\n",
              "    .dataframe tbody tr th {\n",
              "        vertical-align: top;\n",
              "    }\n",
              "\n",
              "    .dataframe thead th {\n",
              "        text-align: right;\n",
              "    }\n",
              "</style>\n",
              "<table border=\"1\" class=\"dataframe\">\n",
              "  <thead>\n",
              "    <tr style=\"text-align: right;\">\n",
              "      <th></th>\n",
              "      <th>capacity_bytes</th>\n",
              "      <th>failure</th>\n",
              "      <th>smart_1_normalized</th>\n",
              "      <th>smart_1_raw</th>\n",
              "      <th>smart_3_normalized</th>\n",
              "      <th>smart_3_raw</th>\n",
              "      <th>smart_4_normalized</th>\n",
              "      <th>smart_4_raw</th>\n",
              "      <th>smart_5_normalized</th>\n",
              "      <th>smart_5_raw</th>\n",
              "      <th>...</th>\n",
              "      <th>smart_198_normalized</th>\n",
              "      <th>smart_198_raw</th>\n",
              "      <th>smart_199_normalized</th>\n",
              "      <th>smart_199_raw</th>\n",
              "      <th>smart_240_normalized</th>\n",
              "      <th>smart_240_raw</th>\n",
              "      <th>smart_241_normalized</th>\n",
              "      <th>smart_241_raw</th>\n",
              "      <th>smart_242_normalized</th>\n",
              "      <th>smart_242_raw</th>\n",
              "    </tr>\n",
              "  </thead>\n",
              "  <tbody>\n",
              "    <tr>\n",
              "      <th>count</th>\n",
              "      <td>8.275090e+05</td>\n",
              "      <td>827509.000000</td>\n",
              "      <td>826837.000000</td>\n",
              "      <td>8.268370e+05</td>\n",
              "      <td>821146.000000</td>\n",
              "      <td>821146.000000</td>\n",
              "      <td>821146.000000</td>\n",
              "      <td>821146.000000</td>\n",
              "      <td>821366.000000</td>\n",
              "      <td>821366.000000</td>\n",
              "      <td>...</td>\n",
              "      <td>821366.000000</td>\n",
              "      <td>821366.000000</td>\n",
              "      <td>821366.000000</td>\n",
              "      <td>821366.000000</td>\n",
              "      <td>617451.000000</td>\n",
              "      <td>617451.000000</td>\n",
              "      <td>531854.000000</td>\n",
              "      <td>5.318540e+05</td>\n",
              "      <td>531844.000000</td>\n",
              "      <td>5.318440e+05</td>\n",
              "    </tr>\n",
              "    <tr>\n",
              "      <th>mean</th>\n",
              "      <td>9.877604e+12</td>\n",
              "      <td>0.000029</td>\n",
              "      <td>92.109367</td>\n",
              "      <td>7.489772e+07</td>\n",
              "      <td>98.571473</td>\n",
              "      <td>1108.194427</td>\n",
              "      <td>99.998563</td>\n",
              "      <td>9.613792</td>\n",
              "      <td>100.555372</td>\n",
              "      <td>39.525386</td>\n",
              "      <td>...</td>\n",
              "      <td>100.420319</td>\n",
              "      <td>0.411193</td>\n",
              "      <td>196.317354</td>\n",
              "      <td>0.523777</td>\n",
              "      <td>99.958756</td>\n",
              "      <td>19539.948509</td>\n",
              "      <td>100.009401</td>\n",
              "      <td>5.612417e+10</td>\n",
              "      <td>100.009401</td>\n",
              "      <td>1.923745e+11</td>\n",
              "    </tr>\n",
              "    <tr>\n",
              "      <th>std</th>\n",
              "      <td>3.878876e+12</td>\n",
              "      <td>0.005385</td>\n",
              "      <td>13.814933</td>\n",
              "      <td>8.108625e+07</td>\n",
              "      <td>15.400574</td>\n",
              "      <td>2610.030659</td>\n",
              "      <td>0.105493</td>\n",
              "      <td>113.979821</td>\n",
              "      <td>8.978446</td>\n",
              "      <td>1035.302951</td>\n",
              "      <td>...</td>\n",
              "      <td>7.992256</td>\n",
              "      <td>101.417785</td>\n",
              "      <td>18.833564</td>\n",
              "      <td>37.496426</td>\n",
              "      <td>1.596372</td>\n",
              "      <td>16815.497165</td>\n",
              "      <td>0.969547</td>\n",
              "      <td>1.795249e+10</td>\n",
              "      <td>0.969556</td>\n",
              "      <td>1.765763e+11</td>\n",
              "    </tr>\n",
              "    <tr>\n",
              "      <th>min</th>\n",
              "      <td>-1.000000e+00</td>\n",
              "      <td>0.000000</td>\n",
              "      <td>48.000000</td>\n",
              "      <td>0.000000e+00</td>\n",
              "      <td>75.000000</td>\n",
              "      <td>0.000000</td>\n",
              "      <td>75.000000</td>\n",
              "      <td>1.000000</td>\n",
              "      <td>1.000000</td>\n",
              "      <td>0.000000</td>\n",
              "      <td>...</td>\n",
              "      <td>1.000000</td>\n",
              "      <td>0.000000</td>\n",
              "      <td>100.000000</td>\n",
              "      <td>0.000000</td>\n",
              "      <td>8.000000</td>\n",
              "      <td>0.000000</td>\n",
              "      <td>100.000000</td>\n",
              "      <td>0.000000e+00</td>\n",
              "      <td>100.000000</td>\n",
              "      <td>1.000000e+00</td>\n",
              "    </tr>\n",
              "    <tr>\n",
              "      <th>25%</th>\n",
              "      <td>8.001563e+12</td>\n",
              "      <td>0.000000</td>\n",
              "      <td>81.000000</td>\n",
              "      <td>0.000000e+00</td>\n",
              "      <td>91.000000</td>\n",
              "      <td>0.000000</td>\n",
              "      <td>100.000000</td>\n",
              "      <td>2.000000</td>\n",
              "      <td>100.000000</td>\n",
              "      <td>0.000000</td>\n",
              "      <td>...</td>\n",
              "      <td>100.000000</td>\n",
              "      <td>0.000000</td>\n",
              "      <td>200.000000</td>\n",
              "      <td>0.000000</td>\n",
              "      <td>100.000000</td>\n",
              "      <td>2641.000000</td>\n",
              "      <td>100.000000</td>\n",
              "      <td>4.848800e+10</td>\n",
              "      <td>100.000000</td>\n",
              "      <td>1.001612e+11</td>\n",
              "    </tr>\n",
              "    <tr>\n",
              "      <th>50%</th>\n",
              "      <td>1.200014e+13</td>\n",
              "      <td>0.000000</td>\n",
              "      <td>100.000000</td>\n",
              "      <td>4.528490e+07</td>\n",
              "      <td>97.000000</td>\n",
              "      <td>0.000000</td>\n",
              "      <td>100.000000</td>\n",
              "      <td>5.000000</td>\n",
              "      <td>100.000000</td>\n",
              "      <td>0.000000</td>\n",
              "      <td>...</td>\n",
              "      <td>100.000000</td>\n",
              "      <td>0.000000</td>\n",
              "      <td>200.000000</td>\n",
              "      <td>0.000000</td>\n",
              "      <td>100.000000</td>\n",
              "      <td>17421.000000</td>\n",
              "      <td>100.000000</td>\n",
              "      <td>5.912925e+10</td>\n",
              "      <td>100.000000</td>\n",
              "      <td>2.255465e+11</td>\n",
              "    </tr>\n",
              "    <tr>\n",
              "      <th>75%</th>\n",
              "      <td>1.200014e+13</td>\n",
              "      <td>0.000000</td>\n",
              "      <td>100.000000</td>\n",
              "      <td>1.441926e+08</td>\n",
              "      <td>100.000000</td>\n",
              "      <td>380.000000</td>\n",
              "      <td>100.000000</td>\n",
              "      <td>10.000000</td>\n",
              "      <td>100.000000</td>\n",
              "      <td>0.000000</td>\n",
              "      <td>...</td>\n",
              "      <td>100.000000</td>\n",
              "      <td>0.000000</td>\n",
              "      <td>200.000000</td>\n",
              "      <td>0.000000</td>\n",
              "      <td>100.000000</td>\n",
              "      <td>33203.000000</td>\n",
              "      <td>100.000000</td>\n",
              "      <td>6.771780e+10</td>\n",
              "      <td>100.000000</td>\n",
              "      <td>2.620806e+11</td>\n",
              "    </tr>\n",
              "    <tr>\n",
              "      <th>max</th>\n",
              "      <td>1.800021e+13</td>\n",
              "      <td>1.000000</td>\n",
              "      <td>200.000000</td>\n",
              "      <td>4.515787e+08</td>\n",
              "      <td>253.000000</td>\n",
              "      <td>11111.000000</td>\n",
              "      <td>100.000000</td>\n",
              "      <td>25141.000000</td>\n",
              "      <td>252.000000</td>\n",
              "      <td>65480.000000</td>\n",
              "      <td>...</td>\n",
              "      <td>252.000000</td>\n",
              "      <td>41040.000000</td>\n",
              "      <td>200.000000</td>\n",
              "      <td>7670.000000</td>\n",
              "      <td>100.000000</td>\n",
              "      <td>67845.000000</td>\n",
              "      <td>200.000000</td>\n",
              "      <td>2.202436e+11</td>\n",
              "      <td>200.000000</td>\n",
              "      <td>2.818246e+13</td>\n",
              "    </tr>\n",
              "  </tbody>\n",
              "</table>\n",
              "<p>8 rows × 46 columns</p>\n",
              "</div>\n",
              "      <button class=\"colab-df-convert\" onclick=\"convertToInteractive('df-3617388f-64ef-460f-935d-804e3a98eb1d')\"\n",
              "              title=\"Convert this dataframe to an interactive table.\"\n",
              "              style=\"display:none;\">\n",
              "        \n",
              "  <svg xmlns=\"http://www.w3.org/2000/svg\" height=\"24px\"viewBox=\"0 0 24 24\"\n",
              "       width=\"24px\">\n",
              "    <path d=\"M0 0h24v24H0V0z\" fill=\"none\"/>\n",
              "    <path d=\"M18.56 5.44l.94 2.06.94-2.06 2.06-.94-2.06-.94-.94-2.06-.94 2.06-2.06.94zm-11 1L8.5 8.5l.94-2.06 2.06-.94-2.06-.94L8.5 2.5l-.94 2.06-2.06.94zm10 10l.94 2.06.94-2.06 2.06-.94-2.06-.94-.94-2.06-.94 2.06-2.06.94z\"/><path d=\"M17.41 7.96l-1.37-1.37c-.4-.4-.92-.59-1.43-.59-.52 0-1.04.2-1.43.59L10.3 9.45l-7.72 7.72c-.78.78-.78 2.05 0 2.83L4 21.41c.39.39.9.59 1.41.59.51 0 1.02-.2 1.41-.59l7.78-7.78 2.81-2.81c.8-.78.8-2.07 0-2.86zM5.41 20L4 18.59l7.72-7.72 1.47 1.35L5.41 20z\"/>\n",
              "  </svg>\n",
              "      </button>\n",
              "      \n",
              "  <style>\n",
              "    .colab-df-container {\n",
              "      display:flex;\n",
              "      flex-wrap:wrap;\n",
              "      gap: 12px;\n",
              "    }\n",
              "\n",
              "    .colab-df-convert {\n",
              "      background-color: #E8F0FE;\n",
              "      border: none;\n",
              "      border-radius: 50%;\n",
              "      cursor: pointer;\n",
              "      display: none;\n",
              "      fill: #1967D2;\n",
              "      height: 32px;\n",
              "      padding: 0 0 0 0;\n",
              "      width: 32px;\n",
              "    }\n",
              "\n",
              "    .colab-df-convert:hover {\n",
              "      background-color: #E2EBFA;\n",
              "      box-shadow: 0px 1px 2px rgba(60, 64, 67, 0.3), 0px 1px 3px 1px rgba(60, 64, 67, 0.15);\n",
              "      fill: #174EA6;\n",
              "    }\n",
              "\n",
              "    [theme=dark] .colab-df-convert {\n",
              "      background-color: #3B4455;\n",
              "      fill: #D2E3FC;\n",
              "    }\n",
              "\n",
              "    [theme=dark] .colab-df-convert:hover {\n",
              "      background-color: #434B5C;\n",
              "      box-shadow: 0px 1px 3px 1px rgba(0, 0, 0, 0.15);\n",
              "      filter: drop-shadow(0px 1px 2px rgba(0, 0, 0, 0.3));\n",
              "      fill: #FFFFFF;\n",
              "    }\n",
              "  </style>\n",
              "\n",
              "      <script>\n",
              "        const buttonEl =\n",
              "          document.querySelector('#df-3617388f-64ef-460f-935d-804e3a98eb1d button.colab-df-convert');\n",
              "        buttonEl.style.display =\n",
              "          google.colab.kernel.accessAllowed ? 'block' : 'none';\n",
              "\n",
              "        async function convertToInteractive(key) {\n",
              "          const element = document.querySelector('#df-3617388f-64ef-460f-935d-804e3a98eb1d');\n",
              "          const dataTable =\n",
              "            await google.colab.kernel.invokeFunction('convertToInteractive',\n",
              "                                                     [key], {});\n",
              "          if (!dataTable) return;\n",
              "\n",
              "          const docLinkHtml = 'Like what you see? Visit the ' +\n",
              "            '<a target=\"_blank\" href=https://colab.research.google.com/notebooks/data_table.ipynb>data table notebook</a>'\n",
              "            + ' to learn more about interactive tables.';\n",
              "          element.innerHTML = '';\n",
              "          dataTable['output_type'] = 'display_data';\n",
              "          await google.colab.output.renderOutput(dataTable, element);\n",
              "          const docLink = document.createElement('div');\n",
              "          docLink.innerHTML = docLinkHtml;\n",
              "          element.appendChild(docLink);\n",
              "        }\n",
              "      </script>\n",
              "    </div>\n",
              "  </div>\n",
              "  "
            ]
          },
          "metadata": {},
          "execution_count": 26
        }
      ],
      "source": [
        "Data.describe()"
      ]
    },
    {
      "cell_type": "code",
      "execution_count": 27,
      "metadata": {
        "colab": {
          "base_uri": "https://localhost:8080/"
        },
        "id": "AbWfLdnnmZ6D",
        "outputId": "e72f058a-4e69-4c55-d481-75b8f680868b"
      },
      "outputs": [
        {
          "output_type": "execute_result",
          "data": {
            "text/plain": [
              "Index(['date', 'serial_number', 'model', 'capacity_bytes', 'failure',\n",
              "       'smart_1_normalized', 'smart_1_raw', 'smart_3_normalized',\n",
              "       'smart_3_raw', 'smart_4_normalized', 'smart_4_raw',\n",
              "       'smart_5_normalized', 'smart_5_raw', 'smart_7_normalized',\n",
              "       'smart_7_raw', 'smart_9_normalized', 'smart_9_raw',\n",
              "       'smart_10_normalized', 'smart_10_raw', 'smart_12_normalized',\n",
              "       'smart_12_raw', 'smart_184_normalized', 'smart_184_raw',\n",
              "       'smart_187_normalized', 'smart_187_raw', 'smart_188_normalized',\n",
              "       'smart_188_raw', 'smart_190_normalized', 'smart_190_raw',\n",
              "       'smart_192_normalized', 'smart_192_raw', 'smart_193_normalized',\n",
              "       'smart_193_raw', 'smart_194_normalized', 'smart_194_raw',\n",
              "       'smart_196_normalized', 'smart_196_raw', 'smart_197_normalized',\n",
              "       'smart_197_raw', 'smart_198_normalized', 'smart_198_raw',\n",
              "       'smart_199_normalized', 'smart_199_raw', 'smart_240_normalized',\n",
              "       'smart_240_raw', 'smart_241_normalized', 'smart_241_raw',\n",
              "       'smart_242_normalized', 'smart_242_raw'],\n",
              "      dtype='object')"
            ]
          },
          "metadata": {},
          "execution_count": 27
        }
      ],
      "source": [
        "RE = Data.columns \n",
        "RE"
      ]
    },
    {
      "cell_type": "code",
      "execution_count": 28,
      "metadata": {
        "colab": {
          "base_uri": "https://localhost:8080/"
        },
        "id": "CzgZTu7bM8bd",
        "outputId": "6be87c69-6a5d-4456-c373-7098bb394d5e"
      },
      "outputs": [
        {
          "output_type": "execute_result",
          "data": {
            "text/plain": [
              " 12000.0    326984\n",
              " 4000.0     174751\n",
              " 14000.0    167734\n",
              " 8001.0     126496\n",
              " 500.0        8713\n",
              " 10000.0      6076\n",
              " 16000.0      5693\n",
              " 250.0        5361\n",
              " 6001.0       4490\n",
              " 480.0         600\n",
              " 18000.0       300\n",
              " 240.0         200\n",
              "-1.0            86\n",
              " 2000.0         20\n",
              " 1000.0          5\n",
              "Name: capacity_bytes, dtype: int64"
            ]
          },
          "metadata": {},
          "execution_count": 28
        }
      ],
      "source": [
        "# Since the capacity is in \"bytes\" notation, it is difficult to interpret so it is converted into \"GB\" notation.\n",
        "Data['capacity_bytes'] = (Data['capacity_bytes'] // 1e+9)\n",
        "Data['capacity_bytes'].value_counts() # Finding the counts of each category of HDD based on GB size."
      ]
    },
    {
      "cell_type": "markdown",
      "metadata": {
        "id": "FitTbo9QxMYg"
      },
      "source": [
        "From the above capacity_bytes unique counts, it is found that there is unmatched size value (-1) which is seems to be odd, so datapoints with that capacity is removed."
      ]
    },
    {
      "cell_type": "code",
      "execution_count": 29,
      "metadata": {
        "colab": {
          "base_uri": "https://localhost:8080/"
        },
        "id": "cSZt6F47T0z0",
        "outputId": "35881007-68ff-4d8f-fea8-e08b1e2ef39c"
      },
      "outputs": [
        {
          "output_type": "stream",
          "name": "stdout",
          "text": [
            "(827509, 49)\n",
            "(827423, 49)\n"
          ]
        }
      ],
      "source": [
        "# Removal of odd capacity datapoints.\n",
        "print(Data.shape)\n",
        "Data.drop(np.where(Data['capacity_bytes'] == -1)[0], inplace = True)\n",
        "print(Data.shape)"
      ]
    },
    {
      "cell_type": "code",
      "execution_count": 30,
      "metadata": {
        "colab": {
          "base_uri": "https://localhost:8080/"
        },
        "id": "RVXPlqR3ck8L",
        "outputId": "2fcfe9df-7990-4a64-c582-a5d5670f4514"
      },
      "outputs": [
        {
          "output_type": "execute_result",
          "data": {
            "text/plain": [
              "date                    0\n",
              "serial_number           0\n",
              "model                   0\n",
              "capacity_bytes          0\n",
              "failure                 0\n",
              "smart_1_normalized      0\n",
              "smart_1_raw             0\n",
              "smart_3_normalized      0\n",
              "smart_3_raw             0\n",
              "smart_4_normalized      0\n",
              "smart_4_raw             0\n",
              "smart_5_normalized      0\n",
              "smart_5_raw             0\n",
              "smart_7_normalized      0\n",
              "smart_7_raw             0\n",
              "smart_9_normalized      0\n",
              "smart_9_raw             0\n",
              "smart_10_normalized     0\n",
              "smart_10_raw            0\n",
              "smart_12_normalized     0\n",
              "smart_12_raw            0\n",
              "smart_184_normalized    0\n",
              "smart_184_raw           0\n",
              "smart_187_normalized    0\n",
              "smart_187_raw           0\n",
              "smart_188_normalized    0\n",
              "smart_188_raw           0\n",
              "smart_190_normalized    0\n",
              "smart_190_raw           0\n",
              "smart_192_normalized    0\n",
              "smart_192_raw           0\n",
              "smart_193_normalized    0\n",
              "smart_193_raw           0\n",
              "smart_194_normalized    0\n",
              "smart_194_raw           0\n",
              "smart_196_normalized    0\n",
              "smart_196_raw           0\n",
              "smart_197_normalized    0\n",
              "smart_197_raw           0\n",
              "smart_198_normalized    0\n",
              "smart_198_raw           0\n",
              "smart_199_normalized    0\n",
              "smart_199_raw           0\n",
              "smart_240_normalized    0\n",
              "smart_240_raw           0\n",
              "smart_241_normalized    0\n",
              "smart_241_raw           0\n",
              "smart_242_normalized    0\n",
              "smart_242_raw           0\n",
              "dtype: int64"
            ]
          },
          "metadata": {},
          "execution_count": 30
        }
      ],
      "source": [
        "# Filling the NaN values with zero since imputing with anyother values,\n",
        "# may not be suitable as per the BalckBlaze documentation on SMART attributes.\n",
        "\n",
        "Data = Data.fillna(0)\n",
        "Data.isnull().sum(axis = 0)"
      ]
    },
    {
      "cell_type": "markdown",
      "metadata": {
        "id": "RwjKo-wdj02P"
      },
      "source": [
        "# 4. Feature Engineering\n",
        "\n",
        "\n",
        "\n",
        "\n",
        "\n"
      ]
    },
    {
      "cell_type": "markdown",
      "metadata": {
        "id": "QGLFRXD3LASV"
      },
      "source": [
        "> Feature engineering based on correlation of attributes with target variable(Failure).\n",
        "\n",
        "> Mathematical based feature engineering."
      ]
    },
    {
      "cell_type": "code",
      "execution_count": 31,
      "metadata": {
        "colab": {
          "base_uri": "https://localhost:8080/"
        },
        "id": "T7ykLcgvoriF",
        "outputId": "97b5630c-e9da-4efb-fb87-617f3264c8c1"
      },
      "outputs": [
        {
          "output_type": "execute_result",
          "data": {
            "text/plain": [
              "(827423, 49)"
            ]
          },
          "metadata": {},
          "execution_count": 31
        }
      ],
      "source": [
        "Test = Data.copy()\n",
        "Test.shape "
      ]
    },
    {
      "cell_type": "code",
      "execution_count": 32,
      "metadata": {
        "colab": {
          "base_uri": "https://localhost:8080/",
          "height": 411
        },
        "id": "eSvRSBLVvNWw",
        "outputId": "7746edfd-ab02-40be-f721-6636536f105d"
      },
      "outputs": [
        {
          "output_type": "stream",
          "name": "stdout",
          "text": [
            "Warning: Total number of columns (46) exceeds max_columns (20). Falling back to pandas display.\n"
          ]
        },
        {
          "output_type": "execute_result",
          "data": {
            "text/plain": [
              "       capacity_bytes        failure  smart_1_normalized   smart_1_raw  \\\n",
              "count   827423.000000  827423.000000       827423.000000  8.274230e+05   \n",
              "mean      9878.203453       0.000029           92.044133  7.484468e+07   \n",
              "std       3877.916088       0.005386           14.025749  8.108202e+07   \n",
              "min        240.000000       0.000000            0.000000  0.000000e+00   \n",
              "25%       8001.000000       0.000000           81.000000  0.000000e+00   \n",
              "50%      12000.000000       0.000000          100.000000  4.514909e+07   \n",
              "75%      12000.000000       0.000000          100.000000  1.441262e+08   \n",
              "max      18000.000000       1.000000          200.000000  4.515787e+08   \n",
              "\n",
              "       smart_3_normalized    smart_3_raw  smart_4_normalized    smart_4_raw  \\\n",
              "count       827423.000000  827423.000000       827423.000000  827423.000000   \n",
              "mean            97.823690    1099.787438           99.239953       9.540860   \n",
              "std             17.565005    2601.889063            8.677299     113.549724   \n",
              "min              0.000000       0.000000            0.000000       0.000000   \n",
              "25%             91.000000       0.000000          100.000000       2.000000   \n",
              "50%             97.000000       0.000000          100.000000       5.000000   \n",
              "75%            100.000000     380.000000          100.000000      10.000000   \n",
              "max            253.000000   11111.000000          100.000000   25141.000000   \n",
              "\n",
              "       smart_5_normalized    smart_5_raw  ...  smart_198_normalized  \\\n",
              "count       827423.000000  827423.000000  ...         827423.000000   \n",
              "mean            99.819275      39.236047  ...             99.685211   \n",
              "std             12.389478    1031.512115  ...             11.691369   \n",
              "min              0.000000       0.000000  ...              0.000000   \n",
              "25%            100.000000       0.000000  ...            100.000000   \n",
              "50%            100.000000       0.000000  ...            100.000000   \n",
              "75%            100.000000       0.000000  ...            100.000000   \n",
              "max            252.000000   65480.000000  ...            252.000000   \n",
              "\n",
              "       smart_198_raw  smart_199_normalized  smart_199_raw  \\\n",
              "count  827423.000000         827423.000000  827423.000000   \n",
              "mean        0.408183            194.880249       0.519943   \n",
              "std       101.045904             25.142999      37.358957   \n",
              "min         0.000000              0.000000       0.000000   \n",
              "25%         0.000000            200.000000       0.000000   \n",
              "50%         0.000000            200.000000       0.000000   \n",
              "75%         0.000000            200.000000       0.000000   \n",
              "max     41040.000000            200.000000    7670.000000   \n",
              "\n",
              "       smart_240_normalized  smart_240_raw  smart_241_normalized  \\\n",
              "count         827423.000000  827423.000000         827423.000000   \n",
              "mean              74.592601   14581.369804             64.284411   \n",
              "std               43.520472   16831.774762             47.928770   \n",
              "min                0.000000       0.000000              0.000000   \n",
              "25%                0.000000       0.000000              0.000000   \n",
              "50%              100.000000    5816.000000            100.000000   \n",
              "75%              100.000000   29337.000000            100.000000   \n",
              "max              100.000000   67845.000000            200.000000   \n",
              "\n",
              "       smart_241_raw  smart_242_normalized  smart_242_raw  \n",
              "count   8.274230e+05         827423.000000   8.274230e+05  \n",
              "mean    3.607570e+10             64.283202   1.236529e+11  \n",
              "std     3.050290e+10             47.929130   1.689341e+11  \n",
              "min     0.000000e+00              0.000000   0.000000e+00  \n",
              "25%     0.000000e+00              0.000000   0.000000e+00  \n",
              "50%     4.683655e+10            100.000000   9.188942e+10  \n",
              "75%     6.341446e+10            100.000000   2.468640e+11  \n",
              "max     2.202436e+11            200.000000   2.818246e+13  \n",
              "\n",
              "[8 rows x 46 columns]"
            ],
            "text/html": [
              "\n",
              "  <div id=\"df-107d3867-8563-402e-a583-ab6328831b6c\">\n",
              "    <div class=\"colab-df-container\">\n",
              "      <div>\n",
              "<style scoped>\n",
              "    .dataframe tbody tr th:only-of-type {\n",
              "        vertical-align: middle;\n",
              "    }\n",
              "\n",
              "    .dataframe tbody tr th {\n",
              "        vertical-align: top;\n",
              "    }\n",
              "\n",
              "    .dataframe thead th {\n",
              "        text-align: right;\n",
              "    }\n",
              "</style>\n",
              "<table border=\"1\" class=\"dataframe\">\n",
              "  <thead>\n",
              "    <tr style=\"text-align: right;\">\n",
              "      <th></th>\n",
              "      <th>capacity_bytes</th>\n",
              "      <th>failure</th>\n",
              "      <th>smart_1_normalized</th>\n",
              "      <th>smart_1_raw</th>\n",
              "      <th>smart_3_normalized</th>\n",
              "      <th>smart_3_raw</th>\n",
              "      <th>smart_4_normalized</th>\n",
              "      <th>smart_4_raw</th>\n",
              "      <th>smart_5_normalized</th>\n",
              "      <th>smart_5_raw</th>\n",
              "      <th>...</th>\n",
              "      <th>smart_198_normalized</th>\n",
              "      <th>smart_198_raw</th>\n",
              "      <th>smart_199_normalized</th>\n",
              "      <th>smart_199_raw</th>\n",
              "      <th>smart_240_normalized</th>\n",
              "      <th>smart_240_raw</th>\n",
              "      <th>smart_241_normalized</th>\n",
              "      <th>smart_241_raw</th>\n",
              "      <th>smart_242_normalized</th>\n",
              "      <th>smart_242_raw</th>\n",
              "    </tr>\n",
              "  </thead>\n",
              "  <tbody>\n",
              "    <tr>\n",
              "      <th>count</th>\n",
              "      <td>827423.000000</td>\n",
              "      <td>827423.000000</td>\n",
              "      <td>827423.000000</td>\n",
              "      <td>8.274230e+05</td>\n",
              "      <td>827423.000000</td>\n",
              "      <td>827423.000000</td>\n",
              "      <td>827423.000000</td>\n",
              "      <td>827423.000000</td>\n",
              "      <td>827423.000000</td>\n",
              "      <td>827423.000000</td>\n",
              "      <td>...</td>\n",
              "      <td>827423.000000</td>\n",
              "      <td>827423.000000</td>\n",
              "      <td>827423.000000</td>\n",
              "      <td>827423.000000</td>\n",
              "      <td>827423.000000</td>\n",
              "      <td>827423.000000</td>\n",
              "      <td>827423.000000</td>\n",
              "      <td>8.274230e+05</td>\n",
              "      <td>827423.000000</td>\n",
              "      <td>8.274230e+05</td>\n",
              "    </tr>\n",
              "    <tr>\n",
              "      <th>mean</th>\n",
              "      <td>9878.203453</td>\n",
              "      <td>0.000029</td>\n",
              "      <td>92.044133</td>\n",
              "      <td>7.484468e+07</td>\n",
              "      <td>97.823690</td>\n",
              "      <td>1099.787438</td>\n",
              "      <td>99.239953</td>\n",
              "      <td>9.540860</td>\n",
              "      <td>99.819275</td>\n",
              "      <td>39.236047</td>\n",
              "      <td>...</td>\n",
              "      <td>99.685211</td>\n",
              "      <td>0.408183</td>\n",
              "      <td>194.880249</td>\n",
              "      <td>0.519943</td>\n",
              "      <td>74.592601</td>\n",
              "      <td>14581.369804</td>\n",
              "      <td>64.284411</td>\n",
              "      <td>3.607570e+10</td>\n",
              "      <td>64.283202</td>\n",
              "      <td>1.236529e+11</td>\n",
              "    </tr>\n",
              "    <tr>\n",
              "      <th>std</th>\n",
              "      <td>3877.916088</td>\n",
              "      <td>0.005386</td>\n",
              "      <td>14.025749</td>\n",
              "      <td>8.108202e+07</td>\n",
              "      <td>17.565005</td>\n",
              "      <td>2601.889063</td>\n",
              "      <td>8.677299</td>\n",
              "      <td>113.549724</td>\n",
              "      <td>12.389478</td>\n",
              "      <td>1031.512115</td>\n",
              "      <td>...</td>\n",
              "      <td>11.691369</td>\n",
              "      <td>101.045904</td>\n",
              "      <td>25.142999</td>\n",
              "      <td>37.358957</td>\n",
              "      <td>43.520472</td>\n",
              "      <td>16831.774762</td>\n",
              "      <td>47.928770</td>\n",
              "      <td>3.050290e+10</td>\n",
              "      <td>47.929130</td>\n",
              "      <td>1.689341e+11</td>\n",
              "    </tr>\n",
              "    <tr>\n",
              "      <th>min</th>\n",
              "      <td>240.000000</td>\n",
              "      <td>0.000000</td>\n",
              "      <td>0.000000</td>\n",
              "      <td>0.000000e+00</td>\n",
              "      <td>0.000000</td>\n",
              "      <td>0.000000</td>\n",
              "      <td>0.000000</td>\n",
              "      <td>0.000000</td>\n",
              "      <td>0.000000</td>\n",
              "      <td>0.000000</td>\n",
              "      <td>...</td>\n",
              "      <td>0.000000</td>\n",
              "      <td>0.000000</td>\n",
              "      <td>0.000000</td>\n",
              "      <td>0.000000</td>\n",
              "      <td>0.000000</td>\n",
              "      <td>0.000000</td>\n",
              "      <td>0.000000</td>\n",
              "      <td>0.000000e+00</td>\n",
              "      <td>0.000000</td>\n",
              "      <td>0.000000e+00</td>\n",
              "    </tr>\n",
              "    <tr>\n",
              "      <th>25%</th>\n",
              "      <td>8001.000000</td>\n",
              "      <td>0.000000</td>\n",
              "      <td>81.000000</td>\n",
              "      <td>0.000000e+00</td>\n",
              "      <td>91.000000</td>\n",
              "      <td>0.000000</td>\n",
              "      <td>100.000000</td>\n",
              "      <td>2.000000</td>\n",
              "      <td>100.000000</td>\n",
              "      <td>0.000000</td>\n",
              "      <td>...</td>\n",
              "      <td>100.000000</td>\n",
              "      <td>0.000000</td>\n",
              "      <td>200.000000</td>\n",
              "      <td>0.000000</td>\n",
              "      <td>0.000000</td>\n",
              "      <td>0.000000</td>\n",
              "      <td>0.000000</td>\n",
              "      <td>0.000000e+00</td>\n",
              "      <td>0.000000</td>\n",
              "      <td>0.000000e+00</td>\n",
              "    </tr>\n",
              "    <tr>\n",
              "      <th>50%</th>\n",
              "      <td>12000.000000</td>\n",
              "      <td>0.000000</td>\n",
              "      <td>100.000000</td>\n",
              "      <td>4.514909e+07</td>\n",
              "      <td>97.000000</td>\n",
              "      <td>0.000000</td>\n",
              "      <td>100.000000</td>\n",
              "      <td>5.000000</td>\n",
              "      <td>100.000000</td>\n",
              "      <td>0.000000</td>\n",
              "      <td>...</td>\n",
              "      <td>100.000000</td>\n",
              "      <td>0.000000</td>\n",
              "      <td>200.000000</td>\n",
              "      <td>0.000000</td>\n",
              "      <td>100.000000</td>\n",
              "      <td>5816.000000</td>\n",
              "      <td>100.000000</td>\n",
              "      <td>4.683655e+10</td>\n",
              "      <td>100.000000</td>\n",
              "      <td>9.188942e+10</td>\n",
              "    </tr>\n",
              "    <tr>\n",
              "      <th>75%</th>\n",
              "      <td>12000.000000</td>\n",
              "      <td>0.000000</td>\n",
              "      <td>100.000000</td>\n",
              "      <td>1.441262e+08</td>\n",
              "      <td>100.000000</td>\n",
              "      <td>380.000000</td>\n",
              "      <td>100.000000</td>\n",
              "      <td>10.000000</td>\n",
              "      <td>100.000000</td>\n",
              "      <td>0.000000</td>\n",
              "      <td>...</td>\n",
              "      <td>100.000000</td>\n",
              "      <td>0.000000</td>\n",
              "      <td>200.000000</td>\n",
              "      <td>0.000000</td>\n",
              "      <td>100.000000</td>\n",
              "      <td>29337.000000</td>\n",
              "      <td>100.000000</td>\n",
              "      <td>6.341446e+10</td>\n",
              "      <td>100.000000</td>\n",
              "      <td>2.468640e+11</td>\n",
              "    </tr>\n",
              "    <tr>\n",
              "      <th>max</th>\n",
              "      <td>18000.000000</td>\n",
              "      <td>1.000000</td>\n",
              "      <td>200.000000</td>\n",
              "      <td>4.515787e+08</td>\n",
              "      <td>253.000000</td>\n",
              "      <td>11111.000000</td>\n",
              "      <td>100.000000</td>\n",
              "      <td>25141.000000</td>\n",
              "      <td>252.000000</td>\n",
              "      <td>65480.000000</td>\n",
              "      <td>...</td>\n",
              "      <td>252.000000</td>\n",
              "      <td>41040.000000</td>\n",
              "      <td>200.000000</td>\n",
              "      <td>7670.000000</td>\n",
              "      <td>100.000000</td>\n",
              "      <td>67845.000000</td>\n",
              "      <td>200.000000</td>\n",
              "      <td>2.202436e+11</td>\n",
              "      <td>200.000000</td>\n",
              "      <td>2.818246e+13</td>\n",
              "    </tr>\n",
              "  </tbody>\n",
              "</table>\n",
              "<p>8 rows × 46 columns</p>\n",
              "</div>\n",
              "      <button class=\"colab-df-convert\" onclick=\"convertToInteractive('df-107d3867-8563-402e-a583-ab6328831b6c')\"\n",
              "              title=\"Convert this dataframe to an interactive table.\"\n",
              "              style=\"display:none;\">\n",
              "        \n",
              "  <svg xmlns=\"http://www.w3.org/2000/svg\" height=\"24px\"viewBox=\"0 0 24 24\"\n",
              "       width=\"24px\">\n",
              "    <path d=\"M0 0h24v24H0V0z\" fill=\"none\"/>\n",
              "    <path d=\"M18.56 5.44l.94 2.06.94-2.06 2.06-.94-2.06-.94-.94-2.06-.94 2.06-2.06.94zm-11 1L8.5 8.5l.94-2.06 2.06-.94-2.06-.94L8.5 2.5l-.94 2.06-2.06.94zm10 10l.94 2.06.94-2.06 2.06-.94-2.06-.94-.94-2.06-.94 2.06-2.06.94z\"/><path d=\"M17.41 7.96l-1.37-1.37c-.4-.4-.92-.59-1.43-.59-.52 0-1.04.2-1.43.59L10.3 9.45l-7.72 7.72c-.78.78-.78 2.05 0 2.83L4 21.41c.39.39.9.59 1.41.59.51 0 1.02-.2 1.41-.59l7.78-7.78 2.81-2.81c.8-.78.8-2.07 0-2.86zM5.41 20L4 18.59l7.72-7.72 1.47 1.35L5.41 20z\"/>\n",
              "  </svg>\n",
              "      </button>\n",
              "      \n",
              "  <style>\n",
              "    .colab-df-container {\n",
              "      display:flex;\n",
              "      flex-wrap:wrap;\n",
              "      gap: 12px;\n",
              "    }\n",
              "\n",
              "    .colab-df-convert {\n",
              "      background-color: #E8F0FE;\n",
              "      border: none;\n",
              "      border-radius: 50%;\n",
              "      cursor: pointer;\n",
              "      display: none;\n",
              "      fill: #1967D2;\n",
              "      height: 32px;\n",
              "      padding: 0 0 0 0;\n",
              "      width: 32px;\n",
              "    }\n",
              "\n",
              "    .colab-df-convert:hover {\n",
              "      background-color: #E2EBFA;\n",
              "      box-shadow: 0px 1px 2px rgba(60, 64, 67, 0.3), 0px 1px 3px 1px rgba(60, 64, 67, 0.15);\n",
              "      fill: #174EA6;\n",
              "    }\n",
              "\n",
              "    [theme=dark] .colab-df-convert {\n",
              "      background-color: #3B4455;\n",
              "      fill: #D2E3FC;\n",
              "    }\n",
              "\n",
              "    [theme=dark] .colab-df-convert:hover {\n",
              "      background-color: #434B5C;\n",
              "      box-shadow: 0px 1px 3px 1px rgba(0, 0, 0, 0.15);\n",
              "      filter: drop-shadow(0px 1px 2px rgba(0, 0, 0, 0.3));\n",
              "      fill: #FFFFFF;\n",
              "    }\n",
              "  </style>\n",
              "\n",
              "      <script>\n",
              "        const buttonEl =\n",
              "          document.querySelector('#df-107d3867-8563-402e-a583-ab6328831b6c button.colab-df-convert');\n",
              "        buttonEl.style.display =\n",
              "          google.colab.kernel.accessAllowed ? 'block' : 'none';\n",
              "\n",
              "        async function convertToInteractive(key) {\n",
              "          const element = document.querySelector('#df-107d3867-8563-402e-a583-ab6328831b6c');\n",
              "          const dataTable =\n",
              "            await google.colab.kernel.invokeFunction('convertToInteractive',\n",
              "                                                     [key], {});\n",
              "          if (!dataTable) return;\n",
              "\n",
              "          const docLinkHtml = 'Like what you see? Visit the ' +\n",
              "            '<a target=\"_blank\" href=https://colab.research.google.com/notebooks/data_table.ipynb>data table notebook</a>'\n",
              "            + ' to learn more about interactive tables.';\n",
              "          element.innerHTML = '';\n",
              "          dataTable['output_type'] = 'display_data';\n",
              "          await google.colab.output.renderOutput(dataTable, element);\n",
              "          const docLink = document.createElement('div');\n",
              "          docLink.innerHTML = docLinkHtml;\n",
              "          element.appendChild(docLink);\n",
              "        }\n",
              "      </script>\n",
              "    </div>\n",
              "  </div>\n",
              "  "
            ]
          },
          "metadata": {},
          "execution_count": 32
        }
      ],
      "source": [
        "Test.describe()"
      ]
    },
    {
      "cell_type": "markdown",
      "metadata": {
        "id": "M9wB7VPFS9PY"
      },
      "source": [
        "##### From the above description it is seen that some attributes have values ranging from 10^7 to 10^13 which seems to be odd. Such attributes are choosen for Feature engineering. \n",
        "##### Inspite of Column Standardisation or Normalisation, Sigmoid and Tanh functions are applied on these attributes as a scaling function and it's correlation with target varibale is compared with its original correlation values."
      ]
    },
    {
      "cell_type": "code",
      "execution_count": 33,
      "metadata": {
        "id": "fdI7Fb-L3YBn"
      },
      "outputs": [],
      "source": [
        "# Sigmoid and TanH Functions.\n",
        "# Instead of using original value, it is added with random normal distributed value just like adding bias to the input value.\n",
        "def Sigmoid(x):\n",
        "  return 1 / (1 + np.exp(-(x + np.random.normal(scale = 0.5)))) \n",
        "def TanH(x):\n",
        "  return np.tanh(x + np.random.normal(scale = 0.5))"
      ]
    },
    {
      "cell_type": "code",
      "execution_count": 34,
      "metadata": {
        "id": "HWxLbNiiwS57"
      },
      "outputs": [],
      "source": [
        "# Creating new attributes based on above description.\n",
        "\n",
        "#Test['smart_1_sig'] = Test['smart_1_raw'].apply(Sigmoid)\n",
        "#Test['smart_7_sig'] = Test['smart_7_raw'].apply(Sigmoid)\n",
        "#Test['smart_188_sig'] = Test['smart_188_raw'].apply(Sigmoid)\n",
        "#Test['smart_193_sig'] = Test['smart_193_raw'].apply(Sigmoid)\n",
        "#Test['smart_195_sig'] = Test['smart_195_raw'].apply(Sigmoid)\n",
        "#Test['smart_240_sig'] = Test['smart_240_raw'].apply(Sigmoid)\n",
        "#Test['smart_241_sig'] = Test['smart_241_raw'].apply(Sigmoid)\n",
        "#Test['smart_242_sig'] = Test['smart_242_raw'].apply(Sigmoid)\n",
        "\n",
        "#Test['smart_1_tan'] = Test['smart_1_raw'].apply(TanH)\n",
        "#Test['smart_7_tan'] = Test['smart_7_raw'].apply(TanH)\n",
        "#Test['smart_188_tan'] = Test['smart_188_raw'].apply(TanH)\n",
        "#Test['smart_193_tan'] = Test['smart_193_raw'].apply(TanH)\n",
        "#Test['smart_195_tan'] = Test['smart_195_raw'].apply(TanH)\n",
        "#Test['smart_240_tan'] = Test['smart_240_raw'].apply(TanH)\n",
        "#Test['smart_241_tan'] = Test['smart_241_raw'].apply(TanH)\n",
        "#Test['smart_242_tan'] = Test['smart_242_raw'].apply(TanH)\n",
        "\n",
        "cf = ['smart_1_raw', 'smart_7_raw', 'smart_188_raw', 'smart_193_raw', 'smart_240_raw', 'smart_241_raw', 'smart_242_raw']\n",
        "for i in cf:\n",
        "   n = re.findall('\\d+',i) \n",
        "   s = 'smart_' + ''.join(n) + '_sig'\n",
        "   t = 'smart_' + ''.join(n) + '_tan'\n",
        "   Test[s] = Test[i].apply(Sigmoid)\n",
        "   Test[t] = Test[i].apply(TanH)"
      ]
    },
    {
      "cell_type": "code",
      "execution_count": 35,
      "metadata": {
        "colab": {
          "base_uri": "https://localhost:8080/",
          "height": 404
        },
        "id": "8sCyRVcpoCuY",
        "outputId": "3ce0e3e7-79eb-4d79-829c-6bae76265ae1"
      },
      "outputs": [
        {
          "output_type": "stream",
          "name": "stdout",
          "text": [
            "Warning: Total number of columns (63) exceeds max_columns (20). Falling back to pandas display.\n"
          ]
        },
        {
          "output_type": "execute_result",
          "data": {
            "text/plain": [
              "        date serial_number          model  capacity_bytes  failure  \\\n",
              "0 2021-01-01      ZLW0EGC6  ST12000NM001G         12000.0        0   \n",
              "1 2021-01-01      Z305B2QN    ST4000DM000          4000.0        0   \n",
              "2 2021-01-01      ZLW0C6NE  ST12000NM001G         12000.0        0   \n",
              "3 2021-01-01      ZJV0XJQ3  ST12000NM0007         12000.0        0   \n",
              "4 2021-01-01      ZLW18MKT  ST14000NM001G         14000.0        0   \n",
              "\n",
              "   smart_1_normalized  smart_1_raw  smart_3_normalized  smart_3_raw  \\\n",
              "0                83.0  213166608.0                99.0          0.0   \n",
              "1               114.0   79306032.0                91.0          0.0   \n",
              "2                72.0   17162816.0                98.0          0.0   \n",
              "3               100.0    1102160.0                98.0          0.0   \n",
              "4                75.0   33233248.0                95.0          0.0   \n",
              "\n",
              "   smart_4_normalized  ...  smart_188_sig  smart_188_tan  smart_193_sig  \\\n",
              "0               100.0  ...       0.484711       0.313481            1.0   \n",
              "1               100.0  ...       0.490239       0.298154            1.0   \n",
              "2               100.0  ...       0.470587       0.230779            1.0   \n",
              "3               100.0  ...       0.475490      -0.067889            1.0   \n",
              "4               100.0  ...       0.561520      -0.441684            1.0   \n",
              "\n",
              "   smart_193_tan  smart_240_sig  smart_240_tan  smart_241_sig  smart_241_tan  \\\n",
              "0            1.0            1.0            1.0            1.0            1.0   \n",
              "1            1.0            1.0            1.0            1.0            1.0   \n",
              "2            1.0            1.0            1.0            1.0            1.0   \n",
              "3            1.0            1.0            1.0            1.0            1.0   \n",
              "4            1.0            1.0            1.0            1.0            1.0   \n",
              "\n",
              "   smart_242_sig  smart_242_tan  \n",
              "0            1.0            1.0  \n",
              "1            1.0            1.0  \n",
              "2            1.0            1.0  \n",
              "3            1.0            1.0  \n",
              "4            1.0            1.0  \n",
              "\n",
              "[5 rows x 63 columns]"
            ],
            "text/html": [
              "\n",
              "  <div id=\"df-b2b6f678-d325-4031-b388-eca8bd39badf\">\n",
              "    <div class=\"colab-df-container\">\n",
              "      <div>\n",
              "<style scoped>\n",
              "    .dataframe tbody tr th:only-of-type {\n",
              "        vertical-align: middle;\n",
              "    }\n",
              "\n",
              "    .dataframe tbody tr th {\n",
              "        vertical-align: top;\n",
              "    }\n",
              "\n",
              "    .dataframe thead th {\n",
              "        text-align: right;\n",
              "    }\n",
              "</style>\n",
              "<table border=\"1\" class=\"dataframe\">\n",
              "  <thead>\n",
              "    <tr style=\"text-align: right;\">\n",
              "      <th></th>\n",
              "      <th>date</th>\n",
              "      <th>serial_number</th>\n",
              "      <th>model</th>\n",
              "      <th>capacity_bytes</th>\n",
              "      <th>failure</th>\n",
              "      <th>smart_1_normalized</th>\n",
              "      <th>smart_1_raw</th>\n",
              "      <th>smart_3_normalized</th>\n",
              "      <th>smart_3_raw</th>\n",
              "      <th>smart_4_normalized</th>\n",
              "      <th>...</th>\n",
              "      <th>smart_188_sig</th>\n",
              "      <th>smart_188_tan</th>\n",
              "      <th>smart_193_sig</th>\n",
              "      <th>smart_193_tan</th>\n",
              "      <th>smart_240_sig</th>\n",
              "      <th>smart_240_tan</th>\n",
              "      <th>smart_241_sig</th>\n",
              "      <th>smart_241_tan</th>\n",
              "      <th>smart_242_sig</th>\n",
              "      <th>smart_242_tan</th>\n",
              "    </tr>\n",
              "  </thead>\n",
              "  <tbody>\n",
              "    <tr>\n",
              "      <th>0</th>\n",
              "      <td>2021-01-01</td>\n",
              "      <td>ZLW0EGC6</td>\n",
              "      <td>ST12000NM001G</td>\n",
              "      <td>12000.0</td>\n",
              "      <td>0</td>\n",
              "      <td>83.0</td>\n",
              "      <td>213166608.0</td>\n",
              "      <td>99.0</td>\n",
              "      <td>0.0</td>\n",
              "      <td>100.0</td>\n",
              "      <td>...</td>\n",
              "      <td>0.484711</td>\n",
              "      <td>0.313481</td>\n",
              "      <td>1.0</td>\n",
              "      <td>1.0</td>\n",
              "      <td>1.0</td>\n",
              "      <td>1.0</td>\n",
              "      <td>1.0</td>\n",
              "      <td>1.0</td>\n",
              "      <td>1.0</td>\n",
              "      <td>1.0</td>\n",
              "    </tr>\n",
              "    <tr>\n",
              "      <th>1</th>\n",
              "      <td>2021-01-01</td>\n",
              "      <td>Z305B2QN</td>\n",
              "      <td>ST4000DM000</td>\n",
              "      <td>4000.0</td>\n",
              "      <td>0</td>\n",
              "      <td>114.0</td>\n",
              "      <td>79306032.0</td>\n",
              "      <td>91.0</td>\n",
              "      <td>0.0</td>\n",
              "      <td>100.0</td>\n",
              "      <td>...</td>\n",
              "      <td>0.490239</td>\n",
              "      <td>0.298154</td>\n",
              "      <td>1.0</td>\n",
              "      <td>1.0</td>\n",
              "      <td>1.0</td>\n",
              "      <td>1.0</td>\n",
              "      <td>1.0</td>\n",
              "      <td>1.0</td>\n",
              "      <td>1.0</td>\n",
              "      <td>1.0</td>\n",
              "    </tr>\n",
              "    <tr>\n",
              "      <th>2</th>\n",
              "      <td>2021-01-01</td>\n",
              "      <td>ZLW0C6NE</td>\n",
              "      <td>ST12000NM001G</td>\n",
              "      <td>12000.0</td>\n",
              "      <td>0</td>\n",
              "      <td>72.0</td>\n",
              "      <td>17162816.0</td>\n",
              "      <td>98.0</td>\n",
              "      <td>0.0</td>\n",
              "      <td>100.0</td>\n",
              "      <td>...</td>\n",
              "      <td>0.470587</td>\n",
              "      <td>0.230779</td>\n",
              "      <td>1.0</td>\n",
              "      <td>1.0</td>\n",
              "      <td>1.0</td>\n",
              "      <td>1.0</td>\n",
              "      <td>1.0</td>\n",
              "      <td>1.0</td>\n",
              "      <td>1.0</td>\n",
              "      <td>1.0</td>\n",
              "    </tr>\n",
              "    <tr>\n",
              "      <th>3</th>\n",
              "      <td>2021-01-01</td>\n",
              "      <td>ZJV0XJQ3</td>\n",
              "      <td>ST12000NM0007</td>\n",
              "      <td>12000.0</td>\n",
              "      <td>0</td>\n",
              "      <td>100.0</td>\n",
              "      <td>1102160.0</td>\n",
              "      <td>98.0</td>\n",
              "      <td>0.0</td>\n",
              "      <td>100.0</td>\n",
              "      <td>...</td>\n",
              "      <td>0.475490</td>\n",
              "      <td>-0.067889</td>\n",
              "      <td>1.0</td>\n",
              "      <td>1.0</td>\n",
              "      <td>1.0</td>\n",
              "      <td>1.0</td>\n",
              "      <td>1.0</td>\n",
              "      <td>1.0</td>\n",
              "      <td>1.0</td>\n",
              "      <td>1.0</td>\n",
              "    </tr>\n",
              "    <tr>\n",
              "      <th>4</th>\n",
              "      <td>2021-01-01</td>\n",
              "      <td>ZLW18MKT</td>\n",
              "      <td>ST14000NM001G</td>\n",
              "      <td>14000.0</td>\n",
              "      <td>0</td>\n",
              "      <td>75.0</td>\n",
              "      <td>33233248.0</td>\n",
              "      <td>95.0</td>\n",
              "      <td>0.0</td>\n",
              "      <td>100.0</td>\n",
              "      <td>...</td>\n",
              "      <td>0.561520</td>\n",
              "      <td>-0.441684</td>\n",
              "      <td>1.0</td>\n",
              "      <td>1.0</td>\n",
              "      <td>1.0</td>\n",
              "      <td>1.0</td>\n",
              "      <td>1.0</td>\n",
              "      <td>1.0</td>\n",
              "      <td>1.0</td>\n",
              "      <td>1.0</td>\n",
              "    </tr>\n",
              "  </tbody>\n",
              "</table>\n",
              "<p>5 rows × 63 columns</p>\n",
              "</div>\n",
              "      <button class=\"colab-df-convert\" onclick=\"convertToInteractive('df-b2b6f678-d325-4031-b388-eca8bd39badf')\"\n",
              "              title=\"Convert this dataframe to an interactive table.\"\n",
              "              style=\"display:none;\">\n",
              "        \n",
              "  <svg xmlns=\"http://www.w3.org/2000/svg\" height=\"24px\"viewBox=\"0 0 24 24\"\n",
              "       width=\"24px\">\n",
              "    <path d=\"M0 0h24v24H0V0z\" fill=\"none\"/>\n",
              "    <path d=\"M18.56 5.44l.94 2.06.94-2.06 2.06-.94-2.06-.94-.94-2.06-.94 2.06-2.06.94zm-11 1L8.5 8.5l.94-2.06 2.06-.94-2.06-.94L8.5 2.5l-.94 2.06-2.06.94zm10 10l.94 2.06.94-2.06 2.06-.94-2.06-.94-.94-2.06-.94 2.06-2.06.94z\"/><path d=\"M17.41 7.96l-1.37-1.37c-.4-.4-.92-.59-1.43-.59-.52 0-1.04.2-1.43.59L10.3 9.45l-7.72 7.72c-.78.78-.78 2.05 0 2.83L4 21.41c.39.39.9.59 1.41.59.51 0 1.02-.2 1.41-.59l7.78-7.78 2.81-2.81c.8-.78.8-2.07 0-2.86zM5.41 20L4 18.59l7.72-7.72 1.47 1.35L5.41 20z\"/>\n",
              "  </svg>\n",
              "      </button>\n",
              "      \n",
              "  <style>\n",
              "    .colab-df-container {\n",
              "      display:flex;\n",
              "      flex-wrap:wrap;\n",
              "      gap: 12px;\n",
              "    }\n",
              "\n",
              "    .colab-df-convert {\n",
              "      background-color: #E8F0FE;\n",
              "      border: none;\n",
              "      border-radius: 50%;\n",
              "      cursor: pointer;\n",
              "      display: none;\n",
              "      fill: #1967D2;\n",
              "      height: 32px;\n",
              "      padding: 0 0 0 0;\n",
              "      width: 32px;\n",
              "    }\n",
              "\n",
              "    .colab-df-convert:hover {\n",
              "      background-color: #E2EBFA;\n",
              "      box-shadow: 0px 1px 2px rgba(60, 64, 67, 0.3), 0px 1px 3px 1px rgba(60, 64, 67, 0.15);\n",
              "      fill: #174EA6;\n",
              "    }\n",
              "\n",
              "    [theme=dark] .colab-df-convert {\n",
              "      background-color: #3B4455;\n",
              "      fill: #D2E3FC;\n",
              "    }\n",
              "\n",
              "    [theme=dark] .colab-df-convert:hover {\n",
              "      background-color: #434B5C;\n",
              "      box-shadow: 0px 1px 3px 1px rgba(0, 0, 0, 0.15);\n",
              "      filter: drop-shadow(0px 1px 2px rgba(0, 0, 0, 0.3));\n",
              "      fill: #FFFFFF;\n",
              "    }\n",
              "  </style>\n",
              "\n",
              "      <script>\n",
              "        const buttonEl =\n",
              "          document.querySelector('#df-b2b6f678-d325-4031-b388-eca8bd39badf button.colab-df-convert');\n",
              "        buttonEl.style.display =\n",
              "          google.colab.kernel.accessAllowed ? 'block' : 'none';\n",
              "\n",
              "        async function convertToInteractive(key) {\n",
              "          const element = document.querySelector('#df-b2b6f678-d325-4031-b388-eca8bd39badf');\n",
              "          const dataTable =\n",
              "            await google.colab.kernel.invokeFunction('convertToInteractive',\n",
              "                                                     [key], {});\n",
              "          if (!dataTable) return;\n",
              "\n",
              "          const docLinkHtml = 'Like what you see? Visit the ' +\n",
              "            '<a target=\"_blank\" href=https://colab.research.google.com/notebooks/data_table.ipynb>data table notebook</a>'\n",
              "            + ' to learn more about interactive tables.';\n",
              "          element.innerHTML = '';\n",
              "          dataTable['output_type'] = 'display_data';\n",
              "          await google.colab.output.renderOutput(dataTable, element);\n",
              "          const docLink = document.createElement('div');\n",
              "          docLink.innerHTML = docLinkHtml;\n",
              "          element.appendChild(docLink);\n",
              "        }\n",
              "      </script>\n",
              "    </div>\n",
              "  </div>\n",
              "  "
            ]
          },
          "metadata": {},
          "execution_count": 35
        }
      ],
      "source": [
        "Test.head()"
      ]
    },
    {
      "cell_type": "code",
      "execution_count": 36,
      "metadata": {
        "colab": {
          "base_uri": "https://localhost:8080/"
        },
        "id": "1ZQ2B73No_u6",
        "outputId": "2a49901e-d3d9-4d2c-c34c-743f182c73d7"
      },
      "outputs": [
        {
          "output_type": "stream",
          "name": "stdout",
          "text": [
            "smart_1_raw feature Correlation with target(Failure) is 0.0004930565827411704\n",
            "smart_1_sig feature Correlation with target(Failure) is 0.0017378800409492043\n",
            "smart_1_tan feature Correlation with target(Failure) is 0.0013723406917320604\n",
            "\n",
            "smart_7_raw feature Correlation with target(Failure) is -1.8360522051362562e-05\n",
            "smart_7_sig feature Correlation with target(Failure) is 0.0009671050463625615\n",
            "smart_7_tan feature Correlation with target(Failure) is 0.0009919692250144072\n",
            "\n",
            "smart_188_raw feature Correlation with target(Failure) is 0.00044184288658845447\n",
            "smart_188_sig feature Correlation with target(Failure) is 0.002656227837127048\n",
            "smart_188_tan feature Correlation with target(Failure) is 0.0008214301377573224\n",
            "\n",
            "smart_193_raw feature Correlation with target(Failure) is -0.0016981571065426927\n",
            "smart_193_sig feature Correlation with target(Failure) is -0.003905917110165544\n",
            "smart_193_tan feature Correlation with target(Failure) is -0.003291908016035105\n",
            "\n",
            "smart_240_raw feature Correlation with target(Failure) is 0.00028027466558763574\n",
            "smart_240_sig feature Correlation with target(Failure) is 0.0006402867315792096\n",
            "smart_240_tan feature Correlation with target(Failure) is -0.00044145376165274035\n",
            "\n",
            "smart_241_raw feature Correlation with target(Failure) is 0.0012396855933433362\n",
            "smart_241_sig feature Correlation with target(Failure) is 0.0013246580272562166\n",
            "smart_241_tan feature Correlation with target(Failure) is 0.0012265409714791922\n",
            "\n",
            "smart_242_raw feature Correlation with target(Failure) is 0.0004745561839035194\n",
            "smart_242_sig feature Correlation with target(Failure) is 0.0011267608660403127\n",
            "smart_242_tan feature Correlation with target(Failure) is 0.0012523269903073867\n",
            "\n"
          ]
        }
      ],
      "source": [
        "# Checking the correlation of attributes with target variable.\n",
        "cf = ['smart_1_raw', 'smart_1_sig', 'smart_1_tan', 'smart_7_raw', 'smart_7_sig', 'smart_7_tan', 'smart_188_raw', 'smart_188_sig', 'smart_188_tan', 'smart_193_raw', 'smart_193_sig', 'smart_193_tan', 'smart_240_raw', 'smart_240_sig', 'smart_240_tan', 'smart_241_raw', 'smart_241_sig', 'smart_241_tan', 'smart_242_raw', 'smart_242_sig', 'smart_242_tan']\n",
        "j = 1\n",
        "for i in cf:\n",
        "  print(i + ' feature' + ' Correlation with target(Failure)' + ' is ' + str(Test[i].corr(Test['failure']))) # This line computes the correlation.\n",
        "  if(j % 3 == 0):\n",
        "    print()\n",
        "  j+=1"
      ]
    },
    {
      "cell_type": "markdown",
      "metadata": {
        "id": "jmNIV-zWXY2Z"
      },
      "source": [
        "##### From the above correlation values, attributes obtained from Sigmoid function shows the better correlation than the TanH function. It also show good values when compared with original raw values. \n",
        "##### But, smart_188_sig and smart_241_sig correlation values are still less than it's original raw values, which seems that sigmoidal values dosen't improve the correlation result. Thus, these attributes are not used for feature engineering."
      ]
    },
    {
      "cell_type": "markdown",
      "metadata": {
        "id": "27XNBP5-v-XL"
      },
      "source": [
        "#### Response Encoding the \"Model\" feature.\n",
        "\n",
        "> It is a method of creating the True and False probabilities for Categorical Data.\n",
        "\n",
        "> True Probability = No. of (respec. cat. data with target = 1) / (Total no. of that cat. data).\n",
        "\n",
        "> False Probability = No. of (respec. cat. data with target = 0) / (Total no. of that cat. data).\n",
        "\n",
        "\n",
        "\n",
        "\n",
        "\n",
        "\n",
        "\n"
      ]
    },
    {
      "cell_type": "code",
      "execution_count": 37,
      "metadata": {
        "id": "7McICI9RIuwZ"
      },
      "outputs": [],
      "source": [
        "# Function for Claculating the probabilities of categorical data.\n",
        "def res_fit(cat, Y):\n",
        "    j = dict(cat.value_counts()) # Storing the counts of each category in Dictionary. \n",
        "    true, false = 0, 0\n",
        "    TRUE, FALSE = {}, {} \n",
        "    for key, value in j.items(): # Iterating over each category\n",
        "        sum, neg, = 0, 0\n",
        "        for state, y in zip(cat, Y): # Iterating over every data in given Series\n",
        "            if (key == state and y == 1): \n",
        "                sum+= 1              # Calculating count when target of respective category data is 1\n",
        "            elif (key == state and y == 0):\n",
        "                neg+= 1              # Calculating count when target of respective category data is 0\n",
        "        true = sum / value           # Dividing the True count with the respective total category count.\n",
        "        false = neg / value          # Dividing the False count with the respective total category count.\n",
        "        TRUE[key] = true\n",
        "        FALSE[key] = false           # The respective category data with it's True probability and False probability is stored in dictionary.\n",
        "    return j, TRUE, FALSE"
      ]
    },
    {
      "cell_type": "code",
      "execution_count": 38,
      "metadata": {
        "id": "btVcJmKdIvE3"
      },
      "outputs": [],
      "source": [
        "# Function for transforming the query data points into respective calculated probability values.\n",
        "def res_transform(cat, TRUE, FALSE):\n",
        "    t = []\n",
        "    f = []\n",
        "    for state in cat: # Iterating over each data point in a given query series.\n",
        "        for ((key_t, value_t), (key_f, value_f)) in zip(TRUE.items(), FALSE.items()): # Iterating over the calculated True and False probabilities \n",
        "\n",
        "            # When the respective category data from query series is matched, it is then appended with it's respective probability values. \n",
        "            if state == key_t and state == key_f: \n",
        "                t.append(value_t)                 \n",
        "                f.append(value_f)\n",
        "                break\n",
        "        else :           # Incase, when the unknown category data is found, it's True and False probability values are considered as 0.5 and 0.5.\n",
        "                t.append(1/2)\n",
        "                f.append(1/2) \n",
        "\n",
        "    X_t = np.array(t).reshape(-1, 1)\n",
        "    X_f = np.array(f).reshape(-1, 1) # Reshaping the above array\n",
        "    \n",
        "    return np.concatenate((X_t, X_f), axis = 1) "
      ]
    },
    {
      "cell_type": "code",
      "execution_count": 39,
      "metadata": {
        "id": "kKINAanZGen2"
      },
      "outputs": [],
      "source": [
        "del Test"
      ]
    },
    {
      "cell_type": "markdown",
      "metadata": {
        "id": "uVf3UCABZMB0"
      },
      "source": [
        "# 5. Final Dataset\n",
        "\n",
        "\n",
        "\n"
      ]
    },
    {
      "cell_type": "markdown",
      "metadata": {
        "id": "Ju7gmaq1K8EF"
      },
      "source": [
        "> From the above task, attributes with respective transformation which given better correlation values than it's original raw values are used as a attributes for feature transformation in final dataset."
      ]
    },
    {
      "cell_type": "code",
      "execution_count": 40,
      "metadata": {
        "colab": {
          "base_uri": "https://localhost:8080/"
        },
        "id": "u9a7v5ke1bxf",
        "outputId": "156e5c1a-4c87-42bd-cab1-e7225cec53e6"
      },
      "outputs": [
        {
          "output_type": "stream",
          "name": "stdout",
          "text": [
            "Original shape of Data :  (827423, 49)\n",
            "Final shape of Data :  (827423, 54)\n"
          ]
        }
      ],
      "source": [
        "print(\"Original shape of Data : \", Data.shape)\n",
        "cf = ['smart_1_raw', 'smart_7_raw', 'smart_193_raw', 'smart_240_raw', 'smart_242_raw']\n",
        "for i in cf:\n",
        "   n = re.findall('\\d+',i) \n",
        "   s = 'smart_' + ''.join(n) + '_sig'\n",
        "   Data[s] = Data[i].apply(Sigmoid)\n",
        "\n",
        "print(\"Final shape of Data : \", Data.shape)"
      ]
    },
    {
      "cell_type": "code",
      "execution_count": 41,
      "metadata": {
        "colab": {
          "base_uri": "https://localhost:8080/",
          "height": 404
        },
        "id": "j5nCyDpc-rFu",
        "outputId": "7f079931-99e8-4c78-93dc-35216b834623"
      },
      "outputs": [
        {
          "output_type": "stream",
          "name": "stdout",
          "text": [
            "Warning: Total number of columns (54) exceeds max_columns (20). Falling back to pandas display.\n"
          ]
        },
        {
          "output_type": "execute_result",
          "data": {
            "text/plain": [
              "        date serial_number          model  capacity_bytes  failure  \\\n",
              "0 2021-01-01      ZLW0EGC6  ST12000NM001G         12000.0        0   \n",
              "1 2021-01-01      Z305B2QN    ST4000DM000          4000.0        0   \n",
              "2 2021-01-01      ZLW0C6NE  ST12000NM001G         12000.0        0   \n",
              "3 2021-01-01      ZJV0XJQ3  ST12000NM0007         12000.0        0   \n",
              "4 2021-01-01      ZLW18MKT  ST14000NM001G         14000.0        0   \n",
              "\n",
              "   smart_1_normalized  smart_1_raw  smart_3_normalized  smart_3_raw  \\\n",
              "0                83.0  213166608.0                99.0          0.0   \n",
              "1               114.0   79306032.0                91.0          0.0   \n",
              "2                72.0   17162816.0                98.0          0.0   \n",
              "3               100.0    1102160.0                98.0          0.0   \n",
              "4                75.0   33233248.0                95.0          0.0   \n",
              "\n",
              "   smart_4_normalized  ...  smart_240_raw  smart_241_normalized  \\\n",
              "0               100.0  ...         4910.0                 100.0   \n",
              "1               100.0  ...        44001.0                 100.0   \n",
              "2               100.0  ...         5414.0                 100.0   \n",
              "3               100.0  ...        17282.0                 100.0   \n",
              "4               100.0  ...          745.0                 100.0   \n",
              "\n",
              "   smart_241_raw  smart_242_normalized  smart_242_raw  smart_1_sig  \\\n",
              "0   4.839342e+10                 100.0   7.022831e+10          1.0   \n",
              "1   5.940338e+10                 100.0   5.457889e+11          1.0   \n",
              "2   4.917863e+10                 100.0   8.706921e+10          1.0   \n",
              "3   5.260102e+10                 100.0   1.295292e+11          1.0   \n",
              "4   1.647225e+10                 100.0   1.872005e+10          1.0   \n",
              "\n",
              "   smart_7_sig  smart_193_sig  smart_240_sig  smart_242_sig  \n",
              "0          1.0            1.0            1.0            1.0  \n",
              "1          1.0            1.0            1.0            1.0  \n",
              "2          1.0            1.0            1.0            1.0  \n",
              "3          1.0            1.0            1.0            1.0  \n",
              "4          1.0            1.0            1.0            1.0  \n",
              "\n",
              "[5 rows x 54 columns]"
            ],
            "text/html": [
              "\n",
              "  <div id=\"df-deeec5d8-fe84-4bf1-aed9-4630c5df5e97\">\n",
              "    <div class=\"colab-df-container\">\n",
              "      <div>\n",
              "<style scoped>\n",
              "    .dataframe tbody tr th:only-of-type {\n",
              "        vertical-align: middle;\n",
              "    }\n",
              "\n",
              "    .dataframe tbody tr th {\n",
              "        vertical-align: top;\n",
              "    }\n",
              "\n",
              "    .dataframe thead th {\n",
              "        text-align: right;\n",
              "    }\n",
              "</style>\n",
              "<table border=\"1\" class=\"dataframe\">\n",
              "  <thead>\n",
              "    <tr style=\"text-align: right;\">\n",
              "      <th></th>\n",
              "      <th>date</th>\n",
              "      <th>serial_number</th>\n",
              "      <th>model</th>\n",
              "      <th>capacity_bytes</th>\n",
              "      <th>failure</th>\n",
              "      <th>smart_1_normalized</th>\n",
              "      <th>smart_1_raw</th>\n",
              "      <th>smart_3_normalized</th>\n",
              "      <th>smart_3_raw</th>\n",
              "      <th>smart_4_normalized</th>\n",
              "      <th>...</th>\n",
              "      <th>smart_240_raw</th>\n",
              "      <th>smart_241_normalized</th>\n",
              "      <th>smart_241_raw</th>\n",
              "      <th>smart_242_normalized</th>\n",
              "      <th>smart_242_raw</th>\n",
              "      <th>smart_1_sig</th>\n",
              "      <th>smart_7_sig</th>\n",
              "      <th>smart_193_sig</th>\n",
              "      <th>smart_240_sig</th>\n",
              "      <th>smart_242_sig</th>\n",
              "    </tr>\n",
              "  </thead>\n",
              "  <tbody>\n",
              "    <tr>\n",
              "      <th>0</th>\n",
              "      <td>2021-01-01</td>\n",
              "      <td>ZLW0EGC6</td>\n",
              "      <td>ST12000NM001G</td>\n",
              "      <td>12000.0</td>\n",
              "      <td>0</td>\n",
              "      <td>83.0</td>\n",
              "      <td>213166608.0</td>\n",
              "      <td>99.0</td>\n",
              "      <td>0.0</td>\n",
              "      <td>100.0</td>\n",
              "      <td>...</td>\n",
              "      <td>4910.0</td>\n",
              "      <td>100.0</td>\n",
              "      <td>4.839342e+10</td>\n",
              "      <td>100.0</td>\n",
              "      <td>7.022831e+10</td>\n",
              "      <td>1.0</td>\n",
              "      <td>1.0</td>\n",
              "      <td>1.0</td>\n",
              "      <td>1.0</td>\n",
              "      <td>1.0</td>\n",
              "    </tr>\n",
              "    <tr>\n",
              "      <th>1</th>\n",
              "      <td>2021-01-01</td>\n",
              "      <td>Z305B2QN</td>\n",
              "      <td>ST4000DM000</td>\n",
              "      <td>4000.0</td>\n",
              "      <td>0</td>\n",
              "      <td>114.0</td>\n",
              "      <td>79306032.0</td>\n",
              "      <td>91.0</td>\n",
              "      <td>0.0</td>\n",
              "      <td>100.0</td>\n",
              "      <td>...</td>\n",
              "      <td>44001.0</td>\n",
              "      <td>100.0</td>\n",
              "      <td>5.940338e+10</td>\n",
              "      <td>100.0</td>\n",
              "      <td>5.457889e+11</td>\n",
              "      <td>1.0</td>\n",
              "      <td>1.0</td>\n",
              "      <td>1.0</td>\n",
              "      <td>1.0</td>\n",
              "      <td>1.0</td>\n",
              "    </tr>\n",
              "    <tr>\n",
              "      <th>2</th>\n",
              "      <td>2021-01-01</td>\n",
              "      <td>ZLW0C6NE</td>\n",
              "      <td>ST12000NM001G</td>\n",
              "      <td>12000.0</td>\n",
              "      <td>0</td>\n",
              "      <td>72.0</td>\n",
              "      <td>17162816.0</td>\n",
              "      <td>98.0</td>\n",
              "      <td>0.0</td>\n",
              "      <td>100.0</td>\n",
              "      <td>...</td>\n",
              "      <td>5414.0</td>\n",
              "      <td>100.0</td>\n",
              "      <td>4.917863e+10</td>\n",
              "      <td>100.0</td>\n",
              "      <td>8.706921e+10</td>\n",
              "      <td>1.0</td>\n",
              "      <td>1.0</td>\n",
              "      <td>1.0</td>\n",
              "      <td>1.0</td>\n",
              "      <td>1.0</td>\n",
              "    </tr>\n",
              "    <tr>\n",
              "      <th>3</th>\n",
              "      <td>2021-01-01</td>\n",
              "      <td>ZJV0XJQ3</td>\n",
              "      <td>ST12000NM0007</td>\n",
              "      <td>12000.0</td>\n",
              "      <td>0</td>\n",
              "      <td>100.0</td>\n",
              "      <td>1102160.0</td>\n",
              "      <td>98.0</td>\n",
              "      <td>0.0</td>\n",
              "      <td>100.0</td>\n",
              "      <td>...</td>\n",
              "      <td>17282.0</td>\n",
              "      <td>100.0</td>\n",
              "      <td>5.260102e+10</td>\n",
              "      <td>100.0</td>\n",
              "      <td>1.295292e+11</td>\n",
              "      <td>1.0</td>\n",
              "      <td>1.0</td>\n",
              "      <td>1.0</td>\n",
              "      <td>1.0</td>\n",
              "      <td>1.0</td>\n",
              "    </tr>\n",
              "    <tr>\n",
              "      <th>4</th>\n",
              "      <td>2021-01-01</td>\n",
              "      <td>ZLW18MKT</td>\n",
              "      <td>ST14000NM001G</td>\n",
              "      <td>14000.0</td>\n",
              "      <td>0</td>\n",
              "      <td>75.0</td>\n",
              "      <td>33233248.0</td>\n",
              "      <td>95.0</td>\n",
              "      <td>0.0</td>\n",
              "      <td>100.0</td>\n",
              "      <td>...</td>\n",
              "      <td>745.0</td>\n",
              "      <td>100.0</td>\n",
              "      <td>1.647225e+10</td>\n",
              "      <td>100.0</td>\n",
              "      <td>1.872005e+10</td>\n",
              "      <td>1.0</td>\n",
              "      <td>1.0</td>\n",
              "      <td>1.0</td>\n",
              "      <td>1.0</td>\n",
              "      <td>1.0</td>\n",
              "    </tr>\n",
              "  </tbody>\n",
              "</table>\n",
              "<p>5 rows × 54 columns</p>\n",
              "</div>\n",
              "      <button class=\"colab-df-convert\" onclick=\"convertToInteractive('df-deeec5d8-fe84-4bf1-aed9-4630c5df5e97')\"\n",
              "              title=\"Convert this dataframe to an interactive table.\"\n",
              "              style=\"display:none;\">\n",
              "        \n",
              "  <svg xmlns=\"http://www.w3.org/2000/svg\" height=\"24px\"viewBox=\"0 0 24 24\"\n",
              "       width=\"24px\">\n",
              "    <path d=\"M0 0h24v24H0V0z\" fill=\"none\"/>\n",
              "    <path d=\"M18.56 5.44l.94 2.06.94-2.06 2.06-.94-2.06-.94-.94-2.06-.94 2.06-2.06.94zm-11 1L8.5 8.5l.94-2.06 2.06-.94-2.06-.94L8.5 2.5l-.94 2.06-2.06.94zm10 10l.94 2.06.94-2.06 2.06-.94-2.06-.94-.94-2.06-.94 2.06-2.06.94z\"/><path d=\"M17.41 7.96l-1.37-1.37c-.4-.4-.92-.59-1.43-.59-.52 0-1.04.2-1.43.59L10.3 9.45l-7.72 7.72c-.78.78-.78 2.05 0 2.83L4 21.41c.39.39.9.59 1.41.59.51 0 1.02-.2 1.41-.59l7.78-7.78 2.81-2.81c.8-.78.8-2.07 0-2.86zM5.41 20L4 18.59l7.72-7.72 1.47 1.35L5.41 20z\"/>\n",
              "  </svg>\n",
              "      </button>\n",
              "      \n",
              "  <style>\n",
              "    .colab-df-container {\n",
              "      display:flex;\n",
              "      flex-wrap:wrap;\n",
              "      gap: 12px;\n",
              "    }\n",
              "\n",
              "    .colab-df-convert {\n",
              "      background-color: #E8F0FE;\n",
              "      border: none;\n",
              "      border-radius: 50%;\n",
              "      cursor: pointer;\n",
              "      display: none;\n",
              "      fill: #1967D2;\n",
              "      height: 32px;\n",
              "      padding: 0 0 0 0;\n",
              "      width: 32px;\n",
              "    }\n",
              "\n",
              "    .colab-df-convert:hover {\n",
              "      background-color: #E2EBFA;\n",
              "      box-shadow: 0px 1px 2px rgba(60, 64, 67, 0.3), 0px 1px 3px 1px rgba(60, 64, 67, 0.15);\n",
              "      fill: #174EA6;\n",
              "    }\n",
              "\n",
              "    [theme=dark] .colab-df-convert {\n",
              "      background-color: #3B4455;\n",
              "      fill: #D2E3FC;\n",
              "    }\n",
              "\n",
              "    [theme=dark] .colab-df-convert:hover {\n",
              "      background-color: #434B5C;\n",
              "      box-shadow: 0px 1px 3px 1px rgba(0, 0, 0, 0.15);\n",
              "      filter: drop-shadow(0px 1px 2px rgba(0, 0, 0, 0.3));\n",
              "      fill: #FFFFFF;\n",
              "    }\n",
              "  </style>\n",
              "\n",
              "      <script>\n",
              "        const buttonEl =\n",
              "          document.querySelector('#df-deeec5d8-fe84-4bf1-aed9-4630c5df5e97 button.colab-df-convert');\n",
              "        buttonEl.style.display =\n",
              "          google.colab.kernel.accessAllowed ? 'block' : 'none';\n",
              "\n",
              "        async function convertToInteractive(key) {\n",
              "          const element = document.querySelector('#df-deeec5d8-fe84-4bf1-aed9-4630c5df5e97');\n",
              "          const dataTable =\n",
              "            await google.colab.kernel.invokeFunction('convertToInteractive',\n",
              "                                                     [key], {});\n",
              "          if (!dataTable) return;\n",
              "\n",
              "          const docLinkHtml = 'Like what you see? Visit the ' +\n",
              "            '<a target=\"_blank\" href=https://colab.research.google.com/notebooks/data_table.ipynb>data table notebook</a>'\n",
              "            + ' to learn more about interactive tables.';\n",
              "          element.innerHTML = '';\n",
              "          dataTable['output_type'] = 'display_data';\n",
              "          await google.colab.output.renderOutput(dataTable, element);\n",
              "          const docLink = document.createElement('div');\n",
              "          docLink.innerHTML = docLinkHtml;\n",
              "          element.appendChild(docLink);\n",
              "        }\n",
              "      </script>\n",
              "    </div>\n",
              "  </div>\n",
              "  "
            ]
          },
          "metadata": {},
          "execution_count": 41
        }
      ],
      "source": [
        "Data.head()"
      ]
    },
    {
      "cell_type": "code",
      "execution_count": 42,
      "metadata": {
        "id": "3QAlS29T6rlB"
      },
      "outputs": [],
      "source": [
        "# Splitting the Dataset into Train and Val Dataset based on date\n",
        "split_date = '2021-01-03'"
      ]
    },
    {
      "cell_type": "code",
      "execution_count": 43,
      "metadata": {
        "colab": {
          "base_uri": "https://localhost:8080/"
        },
        "id": "DzBEaUAp6_fi",
        "outputId": "170c0d95-137a-4d30-9d92-a34def1f1b0c"
      },
      "outputs": [
        {
          "output_type": "stream",
          "name": "stdout",
          "text": [
            "(496415, 54) (331008, 54)\n"
          ]
        }
      ],
      "source": [
        "Train = Data.loc[Data.date <= split_date]\n",
        "Val = Data.loc[Data.date > split_date]\n",
        "print(Train.shape, Val.shape)"
      ]
    },
    {
      "cell_type": "code",
      "execution_count": 44,
      "metadata": {
        "colab": {
          "base_uri": "https://localhost:8080/"
        },
        "id": "SYGMOpVx6xox",
        "outputId": "4abe690b-88c9-4f06-e3ac-6997e26e160c"
      },
      "outputs": [
        {
          "output_type": "stream",
          "name": "stdout",
          "text": [
            "{'ST12000NM0007': 69106, 'TOSHIBA MG07ACA14TA': 63099, 'ST12000NM0008': 57859, 'ST4000DM000': 56775, 'ST8000NM0055': 43219, 'HGST HMS5C4040BLE640': 38229, 'HGST HUH721212ALN604': 32490, 'ST8000DM002': 29310, 'ST12000NM001G': 21386, 'ST14000NM001G': 17961, 'WDC WUH721414ALE6L4': 17686, 'HGST HMS5C4040ALE640': 9241, 'HGST HUH721212ALE600': 7800, 'HGST HUH721212ALE604': 7518, 'ST10000NM0086': 3603, 'HGST HUH728080ALE600': 3238, 'TOSHIBA MG08ACA16TEY': 3042, 'ST6000DX000': 2658, 'Seagate BarraCuda SSD ZA250CM10002': 1674, 'ST500LM012 HN': 1362, 'Seagate BarraCuda 120 SSD ZA250CM10003': 1218, 'TOSHIBA MQ01ABF050M': 1149, 'ST14000NM0138': 1080, 'TOSHIBA MQ01ABF050': 1059, 'ST500LM030': 723, 'WDC WD5000LPVX': 593, 'TOSHIBA MG07ACA14TEY': 480, 'DELLBOSS VD': 348, 'Seagate SSD': 324, 'TOSHIBA MD04ABA400V': 297, 'WDC  WUH721414ALE6L4': 293, 'ST18000NM000J': 180, 'ST16000NM001G': 177, 'WDC WD5000LPCX': 159, 'TOSHIBA MG08ACA16TA': 118, 'ST4000DM005': 114, 'MTFDDAV240TCB': 114, 'ST500LM021': 99, 'HGST HUS726040ALE610': 82, 'ST16000NM005G': 78, 'ST8000DM005': 75, 'HGST HDS5C4040ALE630': 75, 'HGST HUH721010ALE600': 60, 'Seagate BarraCuda SSD ZA500CM10002': 54, 'TOSHIBA HDWF180': 51, 'ST12000NM0117': 30, 'WDC WD5000BPKT': 30, 'ST14000NM0018': 15, 'TOSHIBA HDWE160': 12, 'Seagate BarraCuda SSD ZA2000CM10002': 12, 'SSDSCKKB480G8R': 12, 'ST6000DM001': 12, 'WDC WD60EFRX': 9, 'Hitachi HDS5C4040ALE630': 9, 'MTFDDAV240TDU': 6, 'HGST HMS5C4040BLE641': 3, 'ST1000LM024 HN': 3, 'ST6000DM004': 3, 'ST8000DM004': 3}\n",
            "\n",
            "**************************************************\n",
            "(496415, 2)\n",
            "(331008, 2)\n"
          ]
        }
      ],
      "source": [
        "# Response encoding the 'model' feature.\n",
        "values, TR, FA = res_fit(Train['model'], Train['failure'].values)\n",
        "print(values)\n",
        "print()\n",
        "Train_model = res_transform(Train['model'], TR, FA)\n",
        "Val_model = res_transform(Val['model'], TR, FA)\n",
        "print('*'*50)\n",
        "print(Train_model.shape)\n",
        "print(Val_model.shape)"
      ]
    },
    {
      "cell_type": "code",
      "execution_count": 45,
      "metadata": {
        "colab": {
          "base_uri": "https://localhost:8080/",
          "height": 364
        },
        "id": "ZRn1AKVA9Toz",
        "outputId": "6526588d-cd05-4467-a2bf-403dfc55974f"
      },
      "outputs": [
        {
          "output_type": "stream",
          "name": "stderr",
          "text": [
            "WARNING:matplotlib.legend:No handles with labels found to put in legend.\n"
          ]
        },
        {
          "output_type": "stream",
          "name": "stdout",
          "text": [
            "0    496406\n",
            "1         9\n",
            "Name: failure, dtype: int64\n"
          ]
        },
        {
          "output_type": "display_data",
          "data": {
            "text/plain": [
              "<Figure size 432x288 with 1 Axes>"
            ],
            "image/png": "[encoded data removed]"
          },
          "metadata": {
            "needs_background": "light"
          }
        }
      ],
      "source": [
        "# Checking the balance of the Train Dataset.\n",
        "total = len(Train)\n",
        "print(Train.failure.value_counts())\n",
        "ax = sns.countplot(x = 'failure', data = Train)\n",
        "for p in ax.patches:\n",
        "  ax.annotate('{}'.format(p.get_height()), (p.get_x()+0.25, p.get_height()+5))\n",
        "ax.yaxis.set_ticks(np.linspace(0, total, 11))\n",
        "plt.legend()\n",
        "plt.title(\"Failure Counts\")\n",
        "plt.show()"
      ]
    },
    {
      "cell_type": "code",
      "execution_count": 46,
      "metadata": {
        "colab": {
          "base_uri": "https://localhost:8080/",
          "height": 364
        },
        "id": "QYjz4-iJ9ftm",
        "outputId": "d580ca18-55c6-42bb-dfa6-5feafb7a61e2"
      },
      "outputs": [
        {
          "output_type": "stream",
          "name": "stderr",
          "text": [
            "WARNING:matplotlib.legend:No handles with labels found to put in legend.\n"
          ]
        },
        {
          "output_type": "stream",
          "name": "stdout",
          "text": [
            "0    330993\n",
            "1        15\n",
            "Name: failure, dtype: int64\n"
          ]
        },
        {
          "output_type": "display_data",
          "data": {
            "text/plain": [
              "<Figure size 432x288 with 1 Axes>"
            ],
            "image/png": "[encoded data removed]"
          },
          "metadata": {
            "needs_background": "light"
          }
        }
      ],
      "source": [
        "# Checking the balance of the Val Dataset.\n",
        "total = len(Val)\n",
        "print(Val.failure.value_counts())\n",
        "ax = sns.countplot(x = 'failure', data = Val)\n",
        "for p in ax.patches:\n",
        "  ax.annotate('{}'.format(p.get_height()), (p.get_x()+0.25, p.get_height()+5))\n",
        "ax.yaxis.set_ticks(np.linspace(0, total, 11))\n",
        "plt.legend()\n",
        "plt.title(\"Failure Counts\")\n",
        "plt.show()"
      ]
    },
    {
      "cell_type": "markdown",
      "metadata": {
        "id": "2zZY14OkzpMd"
      },
      "source": [
        "From the above, it is found that Dataset is highly imbalanced with class 1 (i.e. HDD is failure) as minority."
      ]
    },
    {
      "cell_type": "code",
      "execution_count": 47,
      "metadata": {
        "id": "nljjqfZ79xGn"
      },
      "outputs": [],
      "source": [
        "#del Data"
      ]
    },
    {
      "cell_type": "code",
      "execution_count": 48,
      "metadata": {
        "id": "MVAMFSxJdncm"
      },
      "outputs": [],
      "source": [
        "#Train.drop('smart_241_normalized', axis = 1, inplace = True)\n",
        "#Val.drop('smart_241_normalized', axis = 1, inplace = True)"
      ]
    },
    {
      "cell_type": "markdown",
      "metadata": {
        "id": "d3yK3kWBr5Vh"
      },
      "source": [
        "# 6. Upsampling of Minority Class of Train using SMOTE\n",
        "\n",
        "\n",
        "\n"
      ]
    },
    {
      "cell_type": "markdown",
      "metadata": {
        "id": "Udw33iYPKy1A"
      },
      "source": [
        "> Instead of upsampling the minority class by normal sampling (i.e. creating duplicates of same points) SMOTE technique is used as upsampling technique as it upsamples by interpolation."
      ]
    },
    {
      "cell_type": "code",
      "execution_count": 49,
      "metadata": {
        "id": "cfRuGFdV96K9"
      },
      "outputs": [],
      "source": [
        "X_Train_orig = Train.drop(f, axis = 1).values\n",
        "Y_Train_orig = Train.failure.values\n",
        "X_Val_orig = Val.drop(f, axis = 1).values\n",
        "Y_Val_orig = Val.failure.values"
      ]
    },
    {
      "cell_type": "code",
      "execution_count": 50,
      "metadata": {
        "colab": {
          "base_uri": "https://localhost:8080/"
        },
        "id": "AdqDxKPifOVJ",
        "outputId": "0dd0f647-a396-450e-a5ea-7274a2ddbeb4"
      },
      "outputs": [
        {
          "output_type": "execute_result",
          "data": {
            "text/plain": [
              "((496415, 49), (496415,))"
            ]
          },
          "metadata": {},
          "execution_count": 50
        }
      ],
      "source": [
        "X_Train_orig.shape, Y_Train_orig.shape"
      ]
    },
    {
      "cell_type": "code",
      "execution_count": 51,
      "metadata": {
        "colab": {
          "base_uri": "https://localhost:8080/"
        },
        "id": "v4rPjqq1-eij",
        "outputId": "df4ce18d-2a1d-4f3b-a541-a366401dd4bf"
      },
      "outputs": [
        {
          "output_type": "execute_result",
          "data": {
            "text/plain": [
              "((331008, 49), (331008,))"
            ]
          },
          "metadata": {},
          "execution_count": 51
        }
      ],
      "source": [
        "X_Val_orig.shape, Y_Val_orig.shape"
      ]
    },
    {
      "cell_type": "code",
      "execution_count": 52,
      "metadata": {
        "colab": {
          "base_uri": "https://localhost:8080/"
        },
        "id": "oLm712gdq87g",
        "outputId": "479a66ec-ee11-4a11-ae07-7ae0f814467e"
      },
      "outputs": [
        {
          "output_type": "execute_result",
          "data": {
            "text/plain": [
              "((496415, 51), (331008, 51))"
            ]
          },
          "metadata": {},
          "execution_count": 52
        }
      ],
      "source": [
        "# Stacking the response encoded array with respective Train and Val dataset.\n",
        "X_Train_orig = np.hstack((X_Train_orig, Train_model))\n",
        "X_Val_orig = np.hstack((X_Val_orig, Val_model))\n",
        "X_Train_orig.shape, X_Val_orig.shape"
      ]
    },
    {
      "cell_type": "code",
      "execution_count": 53,
      "metadata": {
        "id": "UpWqZuTZGbP7"
      },
      "outputs": [],
      "source": [
        "del Train_model\n",
        "del Val_model"
      ]
    },
    {
      "cell_type": "code",
      "execution_count": 54,
      "metadata": {
        "colab": {
          "base_uri": "https://localhost:8080/"
        },
        "id": "kn2-CUWfg7Ha",
        "outputId": "6cf5cb5d-8a3a-47e1-e05b-383d74193944"
      },
      "outputs": [
        {
          "output_type": "execute_result",
          "data": {
            "text/plain": [
              "(Counter({0: 496406, 1: 9}), Counter({0: 330993, 1: 15}))"
            ]
          },
          "metadata": {},
          "execution_count": 54
        }
      ],
      "source": [
        "Counter(Y_Train_orig), Counter(Y_Val_orig)"
      ]
    },
    {
      "cell_type": "code",
      "execution_count": 55,
      "metadata": {
        "id": "HPbTQ3VZg8aH"
      },
      "outputs": [],
      "source": [
        "# SMOTE sampling\n",
        "# class imblearn.over_sampling.SMOTE(sampling_strategy='auto', random_state=None, k_neighbors=5, m_neighbors='deprecated', out_step='deprecated', kind='deprecated', svm_estimator='deprecated', n_jobs=1, ratio=None)\n",
        "# k_neighbors (default=5) : number of nearest neighbours to used to construct synthetic samples.\n",
        "from imblearn.under_sampling import RandomUnderSampler\n",
        "from imblearn.pipeline import Pipeline\n",
        "\n",
        "under = RandomUnderSampler(sampling_strategy = 0.8)\n",
        "over_smote = SMOTE(n_jobs = -1, k_neighbors = 1, sampling_strategy = 0.5)\n",
        "steps = [('o', over_smote), ('u', under)]\n",
        "pipeline = Pipeline(steps = steps)"
      ]
    },
    {
      "cell_type": "code",
      "execution_count": 56,
      "metadata": {
        "id": "rGmZBD2phFh4"
      },
      "outputs": [],
      "source": [
        "# SMOTE oversampling is applied on Train dataset as per oversampling concepts.\n",
        "# Since Val dataset is also highly imbalanced, regular oversampling is applied(i.e creating duplicates of minority class)\n",
        "\n",
        "x_train_sam, y_train_sam = pipeline.fit_resample(X_Train_orig, Y_Train_orig) # Resampling the Training Data by oversampling the minority class using SMOTE \n",
        "#and undersampling the majority class.\n",
        "x_val, y_val = X_Val_orig, Y_Val_orig"
      ]
    },
    {
      "cell_type": "code",
      "execution_count": 57,
      "metadata": {
        "colab": {
          "base_uri": "https://localhost:8080/"
        },
        "id": "HvaU_DlWhRX1",
        "outputId": "8d57f913-dd2b-4663-d8f4-4501d5b98946"
      },
      "outputs": [
        {
          "output_type": "execute_result",
          "data": {
            "text/plain": [
              "((558456, 51), (558456,))"
            ]
          },
          "metadata": {},
          "execution_count": 57
        }
      ],
      "source": [
        "x_train_sam.shape, y_train_sam.shape # Final shape of Train datapoints."
      ]
    },
    {
      "cell_type": "code",
      "execution_count": 58,
      "metadata": {
        "colab": {
          "base_uri": "https://localhost:8080/"
        },
        "id": "zVsgKmeAACO-",
        "outputId": "91d06992-12ae-4856-d542-4ec7fb1d2966"
      },
      "outputs": [
        {
          "output_type": "execute_result",
          "data": {
            "text/plain": [
              "((331008, 51), (331008,))"
            ]
          },
          "metadata": {},
          "execution_count": 58
        }
      ],
      "source": [
        "x_val.shape, y_val.shape # Final shape of Val datapoints."
      ]
    },
    {
      "cell_type": "code",
      "execution_count": 59,
      "metadata": {
        "colab": {
          "base_uri": "https://localhost:8080/",
          "height": 353
        },
        "id": "CFmCkWbefdYi",
        "outputId": "186262a6-930f-4719-ca76-787eaf2bd5bd"
      },
      "outputs": [
        {
          "output_type": "stream",
          "name": "stdout",
          "text": [
            "Counter({0: 310253, 1: 248203})\n"
          ]
        },
        {
          "output_type": "stream",
          "name": "stderr",
          "text": [
            "/usr/local/lib/python3.8/dist-packages/seaborn/_decorators.py:36: FutureWarning: Pass the following variable as a keyword arg: x. From version 0.12, the only valid positional argument will be `data`, and passing other arguments without an explicit keyword will result in an error or misinterpretation.\n",
            "  warnings.warn(\n"
          ]
        },
        {
          "output_type": "display_data",
          "data": {
            "text/plain": [
              "<Figure size 432x288 with 1 Axes>"
            ],
            "image/png": "[encoded data removed]"
          },
          "metadata": {
            "needs_background": "light"
          }
        }
      ],
      "source": [
        "# Visualization after balancing Train Dataset.\n",
        "total = len(X_Train_orig)\n",
        "print(Counter(y_train_sam))\n",
        "ax = sns.countplot(y_train_sam)\n",
        "for p in ax.patches:\n",
        "  ax.annotate('{}'.format(p.get_height()), (p.get_x()+0.25, p.get_height()+5))\n",
        "\n",
        "ax.yaxis.set_ticks(np.linspace(0, total, 11))\n",
        "plt.title(\"Failure counts after sampling\")\n",
        "plt.show()"
      ]
    },
    {
      "cell_type": "code",
      "execution_count": 60,
      "metadata": {
        "colab": {
          "base_uri": "https://localhost:8080/",
          "height": 353
        },
        "id": "vNkJypyqALV-",
        "outputId": "e1d7b663-542f-4b6a-a1c6-b46a6be298e4"
      },
      "outputs": [
        {
          "output_type": "stream",
          "name": "stdout",
          "text": [
            "Counter({0: 330993, 1: 15})\n"
          ]
        },
        {
          "output_type": "stream",
          "name": "stderr",
          "text": [
            "/usr/local/lib/python3.8/dist-packages/seaborn/_decorators.py:36: FutureWarning: Pass the following variable as a keyword arg: x. From version 0.12, the only valid positional argument will be `data`, and passing other arguments without an explicit keyword will result in an error or misinterpretation.\n",
            "  warnings.warn(\n"
          ]
        },
        {
          "output_type": "display_data",
          "data": {
            "text/plain": [
              "<Figure size 432x288 with 1 Axes>"
            ],
            "image/png": "[encoded data removed]"
          },
          "metadata": {
            "needs_background": "light"
          }
        }
      ],
      "source": [
        "# Visualization after balancing Val Dataset.\n",
        "total = len(X_Val_orig)\n",
        "print(Counter(y_val))\n",
        "ax = sns.countplot(y_val)\n",
        "for p in ax.patches:\n",
        "  ax.annotate('{}'.format(p.get_height()), (p.get_x()+0.25, p.get_height()+5))\n",
        "\n",
        "ax.yaxis.set_ticks(np.linspace(0, total, 11))\n",
        "plt.title(\"Failure counts after sampling\")\n",
        "plt.show()"
      ]
    },
    {
      "cell_type": "markdown",
      "metadata": {
        "id": "USW9WhReu7eP"
      },
      "source": [
        "From the above it is seen that, after oversampling both classes are balanced."
      ]
    },
    {
      "cell_type": "markdown",
      "metadata": {
        "id": "eT72b-HvAx2T"
      },
      "source": [
        "# 7. Standardization:"
      ]
    },
    {
      "cell_type": "code",
      "execution_count": 61,
      "metadata": {
        "id": "2Lx2yzno3sgG"
      },
      "outputs": [],
      "source": [
        "from sklearn.preprocessing import Normalizer, StandardScaler\n",
        "normalizer = Normalizer()\n",
        "sc = StandardScaler()"
      ]
    },
    {
      "cell_type": "code",
      "execution_count": 62,
      "metadata": {
        "id": "RuQGHLW9BA7w"
      },
      "outputs": [],
      "source": [
        "# Standardizing both Train and Val Dataset.\n",
        "sc.fit(x_train_sam)\n",
        "\n",
        "X_train_standard = sc.transform(x_train_sam)\n",
        "X_val_standard = sc.transform(x_val)"
      ]
    },
    {
      "cell_type": "code",
      "execution_count": 63,
      "metadata": {
        "colab": {
          "base_uri": "https://localhost:8080/"
        },
        "id": "LJUGKcCcYVl_",
        "outputId": "a36f1288-87f1-4dfc-c8b5-582143baa437"
      },
      "outputs": [
        {
          "output_type": "stream",
          "name": "stdout",
          "text": [
            "Train 8.13810860737027e-11 0.9999999999997196\n",
            "Val 0.029851524620251778 1.0501199070795555\n",
            "(558456, 51) (331008, 51)\n"
          ]
        }
      ],
      "source": [
        "print(\"Train\", np.mean(X_train_standard), np.std(X_train_standard))\n",
        "print(\"Val\", np.mean(X_val_standard), np.std(X_val_standard))\n",
        "print(X_train_standard.shape, X_val_standard.shape)"
      ]
    },
    {
      "cell_type": "code",
      "execution_count": 64,
      "metadata": {
        "colab": {
          "base_uri": "https://localhost:8080/"
        },
        "id": "cTOUclsgIIAD",
        "outputId": "7984fbf7-1a0b-4b6b-fa7c-d75340d8ff35"
      },
      "outputs": [
        {
          "output_type": "execute_result",
          "data": {
            "text/plain": [
              "array([-0.69564976,  1.32107842,  0.33903406, -0.48513077,  0.28901754,\n",
              "       -0.12092607,  0.28873686, -0.33576378,  0.14423874, -0.00206413,\n",
              "        0.81739557, -0.95389962,  0.26233197, -0.01487156,  0.01994464,\n",
              "       -0.67645166, -0.65708871, -0.00196511,  1.05684017, -0.13793156,\n",
              "        0.75423956, -0.03751386,  0.74136067,  0.73274569, -0.01717538,\n",
              "       -0.22719485,  0.42927143, -0.3516313 , -0.62591253, -0.01599539,\n",
              "       -0.68809902, -0.0074515 ,  0.26431019, -0.19851711,  0.26328066,\n",
              "       -0.19778451,  0.32542015, -0.01016983,  0.5658565 , -0.62423143,\n",
              "        0.67714997,  0.34243031,  0.67716398, -0.4163592 ,  0.67782215,\n",
              "        0.72647949,  0.30131156,  0.73400034,  0.6484656 , -0.45172278,\n",
              "        0.45172279])"
            ]
          },
          "metadata": {},
          "execution_count": 64
        }
      ],
      "source": [
        "X_val_standard[0]"
      ]
    },
    {
      "cell_type": "markdown",
      "metadata": {
        "id": "ibqu809NDoqf"
      },
      "source": [
        "# 8. Test Dataset"
      ]
    },
    {
      "cell_type": "code",
      "execution_count": 65,
      "metadata": {
        "colab": {
          "base_uri": "https://localhost:8080/"
        },
        "id": "hy7C32blKL5V",
        "outputId": "d3bc4b3f-df69-47d4-dd21-7da19712e7b8"
      },
      "outputs": [
        {
          "output_type": "execute_result",
          "data": {
            "text/plain": [
              "(330211, 149)"
            ]
          },
          "metadata": {},
          "execution_count": 65
        }
      ],
      "source": [
        "# Creating the Test Dataset to check performance of the model.\n",
        "# Test data is from 2021-01-06 to 2019-01-07\n",
        "\n",
        "Dates = ['07']\n",
        "Test = pd.read_csv(\"/content/drive/My Drive/hdddata/2021/2021-01-06.csv\")\n",
        "for i in Dates:\n",
        "  Test = Test.append(pd.read_csv(\"/content/drive/My Drive/hdddata/2021/2021-01-\" + i + \".csv\"))\n",
        "\n",
        "# Test = pd.read_csv(\"/content/drive/My Drive/hdddata/2021/2021-01-06.csv\")\n",
        "# Test = Test.append(pd.read_csv(\"/content/drive/My Drive/hdddata/2021/2021-01-07\"))\n",
        "\n",
        "Test.reset_index(inplace = True)\n",
        "Test.drop('index', axis = 1, inplace = True)\n",
        "Test.shape"
      ]
    },
    {
      "cell_type": "code",
      "execution_count": 66,
      "metadata": {
        "colab": {
          "base_uri": "https://localhost:8080/"
        },
        "id": "-6w9KFRDoO6m",
        "outputId": "d50ff337-adf8-41b9-ed6d-feaec0a2356c"
      },
      "outputs": [
        {
          "output_type": "execute_result",
          "data": {
            "text/plain": [
              "0    330204\n",
              "1         7\n",
              "Name: failure, dtype: int64"
            ]
          },
          "metadata": {},
          "execution_count": 66
        }
      ],
      "source": [
        "Test.failure.value_counts()"
      ]
    },
    {
      "cell_type": "code",
      "execution_count": 67,
      "metadata": {
        "colab": {
          "base_uri": "https://localhost:8080/"
        },
        "id": "2ZAlaYf6KLyS",
        "outputId": "19c31153-3854-44d2-dd82-87b0c74a0801"
      },
      "outputs": [
        {
          "output_type": "execute_result",
          "data": {
            "text/plain": [
              "(330211, 49)"
            ]
          },
          "metadata": {},
          "execution_count": 67
        }
      ],
      "source": [
        "# Preprocessing of Test Data.\n",
        "Test.drop(Initial[Null], axis = 1, inplace = True)\n",
        "Test.drop(M_features[index], axis = 1, inplace = True)\n",
        "Test.shape"
      ]
    },
    {
      "cell_type": "code",
      "execution_count": 68,
      "metadata": {
        "colab": {
          "base_uri": "https://localhost:8080/"
        },
        "id": "k7bGNfZprH7P",
        "outputId": "5000f5b5-cb9a-4205-a9d0-26d65e59864d"
      },
      "outputs": [
        {
          "output_type": "stream",
          "name": "stdout",
          "text": [
            "(330211, 49)\n",
            "(330155, 49)\n"
          ]
        }
      ],
      "source": [
        "print(Test.shape)\n",
        "Test.drop(np.where(Test['capacity_bytes'] == -1)[0], inplace = True)\n",
        "print(Test.shape)"
      ]
    },
    {
      "cell_type": "code",
      "execution_count": 69,
      "metadata": {
        "colab": {
          "base_uri": "https://localhost:8080/"
        },
        "id": "ds6QtRN0TV6L",
        "outputId": "371615d5-2130-44d6-f76b-f3182d8feb12"
      },
      "outputs": [
        {
          "output_type": "execute_result",
          "data": {
            "text/plain": [
              "0    330148\n",
              "1         7\n",
              "Name: failure, dtype: int64"
            ]
          },
          "metadata": {},
          "execution_count": 69
        }
      ],
      "source": [
        "Test.failure.value_counts()"
      ]
    },
    {
      "cell_type": "code",
      "execution_count": 70,
      "metadata": {
        "id": "W9w_Ez_nsw2u"
      },
      "outputs": [],
      "source": [
        "Test = Test.fillna(0)"
      ]
    },
    {
      "cell_type": "code",
      "execution_count": 71,
      "metadata": {
        "colab": {
          "base_uri": "https://localhost:8080/"
        },
        "id": "UofI_2KBnmvt",
        "outputId": "c5c60372-8a93-47b1-d50d-b7f7c01aa0da"
      },
      "outputs": [
        {
          "output_type": "execute_result",
          "data": {
            "text/plain": [
              "(330155, 54)"
            ]
          },
          "metadata": {},
          "execution_count": 71
        }
      ],
      "source": [
        "for i in cf:\n",
        "   n = re.findall('\\d+',i) \n",
        "   s = 'smart_' + ''.join(n) + '_sig'\n",
        "   Test[s] = Test[i].apply(Sigmoid)\n",
        "Test.shape"
      ]
    },
    {
      "cell_type": "code",
      "execution_count": 72,
      "metadata": {
        "id": "GDmdT8u5nmhL"
      },
      "outputs": [],
      "source": [
        "Test_model = res_transform(Test['model'], TR, FA)"
      ]
    },
    {
      "cell_type": "code",
      "execution_count": 73,
      "metadata": {
        "id": "r5-dHoXaobSS"
      },
      "outputs": [],
      "source": [
        "X_Test_orig = Test.drop(f, axis = 1).values\n",
        "Y_Test_orig = Test.failure.values"
      ]
    },
    {
      "cell_type": "code",
      "execution_count": 74,
      "metadata": {
        "colab": {
          "base_uri": "https://localhost:8080/"
        },
        "id": "-LbqqfhvobI8",
        "outputId": "46d57d4a-62bc-46aa-acfa-9ac2985b9282"
      },
      "outputs": [
        {
          "output_type": "execute_result",
          "data": {
            "text/plain": [
              "(330155, 51)"
            ]
          },
          "metadata": {},
          "execution_count": 74
        }
      ],
      "source": [
        "X_Test_orig = np.hstack((X_Test_orig, Test_model))\n",
        "X_Test_orig.shape"
      ]
    },
    {
      "cell_type": "code",
      "execution_count": 75,
      "metadata": {
        "id": "7GuNFmP-uRoe"
      },
      "outputs": [],
      "source": [
        "x_test, y_test = X_Test_orig, Y_Test_orig"
      ]
    },
    {
      "cell_type": "code",
      "execution_count": 76,
      "metadata": {
        "colab": {
          "base_uri": "https://localhost:8080/"
        },
        "id": "mN7ts7SWFq8I",
        "outputId": "4b192637-3608-4133-fb65-b6c341823eb2"
      },
      "outputs": [
        {
          "output_type": "execute_result",
          "data": {
            "text/plain": [
              "(330155, 51)"
            ]
          },
          "metadata": {},
          "execution_count": 76
        }
      ],
      "source": [
        "x_test.shape"
      ]
    },
    {
      "cell_type": "code",
      "execution_count": 77,
      "metadata": {
        "colab": {
          "base_uri": "https://localhost:8080/"
        },
        "id": "dA8Unaz6F7f0",
        "outputId": "647b0806-2ee1-4e46-f0c5-67959dcac333"
      },
      "outputs": [
        {
          "output_type": "execute_result",
          "data": {
            "text/plain": [
              "Counter({0: 330148, 1: 7})"
            ]
          },
          "metadata": {},
          "execution_count": 77
        }
      ],
      "source": [
        "(Counter(y_test))"
      ]
    },
    {
      "cell_type": "code",
      "execution_count": 78,
      "metadata": {
        "colab": {
          "base_uri": "https://localhost:8080/"
        },
        "id": "hcDmxKp4pFXX",
        "outputId": "af12d415-3b36-47e7-fb44-2f7aa73015ef"
      },
      "outputs": [
        {
          "output_type": "execute_result",
          "data": {
            "text/plain": [
              "(330155, 51)"
            ]
          },
          "metadata": {},
          "execution_count": 78
        }
      ],
      "source": [
        "# Standardisation of Test Dataset.\n",
        "X_test_standard = sc.transform(x_test)\n",
        "X_test_standard.shape"
      ]
    },
    {
      "cell_type": "markdown",
      "metadata": {
        "id": "0XaXwc65r-VD"
      },
      "source": [
        "# 9. Modelling"
      ]
    },
    {
      "cell_type": "code",
      "execution_count": 79,
      "metadata": {
        "id": "Hh6aUpAKrgDH"
      },
      "outputs": [],
      "source": [
        "import warnings\n",
        "warnings.filterwarnings(\"ignore\")\n",
        "from random import sample, choice\n",
        "from tqdm import tqdm\n",
        "\n",
        "from sklearn.linear_model import LogisticRegression\n",
        "from sklearn.metrics import roc_auc_score, confusion_matrix, precision_score, recall_score, roc_curve, auc, classification_report, f1_score, precision_recall_curve\n",
        "from scipy.stats import randint as sp_randint, uniform\n",
        "from sklearn.model_selection import RandomizedSearchCV, StratifiedKFold\n",
        "from sklearn.calibration import CalibratedClassifierCV\n",
        "from sklearn.ensemble import StackingClassifier\n",
        "from sklearn.linear_model import SGDClassifier\n",
        "from sklearn.kernel_approximation import Nystroem\n",
        "from sklearn.svm import LinearSVC\n",
        "\n",
        "balance = [{0:1,1:10}, {0:1,1:100}, {0:1,1:1000}, {0:1,1:10000}, {0:10,1:100000}]"
      ]
    },
    {
      "cell_type": "code",
      "execution_count": 80,
      "metadata": {
        "id": "3drECh-zrksQ"
      },
      "outputs": [],
      "source": [
        "# This function is used to plot Cofusion Matrix, Precision Matrix and Recall Matrix.\n",
        "def plot_matrices(Y, Y_Pred):\n",
        "    C = confusion_matrix(Y, Y_Pred) # Confusion Matrix\n",
        "    \n",
        "    A =(((C.T)/(C.sum(axis=1))).T) # Calculating Recall Matrix\n",
        "    \n",
        "    B =(C/C.sum(axis=0)) # Calculating Precision Matrix\n",
        "    plt.figure(figsize=(20,4))\n",
        "    \n",
        "    labels = [0,1]\n",
        "    # representing A in heatmap format\n",
        "    cmap=sns.light_palette(\"blue\")\n",
        "    plt.subplot(1, 3, 1)\n",
        "    sns.heatmap(C, annot=True, cmap=cmap, fmt=\".3f\", xticklabels=labels, yticklabels=labels)\n",
        "    plt.xlabel('Predicted Class')\n",
        "    plt.ylabel('Original Class')\n",
        "    plt.title(\"Confusion matrix\")\n",
        "    \n",
        "    plt.subplot(1, 3, 2)\n",
        "    sns.heatmap(B, annot=True, cmap=cmap, fmt=\".3f\", xticklabels=labels, yticklabels=labels)\n",
        "    plt.xlabel('Predicted Class')\n",
        "    plt.ylabel('Original Class')\n",
        "    plt.title(\"Precision matrix\")\n",
        "    print(\"Sum of columns in precision matrix\",B.sum(axis=0))\n",
        "    \n",
        "    plt.subplot(1, 3, 3)\n",
        "    # representing B in heatmap format\n",
        "    sns.heatmap(A, annot=True, cmap=cmap, fmt=\".3f\", xticklabels=labels, yticklabels=labels)\n",
        "    plt.xlabel('Predicted Class')\n",
        "    plt.ylabel('Original Class')\n",
        "    plt.title(\"Recall matrix\")\n",
        "    print(\"Sum of rows in recall matrix\",A.sum(axis=1))\n",
        "    \n",
        "    plt.show()\n"
      ]
    },
    {
      "cell_type": "code",
      "execution_count": 81,
      "metadata": {
        "id": "fg3-Y1ZOroMB"
      },
      "outputs": [],
      "source": [
        "# This function prints the metrics of the model.\n",
        "def Metrics(model, X, Y, threshold):\n",
        "    y_pred_prob = model.predict_proba(X)[:, 1]\n",
        "    y_pred = model.predict(X)\n",
        "\n",
        "    print(\"The Prescision Score: \", precision_score(Y, predict_with_best_t(y_pred_prob, threshold)))\n",
        "    print(\"The Recall Score: \", recall_score(Y, predict_with_best_t(y_pred_prob, threshold)))\n",
        "    print(\"The ROC Score: \", roc_auc_score(Y, y_pred_prob))\n",
        "    print(\"The F1 Score: \", f1_score(Y, predict_with_best_t(y_pred_prob, threshold)))\n",
        "    print('*'*100)\n",
        "    print(classification_report(Y, predict_with_best_t(y_pred_prob, threshold)))\n",
        "    print('*'*100)\n",
        "    plot_matrices(Y, predict_with_best_t(y_pred_prob, threshold))"
      ]
    },
    {
      "cell_type": "code",
      "execution_count": 82,
      "metadata": {
        "id": "TRwipCbh6sZn"
      },
      "outputs": [],
      "source": [
        "def to_labels(pos_probs, threshold):\n",
        "\treturn (pos_probs >= threshold).astype('int')"
      ]
    },
    {
      "cell_type": "code",
      "execution_count": 83,
      "metadata": {
        "id": "cHwuTub86tb-"
      },
      "outputs": [],
      "source": [
        "def find_best_threshold(threshould, fpr, tpr):\n",
        "    # This function finds the optimal threshold value based on G-Mean metric\n",
        "    # The Geometric Mean or G-Mean is a metric for imbalanced classification that, if optimized, will seek a balance between the sensitivity and the specificity.\n",
        "    # Ref: https://machinelearningmastery.com/threshold-moving-for-imbalanced-classification/\n",
        "    t = threshould[np.argmax(np.sqrt(tpr*(1-fpr)))]\n",
        "    # sqrt(tpr*(1-fpr)) will be maximum if your fpr is very low and tpr is very high\n",
        "    print(\"the maximum value of sqrt(tpr*(1-fpr))\", max(np.sqrt(tpr*(1-fpr))), \"for threshold\", np.round(t,3))\n",
        "    return t\n",
        "\n",
        "def predict_with_best_t(proba, threshould): # This function predicts class labels based on the optimal threshold value.\n",
        "    predictions = []\n",
        "    for i in proba:\n",
        "        if i>=threshould:\n",
        "            predictions.append(1)\n",
        "        else:\n",
        "            predictions.append(0)\n",
        "    return predictions\n",
        "\n",
        "def BEST(trainscores, testscores, TR, Models): # This function is used to get the best model based on the highest test score.\n",
        "  ind = np.argmax(testscores)\n",
        "  test_score = testscores[ind]\n",
        "  train_score = trainscores[ind]\n",
        "  threshold = TR[ind]\n",
        "  best_est = Models[ind]\n",
        "  return test_score, train_score, threshold, best_est"
      ]
    },
    {
      "cell_type": "markdown",
      "metadata": {
        "id": "UKgbkk703-AO"
      },
      "source": [
        "# 9.1.  LOGISTIC REGRESSION"
      ]
    },
    {
      "cell_type": "code",
      "execution_count": 84,
      "metadata": {
        "colab": {
          "base_uri": "https://localhost:8080/"
        },
        "id": "_WW2lpquHKQ8",
        "outputId": "532609ef-7c1b-4215-c8ed-ddf0508be3f4"
      },
      "outputs": [
        {
          "output_type": "execute_result",
          "data": {
            "text/plain": [
              "{'C': [0.0001, 0.001, 0.01, 0.1, 1, 10.0, 100.0, 1000.0, 10000.0, 100000.0],\n",
              " 'penalty': ['l1', 'l2', 'elasticnet'],\n",
              " 'l1_ratio': [0.019377492088801906,\n",
              "  0.04732454568613975,\n",
              "  0.05936134994418729,\n",
              "  0.08072002471593298,\n",
              "  0.09239601838993983,\n",
              "  0.24900969988460553,\n",
              "  0.486853501421621,\n",
              "  0.60097824834246,\n",
              "  0.738916318893494,\n",
              "  0.7939498788110421],\n",
              " 'class_weight': [{0: 1, 1: 10},\n",
              "  {0: 1, 1: 100},\n",
              "  {0: 1, 1: 1000},\n",
              "  {0: 1, 1: 10000},\n",
              "  {0: 10, 1: 100000}]}"
            ]
          },
          "metadata": {},
          "execution_count": 84
        }
      ],
      "source": [
        "# Hyperparameter tuning of Logistic Regression\n",
        "param = {'C' : [1e-4, 1e-3, 1e-2, 1e-1, 1, 1e1, 1e2, 1e3, 1e4, 1e5],\n",
        "         'penalty' : ['l1', 'l2', 'elasticnet'],\n",
        "         'l1_ratio' : list(np.sort(np.random.uniform(0, 1, 10))),\n",
        "         'class_weight' : balance}\n",
        "LR = LogisticRegression(n_jobs = -1, solver = 'saga')\n",
        "param"
      ]
    },
    {
      "cell_type": "markdown",
      "metadata": {
        "id": "l6nC8Fo9hEkK"
      },
      "source": [
        "This custom Random SearchCV is built on the original Training dataset with stratifiedkfold split where at each fold the generated training data is sampled and trained with assigned parameter and evaluated on the generated unsampled val data using f1-score metric."
      ]
    },
    {
      "cell_type": "code",
      "execution_count": 85,
      "metadata": {
        "colab": {
          "base_uri": "https://localhost:8080/"
        },
        "id": "0uMKGTp5dha8",
        "outputId": "6587edfa-1232-4e8b-cb27-2ef6a8ae093e"
      },
      "outputs": [
        {
          "output_type": "stream",
          "name": "stderr",
          "text": [
            "\r  0%|          | 0/10 [00:00<?, ?it/s]"
          ]
        },
        {
          "output_type": "stream",
          "name": "stdout",
          "text": [
            "\n",
            "B Counter({0: 446765, 1: 8})\n",
            "A Counter({0: 279227, 1: 223382})\n",
            "the maximum value of sqrt(tpr*(1-fpr)) 0.6373038533752668 for threshold 0.034\n",
            "Train 0.7289928547069353\n",
            "Test 6.78403039245616e-05\n",
            "\n",
            "B Counter({0: 446765, 1: 8})\n",
            "A Counter({0: 279227, 1: 223382})\n",
            "the maximum value of sqrt(tpr*(1-fpr)) 0.9890315245226856 for threshold 0.453\n",
            "Train 0.9571070643984094\n",
            "Test 0.0018433179723502304\n",
            "\n",
            "B Counter({0: 446765, 1: 8})\n",
            "A Counter({0: 279227, 1: 223382})\n",
            "the maximum value of sqrt(tpr*(1-fpr)) 0.9982862372357146 for threshold 0.925\n",
            "Train 0.5198932340898668\n",
            "Test 0.011627906976744186\n",
            "\n",
            "B Counter({0: 446765, 1: 8})\n",
            "A Counter({0: 279227, 1: 223382})\n",
            "the maximum value of sqrt(tpr*(1-fpr)) 0.9988208434423953 for threshold 0.993\n",
            "Train 0.14359454488209852\n",
            "Test 0.01680672268907563\n",
            "\n",
            "B Counter({0: 446765, 1: 8})\n",
            "A Counter({0: 279227, 1: 223382})\n",
            "the maximum value of sqrt(tpr*(1-fpr)) 0.9997582351128161 for threshold 0.999\n",
            "Train 0.06336154985833975\n",
            "Test 0.07692307692307693\n",
            "\n",
            "B Counter({0: 446765, 1: 9})\n",
            "A Counter({0: 279227, 1: 223382})\n",
            "the maximum value of sqrt(tpr*(1-fpr)) nan for threshold 2.0\n",
            "Train 0.0\n",
            "Test 0.0\n",
            "\n",
            "B Counter({0: 446766, 1: 8})\n",
            "A Counter({0: 279228, 1: 223383})\n",
            "the maximum value of sqrt(tpr*(1-fpr)) 0.5208582454423526 for threshold 0.023\n",
            "Train 0.686432553022807\n",
            "Test 5.5286800276433994e-05\n",
            "\n",
            "B Counter({0: 446766, 1: 8})\n",
            "A Counter({0: 279228, 1: 223383})\n",
            "the maximum value of sqrt(tpr*(1-fpr)) 0.9981348439970258 for threshold 0.82\n",
            "Train 0.7497938718662953\n",
            "Test 0.010695187165775402\n",
            "\n",
            "B Counter({0: 446766, 1: 8})\n",
            "A Counter({0: 279228, 1: 223383})\n",
            "the maximum value of sqrt(tpr*(1-fpr)) 0.9541039056053475 for threshold 0.399\n",
            "Train 0.9480508731757111\n",
            "Test 0.00044903457566232603\n",
            "\n",
            "B Counter({0: 446766, 1: 8})\n",
            "A Counter({0: 279228, 1: 223383})\n",
            "the maximum value of sqrt(tpr*(1-fpr)) 0.4636461667361108 for threshold 0.023\n",
            "Train 0.6705520017530535\n"
          ]
        },
        {
          "output_type": "stream",
          "name": "stderr",
          "text": [
            "\r 10%|█         | 1/10 [12:34<1:53:06, 754.06s/it]"
          ]
        },
        {
          "output_type": "stream",
          "name": "stdout",
          "text": [
            "Test 5.132021246567961e-05\n",
            "\n",
            "\n",
            "B Counter({0: 446765, 1: 8})\n",
            "A Counter({0: 279227, 1: 223382})\n",
            "the maximum value of sqrt(tpr*(1-fpr)) 0.6299917997997363 for threshold 0.003\n",
            "Train 0.7256031209295225\n",
            "Test 6.679803613773756e-05\n",
            "\n",
            "B Counter({0: 446765, 1: 8})\n",
            "A Counter({0: 279227, 1: 223382})\n",
            "the maximum value of sqrt(tpr*(1-fpr)) 0.9704545299611439 for threshold 0.299\n",
            "Train 0.9652186500109103\n",
            "Test 0.0006915629322268327\n",
            "\n",
            "B Counter({0: 446765, 1: 8})\n",
            "A Counter({0: 279227, 1: 223382})\n",
            "the maximum value of sqrt(tpr*(1-fpr)) 0.9988712632203913 for threshold 0.996\n",
            "Train 0.39075316392053205\n",
            "Test 0.017543859649122806\n",
            "\n",
            "B Counter({0: 446765, 1: 8})\n",
            "A Counter({0: 279227, 1: 223382})\n",
            "the maximum value of sqrt(tpr*(1-fpr)) 0.9999395642582471 for threshold 1.0\n",
            "Train 0.0\n",
            "Test 0.25\n",
            "\n",
            "B Counter({0: 446765, 1: 8})\n",
            "A Counter({0: 279227, 1: 223382})\n",
            "the maximum value of sqrt(tpr*(1-fpr)) 0.9995063345038296 for threshold 0.999\n",
            "Train 0.2726525191770932\n",
            "Test 0.0392156862745098\n",
            "\n",
            "B Counter({0: 446765, 1: 9})\n",
            "A Counter({0: 279227, 1: 223382})\n",
            "the maximum value of sqrt(tpr*(1-fpr)) nan for threshold 2.0\n",
            "Train 0.0\n",
            "Test 0.0\n",
            "\n",
            "B Counter({0: 446766, 1: 8})\n",
            "A Counter({0: 279228, 1: 223383})\n",
            "the maximum value of sqrt(tpr*(1-fpr)) 0.6015525173282449 for threshold 0.003\n",
            "Train 0.7149159653780237\n",
            "Test 6.313330597556741e-05\n",
            "\n",
            "B Counter({0: 446766, 1: 8})\n",
            "A Counter({0: 279228, 1: 223383})\n",
            "the maximum value of sqrt(tpr*(1-fpr)) 0.9981348439970258 for threshold 0.933\n",
            "Train 0.7756684893028075\n",
            "Test 0.010695187165775402\n",
            "\n",
            "B Counter({0: 446766, 1: 8})\n",
            "A Counter({0: 279228, 1: 223383})\n",
            "the maximum value of sqrt(tpr*(1-fpr)) 0.8272041588306873 for threshold 0.038\n",
            "Train 0.8351140985763849\n",
            "Test 0.00012759170653907495\n",
            "\n",
            "B Counter({0: 446766, 1: 8})\n",
            "A Counter({0: 279228, 1: 223383})\n",
            "the maximum value of sqrt(tpr*(1-fpr)) 0.5473362349317821 for threshold 0.005\n",
            "Train 0.6959860916814921\n"
          ]
        },
        {
          "output_type": "stream",
          "name": "stderr",
          "text": [
            "\r 20%|██        | 2/10 [27:39<1:52:24, 843.08s/it]"
          ]
        },
        {
          "output_type": "stream",
          "name": "stdout",
          "text": [
            "Test 5.7519197032009424e-05\n",
            "\n",
            "\n",
            "B Counter({0: 446765, 1: 8})\n",
            "A Counter({0: 279227, 1: 223382})\n",
            "the maximum value of sqrt(tpr*(1-fpr)) 0.6922432092437909 for threshold 0.001\n",
            "Train 0.7548180974956199\n",
            "Test 7.735447689035004e-05\n",
            "\n",
            "B Counter({0: 446765, 1: 8})\n",
            "A Counter({0: 279227, 1: 223382})\n",
            "the maximum value of sqrt(tpr*(1-fpr)) 0.9519594044714981 for threshold 0.143\n",
            "Train 0.9443031821016032\n",
            "Test 0.00042946102641185313\n",
            "\n",
            "B Counter({0: 446765, 1: 8})\n",
            "A Counter({0: 279227, 1: 223382})\n",
            "the maximum value of sqrt(tpr*(1-fpr)) 0.9995063345038296 for threshold 0.999\n",
            "Train 0.36256513847414956\n",
            "Test 0.0392156862745098\n",
            "\n",
            "B Counter({0: 446765, 1: 8})\n",
            "A Counter({0: 279227, 1: 223382})\n",
            "the maximum value of sqrt(tpr*(1-fpr)) 0.999909345017567 for threshold 1.0\n",
            "Train 0.0\n",
            "Test 0.18181818181818182\n",
            "\n",
            "B Counter({0: 446765, 1: 8})\n",
            "A Counter({0: 279227, 1: 223382})\n",
            "the maximum value of sqrt(tpr*(1-fpr)) 0.9996574824863006 for threshold 0.999\n",
            "Train 0.2840118175190883\n",
            "Test 0.05555555555555556\n",
            "\n",
            "B Counter({0: 446765, 1: 9})\n",
            "A Counter({0: 279227, 1: 223382})\n",
            "the maximum value of sqrt(tpr*(1-fpr)) nan for threshold 2.0\n",
            "Train 0.0\n",
            "Test 0.0\n",
            "\n",
            "B Counter({0: 446766, 1: 8})\n",
            "A Counter({0: 279228, 1: 223383})\n",
            "the maximum value of sqrt(tpr*(1-fpr)) 0.5592421774633854 for threshold 0.001\n",
            "Train 0.6985783442996172\n",
            "Test 5.86218014479585e-05\n",
            "\n",
            "B Counter({0: 446766, 1: 8})\n",
            "A Counter({0: 279228, 1: 223383})\n",
            "the maximum value of sqrt(tpr*(1-fpr)) 0.9981449352901041 for threshold 0.944\n",
            "Train 0.7622674391350266\n",
            "Test 0.010752688172043012\n",
            "\n",
            "B Counter({0: 446766, 1: 8})\n",
            "A Counter({0: 279228, 1: 223383})\n",
            "the maximum value of sqrt(tpr*(1-fpr)) 0.8002819809246913 for threshold 0.013\n",
            "Train 0.8154717793897003\n",
            "Test 0.00011204481792717086\n",
            "\n",
            "B Counter({0: 446766, 1: 8})\n",
            "A Counter({0: 279228, 1: 223383})\n",
            "the maximum value of sqrt(tpr*(1-fpr)) 0.5598542172394864 for threshold 0.001\n",
            "Train 0.699293453251148\n"
          ]
        },
        {
          "output_type": "stream",
          "name": "stderr",
          "text": [
            "\r 30%|███       | 3/10 [42:12<1:39:55, 856.57s/it]"
          ]
        },
        {
          "output_type": "stream",
          "name": "stdout",
          "text": [
            "Test 5.868028049174075e-05\n",
            "\n",
            "\n",
            "B Counter({0: 446765, 1: 8})\n",
            "A Counter({0: 279227, 1: 223382})\n",
            "the maximum value of sqrt(tpr*(1-fpr)) 0.6985871544833167 for threshold 0.004\n",
            "Train 0.7580545544628374\n",
            "Test 7.868749262304757e-05\n",
            "\n",
            "B Counter({0: 446765, 1: 8})\n",
            "A Counter({0: 279227, 1: 223382})\n",
            "the maximum value of sqrt(tpr*(1-fpr)) 0.9545692397476107 for threshold 0.15\n",
            "Train 0.9471660112151118\n",
            "Test 0.0004535147392290249\n",
            "\n",
            "B Counter({0: 446765, 1: 8})\n",
            "A Counter({0: 279227, 1: 223382})\n",
            "the maximum value of sqrt(tpr*(1-fpr)) 0.9988813468705904 for threshold 0.996\n",
            "Train 0.4125841167694908\n",
            "Test 0.017699115044247787\n",
            "\n",
            "B Counter({0: 446765, 1: 8})\n",
            "A Counter({0: 279227, 1: 223382})\n",
            "the maximum value of sqrt(tpr*(1-fpr)) 0.9998489037961852 for threshold 1.0\n",
            "Train 0.0\n",
            "Test 0.11764705882352941\n",
            "\n",
            "B Counter({0: 446765, 1: 8})\n",
            "A Counter({0: 279227, 1: 223382})\n",
            "the maximum value of sqrt(tpr*(1-fpr)) 0.9993954781215154 for threshold 0.996\n",
            "Train 0.3151260504201681\n",
            "Test 0.03225806451612903\n",
            "\n",
            "B Counter({0: 446765, 1: 9})\n",
            "A Counter({0: 279227, 1: 223382})\n",
            "the maximum value of sqrt(tpr*(1-fpr)) nan for threshold 2.0\n",
            "Train 0.0\n",
            "Test 0.0\n",
            "\n",
            "B Counter({0: 446766, 1: 8})\n",
            "A Counter({0: 279228, 1: 223383})\n",
            "the maximum value of sqrt(tpr*(1-fpr)) 0.5484209256439124 for threshold 0.001\n",
            "Train 0.6952733995667438\n",
            "Test 5.761696243374049e-05\n",
            "\n",
            "B Counter({0: 446766, 1: 8})\n",
            "A Counter({0: 279228, 1: 223383})\n",
            "the maximum value of sqrt(tpr*(1-fpr)) 0.9981146611047895 for threshold 0.94\n",
            "Train 0.7724098695601038\n",
            "Test 0.010582010582010583\n",
            "\n",
            "B Counter({0: 446766, 1: 8})\n",
            "A Counter({0: 279228, 1: 223383})\n",
            "the maximum value of sqrt(tpr*(1-fpr)) 0.8108600104128358 for threshold 0.014\n",
            "Train 0.8237656403845516\n",
            "Test 0.00011761938367442953\n",
            "\n",
            "B Counter({0: 446766, 1: 8})\n",
            "A Counter({0: 279228, 1: 223383})\n",
            "the maximum value of sqrt(tpr*(1-fpr)) 0.5662762713299878 for threshold 0.001\n",
            "Train 0.7021134153470918\n"
          ]
        },
        {
          "output_type": "stream",
          "name": "stderr",
          "text": [
            "\r 40%|████      | 4/10 [54:40<1:21:23, 813.86s/it]"
          ]
        },
        {
          "output_type": "stream",
          "name": "stdout",
          "text": [
            "Test 5.930494603249912e-05\n",
            "\n",
            "\n",
            "B Counter({0: 446765, 1: 8})\n",
            "A Counter({0: 279227, 1: 223382})\n",
            "the maximum value of sqrt(tpr*(1-fpr)) 0.7125485729874569 for threshold 0.001\n",
            "Train 0.7656689431786047\n",
            "Test 8.183640901837228e-05\n",
            "\n",
            "B Counter({0: 446765, 1: 8})\n",
            "A Counter({0: 279227, 1: 223382})\n",
            "the maximum value of sqrt(tpr*(1-fpr)) 0.9620841179455265 for threshold 0.184\n",
            "Train 0.9557778086792816\n",
            "Test 0.0005412719891745603\n",
            "\n",
            "B Counter({0: 446765, 1: 8})\n",
            "A Counter({0: 279227, 1: 223382})\n",
            "the maximum value of sqrt(tpr*(1-fpr)) 0.9994761021644128 for threshold 0.999\n",
            "Train 0.36389833607606503\n",
            "Test 0.037037037037037035\n",
            "\n",
            "B Counter({0: 446765, 1: 8})\n",
            "A Counter({0: 279227, 1: 223382})\n",
            "the maximum value of sqrt(tpr*(1-fpr)) 0.9998690512759368 for threshold 1.0\n",
            "Train 0.0\n",
            "Test 0.13333333333333333\n",
            "\n",
            "B Counter({0: 446765, 1: 8})\n",
            "A Counter({0: 279227, 1: 223382})\n",
            "the maximum value of sqrt(tpr*(1-fpr)) 0.9990426714320445 for threshold 0.989\n",
            "Train 0.5045400526111979\n",
            "Test 0.020618556701030924\n",
            "\n",
            "B Counter({0: 446765, 1: 9})\n",
            "A Counter({0: 279227, 1: 223382})\n",
            "the maximum value of sqrt(tpr*(1-fpr)) nan for threshold 2.0\n",
            "Train 0.0\n",
            "Test 0.0\n",
            "\n",
            "B Counter({0: 446766, 1: 8})\n",
            "A Counter({0: 279228, 1: 223383})\n",
            "the maximum value of sqrt(tpr*(1-fpr)) 0.5454374524218445 for threshold 0.001\n",
            "Train 0.6943700148582866\n",
            "Test 5.734931467568962e-05\n",
            "\n",
            "B Counter({0: 446766, 1: 8})\n",
            "A Counter({0: 279228, 1: 223383})\n",
            "the maximum value of sqrt(tpr*(1-fpr)) 0.99815502648116 for threshold 0.949\n",
            "Train 0.7571862597660848\n",
            "Test 0.010810810810810811\n",
            "\n",
            "B Counter({0: 446766, 1: 8})\n",
            "A Counter({0: 279228, 1: 223383})\n",
            "the maximum value of sqrt(tpr*(1-fpr)) 0.847199966976584 for threshold 0.045\n",
            "Train 0.8496380015632399\n",
            "Test 0.00014272461285948763\n",
            "\n",
            "B Counter({0: 446766, 1: 8})\n",
            "A Counter({0: 279228, 1: 223383})\n",
            "the maximum value of sqrt(tpr*(1-fpr)) 0.5680876780849431 for threshold 0.001\n",
            "Train 0.7025948292130592\n"
          ]
        },
        {
          "output_type": "stream",
          "name": "stderr",
          "text": [
            "\r 50%|█████     | 5/10 [1:06:43<1:05:05, 781.11s/it]"
          ]
        },
        {
          "output_type": "stream",
          "name": "stdout",
          "text": [
            "Test 5.9484861102849326e-05\n",
            "\n",
            "\n",
            "B Counter({0: 446765, 1: 8})\n",
            "A Counter({0: 279227, 1: 223382})\n",
            "the maximum value of sqrt(tpr*(1-fpr)) 0.7042735897766323 for threshold 0.001\n",
            "Train 0.7612929390695051\n",
            "Test 7.993285640062348e-05\n",
            "\n",
            "B Counter({0: 446765, 1: 8})\n",
            "A Counter({0: 279227, 1: 223382})\n",
            "the maximum value of sqrt(tpr*(1-fpr)) 0.9696238567824885 for threshold 0.278\n",
            "Train 0.9642770037663361\n",
            "Test 0.0006729475100942128\n",
            "\n",
            "B Counter({0: 446765, 1: 8})\n",
            "A Counter({0: 279227, 1: 223382})\n",
            "the maximum value of sqrt(tpr*(1-fpr)) 0.9991434860554919 for threshold 0.998\n",
            "Train 0.37238636694099514\n",
            "Test 0.022988505747126436\n",
            "\n",
            "B Counter({0: 446765, 1: 8})\n",
            "A Counter({0: 279227, 1: 223382})\n",
            "the maximum value of sqrt(tpr*(1-fpr)) 0.9998690512759368 for threshold 1.0\n",
            "Train 0.0\n",
            "Test 0.13333333333333333\n",
            "\n",
            "B Counter({0: 446765, 1: 8})\n",
            "A Counter({0: 279227, 1: 223382})\n",
            "the maximum value of sqrt(tpr*(1-fpr)) 0.9997179352806845 for threshold 1.0\n",
            "Train 0.25073755546338833\n",
            "Test 0.06666666666666667\n",
            "\n",
            "B Counter({0: 446765, 1: 9})\n",
            "A Counter({0: 279227, 1: 223382})\n",
            "the maximum value of sqrt(tpr*(1-fpr)) nan for threshold 2.0\n",
            "Train 0.0\n",
            "Test 0.0\n",
            "\n",
            "B Counter({0: 446766, 1: 8})\n",
            "A Counter({0: 279228, 1: 223383})\n",
            "the maximum value of sqrt(tpr*(1-fpr)) 0.5026721505061127 for threshold 0.0\n",
            "Train 0.6818065280160178\n",
            "Test 5.3909808889727486e-05\n",
            "\n",
            "B Counter({0: 446766, 1: 8})\n",
            "A Counter({0: 279228, 1: 223383})\n",
            "the maximum value of sqrt(tpr*(1-fpr)) 0.9981146611047895 for threshold 0.94\n",
            "Train 0.770228913516994\n",
            "Test 0.010582010582010583\n",
            "\n",
            "B Counter({0: 446766, 1: 8})\n",
            "A Counter({0: 279228, 1: 223383})\n",
            "the maximum value of sqrt(tpr*(1-fpr)) 0.8103754066840007 for threshold 0.013\n",
            "Train 0.8236107424121759\n",
            "Test 0.00011735023176670773\n",
            "\n",
            "B Counter({0: 446766, 1: 8})\n",
            "A Counter({0: 279228, 1: 223383})\n",
            "the maximum value of sqrt(tpr*(1-fpr)) 0.5478696563550064 for threshold 0.002\n",
            "Train 0.6954487293240809\n"
          ]
        },
        {
          "output_type": "stream",
          "name": "stderr",
          "text": [
            "\r 60%|██████    | 6/10 [1:20:12<52:42, 790.71s/it]  "
          ]
        },
        {
          "output_type": "stream",
          "name": "stdout",
          "text": [
            "Test 5.7567209717345005e-05\n",
            "\n",
            "\n",
            "B Counter({0: 446765, 1: 8})\n",
            "A Counter({0: 279227, 1: 223382})\n",
            "the maximum value of sqrt(tpr*(1-fpr)) 0.7101698174364436 for threshold 0.001\n",
            "Train 0.7642530654696738\n",
            "Test 8.127768521152518e-05\n",
            "\n",
            "B Counter({0: 446765, 1: 8})\n",
            "A Counter({0: 279227, 1: 223382})\n",
            "the maximum value of sqrt(tpr*(1-fpr)) 0.9690835373895873 for threshold 0.274\n",
            "Train 0.9635823651080883\n",
            "Test 0.0006613756613756614\n",
            "\n",
            "B Counter({0: 446765, 1: 8})\n",
            "A Counter({0: 279227, 1: 223382})\n",
            "the maximum value of sqrt(tpr*(1-fpr)) 0.9988410116590062 for threshold 0.996\n",
            "Train 0.42467521051983903\n",
            "Test 0.017094017094017096\n",
            "\n",
            "B Counter({0: 446765, 1: 8})\n",
            "A Counter({0: 279227, 1: 223382})\n",
            "the maximum value of sqrt(tpr*(1-fpr)) 0.9998690512759368 for threshold 1.0\n",
            "Train 0.0\n",
            "Test 0.13333333333333333\n",
            "\n",
            "B Counter({0: 446765, 1: 8})\n",
            "A Counter({0: 279227, 1: 223382})\n",
            "the maximum value of sqrt(tpr*(1-fpr)) 0.9995869496053442 for threshold 0.999\n",
            "Train 0.27998169702422837\n",
            "Test 0.046511627906976744\n",
            "\n",
            "B Counter({0: 446765, 1: 9})\n",
            "A Counter({0: 279227, 1: 223382})\n",
            "the maximum value of sqrt(tpr*(1-fpr)) nan for threshold 2.0\n",
            "Train 0.0\n",
            "Test 0.0\n",
            "\n",
            "B Counter({0: 446766, 1: 8})\n",
            "A Counter({0: 279228, 1: 223383})\n",
            "the maximum value of sqrt(tpr*(1-fpr)) 0.5185907265464276 for threshold 0.0\n",
            "Train 0.6863302655046709\n",
            "Test 5.510856387082552e-05\n",
            "\n",
            "B Counter({0: 446766, 1: 8})\n",
            "A Counter({0: 279228, 1: 223383})\n",
            "the maximum value of sqrt(tpr*(1-fpr)) 0.9981449352901041 for threshold 0.946\n",
            "Train 0.7631890073003563\n",
            "Test 0.010752688172043012\n",
            "\n",
            "B Counter({0: 446766, 1: 8})\n",
            "A Counter({0: 279228, 1: 223383})\n",
            "the maximum value of sqrt(tpr*(1-fpr)) 0.8468313218529608 for threshold 0.047\n",
            "Train 0.849360174751855\n",
            "Test 0.0001424095699230988\n",
            "\n",
            "B Counter({0: 446766, 1: 8})\n",
            "A Counter({0: 279228, 1: 223383})\n",
            "the maximum value of sqrt(tpr*(1-fpr)) 0.5618118496361746 for threshold 0.001\n",
            "Train 0.7004852656417815\n"
          ]
        },
        {
          "output_type": "stream",
          "name": "stderr",
          "text": [
            "\r 70%|███████   | 7/10 [1:33:37<39:45, 795.27s/it]"
          ]
        },
        {
          "output_type": "stream",
          "name": "stdout",
          "text": [
            "Test 5.886854653558604e-05\n",
            "\n",
            "\n",
            "B Counter({0: 446765, 1: 8})\n",
            "A Counter({0: 279227, 1: 223382})\n",
            "the maximum value of sqrt(tpr*(1-fpr)) 0.7139607361171253 for threshold 0.002\n",
            "Train 0.7664965300712859\n",
            "Test 8.217264472657051e-05\n",
            "\n",
            "B Counter({0: 446765, 1: 8})\n",
            "A Counter({0: 279227, 1: 223382})\n",
            "the maximum value of sqrt(tpr*(1-fpr)) 0.9657831288822565 for threshold 0.184\n",
            "Train 0.9601839712867244\n",
            "Test 0.000598623166716552\n",
            "\n",
            "B Counter({0: 446765, 1: 8})\n",
            "A Counter({0: 279227, 1: 223382})\n",
            "the maximum value of sqrt(tpr*(1-fpr)) 0.9995365659288282 for threshold 0.999\n",
            "Train 0.3684220123928211\n",
            "Test 0.04166666666666667\n",
            "\n",
            "B Counter({0: 446765, 1: 8})\n",
            "A Counter({0: 279227, 1: 223382})\n",
            "the maximum value of sqrt(tpr*(1-fpr)) 0.9998690512759368 for threshold 1.0\n",
            "Train 0.0\n",
            "Test 0.13333333333333333\n",
            "\n",
            "B Counter({0: 446765, 1: 8})\n",
            "A Counter({0: 279227, 1: 223382})\n",
            "the maximum value of sqrt(tpr*(1-fpr)) 0.999697784755406 for threshold 1.0\n",
            "Train 0.2562800547566954\n",
            "Test 0.0625\n",
            "\n",
            "B Counter({0: 446765, 1: 9})\n",
            "A Counter({0: 279227, 1: 223382})\n",
            "the maximum value of sqrt(tpr*(1-fpr)) nan for threshold 2.0\n",
            "Train 0.0\n",
            "Test 0.0\n",
            "\n",
            "B Counter({0: 446766, 1: 8})\n",
            "A Counter({0: 279228, 1: 223383})\n",
            "the maximum value of sqrt(tpr*(1-fpr)) 0.5447722394808168 for threshold 0.001\n",
            "Train 0.69402592076504\n",
            "Test 5.729017473503295e-05\n",
            "\n",
            "B Counter({0: 446766, 1: 8})\n",
            "A Counter({0: 279228, 1: 223383})\n",
            "the maximum value of sqrt(tpr*(1-fpr)) 0.9982761128172076 for threshold 0.968\n",
            "Train 0.7420690351571047\n",
            "Test 0.011560693641618497\n",
            "\n",
            "B Counter({0: 446766, 1: 8})\n",
            "A Counter({0: 279228, 1: 223383})\n",
            "the maximum value of sqrt(tpr*(1-fpr)) 0.8443536690586834 for threshold 0.045\n",
            "Train 0.8468133097036497\n",
            "Test 0.00014033118158854902\n",
            "\n",
            "B Counter({0: 446766, 1: 8})\n",
            "A Counter({0: 279228, 1: 223383})\n",
            "the maximum value of sqrt(tpr*(1-fpr)) 0.5504741198711022 for threshold 0.002\n",
            "Train 0.6964157113863593\n"
          ]
        },
        {
          "output_type": "stream",
          "name": "stderr",
          "text": [
            "\r 80%|████████  | 8/10 [1:47:05<26:38, 799.25s/it]"
          ]
        },
        {
          "output_type": "stream",
          "name": "stdout",
          "text": [
            "Test 5.7803468208092484e-05\n",
            "\n",
            "\n",
            "B Counter({0: 446765, 1: 8})\n",
            "A Counter({0: 279227, 1: 223382})\n",
            "the maximum value of sqrt(tpr*(1-fpr)) 0.6989186927638292 for threshold 0.004\n",
            "Train 0.7582127952779291\n",
            "Test 7.875876191226274e-05\n",
            "\n",
            "B Counter({0: 446765, 1: 8})\n",
            "A Counter({0: 279227, 1: 223382})\n",
            "the maximum value of sqrt(tpr*(1-fpr)) 0.9644786012247983 for threshold 0.244\n",
            "Train 0.9581412106836635\n",
            "Test 0.0005770340450086556\n",
            "\n",
            "B Counter({0: 446765, 1: 8})\n",
            "A Counter({0: 279227, 1: 223382})\n",
            "the maximum value of sqrt(tpr*(1-fpr)) 0.9995164117470937 for threshold 0.999\n",
            "Train 0.3658212313356515\n",
            "Test 0.039999999999999994\n",
            "\n",
            "B Counter({0: 446765, 1: 8})\n",
            "A Counter({0: 279227, 1: 223382})\n",
            "the maximum value of sqrt(tpr*(1-fpr)) 0.9998690512759368 for threshold 1.0\n",
            "Train 0.0\n",
            "Test 0.13333333333333333\n",
            "\n",
            "B Counter({0: 446765, 1: 8})\n",
            "A Counter({0: 279227, 1: 223382})\n",
            "the maximum value of sqrt(tpr*(1-fpr)) 0.9996373307424244 for threshold 1.0\n",
            "Train 0.2564096565009027\n",
            "Test 0.052631578947368425\n",
            "\n",
            "B Counter({0: 446765, 1: 9})\n",
            "A Counter({0: 279227, 1: 223382})\n",
            "the maximum value of sqrt(tpr*(1-fpr)) nan for threshold 2.0\n",
            "Train 0.0\n",
            "Test 0.0\n",
            "\n",
            "B Counter({0: 446766, 1: 8})\n",
            "A Counter({0: 279228, 1: 223383})\n",
            "the maximum value of sqrt(tpr*(1-fpr)) 0.5411734050293302 for threshold 0.001\n",
            "Train 0.6929483878572803\n",
            "Test 5.69735642661805e-05\n",
            "\n",
            "B Counter({0: 446766, 1: 8})\n",
            "A Counter({0: 279228, 1: 223383})\n",
            "the maximum value of sqrt(tpr*(1-fpr)) 0.9983669179316321 for threshold 0.973\n",
            "Train 0.7248430534073333\n",
            "Test 0.012195121951219513\n",
            "\n",
            "B Counter({0: 446766, 1: 8})\n",
            "A Counter({0: 279228, 1: 223383})\n",
            "the maximum value of sqrt(tpr*(1-fpr)) 0.7984927380380087 for threshold 0.011\n",
            "Train 0.8149942628647733\n",
            "Test 0.00011116051578479325\n",
            "\n",
            "B Counter({0: 446766, 1: 8})\n",
            "A Counter({0: 279228, 1: 223383})\n",
            "the maximum value of sqrt(tpr*(1-fpr)) 0.5678216571487525 for threshold 0.001\n",
            "Train 0.7022425373192979\n"
          ]
        },
        {
          "output_type": "stream",
          "name": "stderr",
          "text": [
            "\r 90%|█████████ | 9/10 [2:00:27<13:20, 800.12s/it]"
          ]
        },
        {
          "output_type": "stream",
          "name": "stdout",
          "text": [
            "Test 5.945833457204864e-05\n",
            "\n",
            "\n",
            "B Counter({0: 446765, 1: 8})\n",
            "A Counter({0: 279227, 1: 223382})\n",
            "the maximum value of sqrt(tpr*(1-fpr)) 0.7106660481163903 for threshold 0.002\n",
            "Train 0.7645748121780501\n",
            "Test 8.13934559661403e-05\n",
            "\n",
            "B Counter({0: 446765, 1: 8})\n",
            "A Counter({0: 279227, 1: 223382})\n",
            "the maximum value of sqrt(tpr*(1-fpr)) 0.9666066824078208 for threshold 0.256\n",
            "Train 0.9605576327269522\n",
            "Test 0.0006131207847946046\n",
            "\n",
            "B Counter({0: 446765, 1: 8})\n",
            "A Counter({0: 279227, 1: 223382})\n",
            "the maximum value of sqrt(tpr*(1-fpr)) 0.9991535669583657 for threshold 0.997\n",
            "Train 0.37191966866779874\n",
            "Test 0.023255813953488372\n",
            "\n",
            "B Counter({0: 446765, 1: 8})\n",
            "A Counter({0: 279227, 1: 223382})\n",
            "the maximum value of sqrt(tpr*(1-fpr)) 0.9998690512759368 for threshold 1.0\n",
            "Train 0.0\n",
            "Test 0.13333333333333333\n",
            "\n",
            "B Counter({0: 446765, 1: 8})\n",
            "A Counter({0: 279227, 1: 223382})\n",
            "the maximum value of sqrt(tpr*(1-fpr)) 0.9993249267481529 for threshold 0.997\n",
            "Train 0.31701475702603626\n",
            "Test 0.028985507246376812\n",
            "\n",
            "B Counter({0: 446765, 1: 9})\n",
            "A Counter({0: 279227, 1: 223382})\n",
            "the maximum value of sqrt(tpr*(1-fpr)) nan for threshold 2.0\n",
            "Train 0.0\n",
            "Test 0.0\n",
            "\n",
            "B Counter({0: 446766, 1: 8})\n",
            "A Counter({0: 279228, 1: 223383})\n",
            "the maximum value of sqrt(tpr*(1-fpr)) 0.5399995523321629 for threshold 0.001\n",
            "Train 0.6926701302808876\n",
            "Test 5.687149884835215e-05\n",
            "\n",
            "B Counter({0: 446766, 1: 8})\n",
            "A Counter({0: 279228, 1: 223383})\n",
            "the maximum value of sqrt(tpr*(1-fpr)) 0.9982155714851977 for threshold 0.957\n",
            "Train 0.7448713323208848\n",
            "Test 0.0111731843575419\n",
            "\n",
            "B Counter({0: 446766, 1: 8})\n",
            "A Counter({0: 279228, 1: 223383})\n",
            "the maximum value of sqrt(tpr*(1-fpr)) 0.8115429341225605 for threshold 0.014\n",
            "Train 0.8244390601269969\n",
            "Test 0.00011800106200955809\n",
            "\n",
            "B Counter({0: 446766, 1: 8})\n",
            "A Counter({0: 279228, 1: 223383})\n",
            "the maximum value of sqrt(tpr*(1-fpr)) 0.5527566256389441 for threshold 0.001\n",
            "Train 0.6969089082593423\n"
          ]
        },
        {
          "output_type": "stream",
          "name": "stderr",
          "text": [
            "100%|██████████| 10/10 [2:13:51<00:00, 803.11s/it]"
          ]
        },
        {
          "output_type": "stream",
          "name": "stdout",
          "text": [
            "Test 5.8013052936910804e-05\n",
            "\n"
          ]
        },
        {
          "output_type": "stream",
          "name": "stderr",
          "text": [
            "\n"
          ]
        }
      ],
      "source": [
        "# Creating custom RandomSearchCV for hyperparameter tuning.\n",
        "# In this Cross-Validation is done by StratifiedKFold\n",
        "\n",
        "trainscores = [] # This list is to store the trainscores\n",
        "testscores  = [] # This list is to store the testscores\n",
        "Models = [] # This list is to store the models on each iter\n",
        "TR = []\n",
        "# This loop is to use ten random values for each hyperparameter\n",
        "for iter in tqdm(range(0, 10)):\n",
        "  #print(iter)\n",
        "  Thresholds = []\n",
        "  trainscores_folds = []\n",
        "  testscores_folds  = []\n",
        "  w = 0\n",
        "  LR = LogisticRegression(n_jobs = -1, solver = 'saga')\n",
        "  for key, value in param.items(): # Assigns the value for each hyperparameter\n",
        "    if isinstance(value, list):\n",
        "      if (key == 'C'):\n",
        "        LR.C = value[iter]\n",
        "      if (key == 'penalty'):\n",
        "        LR.penalty = choice(value)\n",
        "      if (key == 'l1_ratio'):\n",
        "        LR.l1_ratio = value[iter]\n",
        "      #if (key == 'class_weight'):\n",
        "       # LR.class_weight = choice(value)\n",
        "  #print(LR)\n",
        "  Models.append(LR)\n",
        "  #print(Models)\n",
        "  ss = StratifiedKFold(n_splits = 10, shuffle = True, random_state = 1) # Splitting the training data into train and val data \n",
        "  # using stratifiedKFold (10-folds) to ensure that each fold consists of both classes.\n",
        "  # Running the loop for each fold\n",
        "  for train, test in ss.split(X_Train_orig, Y_Train_orig): # This loop uses original training dataset.\n",
        "      print()\n",
        "      X_train = np.zeros(len(train))\n",
        "      Y_train = np.zeros(len(train))\n",
        "      X_test = np.zeros(len(test))\n",
        "      Y_test = np.zeros(len(test))\n",
        "\n",
        "      # selecting the data points based on the train_indices and test_indices\n",
        "      X_train = X_Train_orig[train]\n",
        "      Y_train = Y_Train_orig[train]\n",
        "      X_test  = X_Train_orig[test]\n",
        "      Y_test  = Y_Train_orig[test]\n",
        "      print(\"B\", Counter(Y_train)) # Count of training classes before sampling\n",
        "\n",
        "      X_train, Y_train = pipeline.fit_resample(X_train, Y_train) # Sampling the training data by the above defined pipeline\n",
        "      print(\"A\", Counter(Y_train)) # Count of training classes after sampling\n",
        "      # Standardizing the above train and val data.\n",
        "      sc = StandardScaler()\n",
        "      sc.fit(X_train)\n",
        "      X_train = sc.transform(X_train)\n",
        "      X_test = sc.transform(X_test)\n",
        "\n",
        "      LR.fit(X_train,Y_train)\n",
        "\n",
        "      Y_predicted_test = LR.predict_proba(X_test)[:, 1]\n",
        "\n",
        "      Y_predicted_train = LR.predict_proba(X_train)[:, 1]\n",
        "\n",
        "      # This following snippets are used tuning the thresholds generated by roc_curve \n",
        "      train_fpr, train_tpr, tr_thresholds = roc_curve(Y_train, Y_predicted_train)\n",
        "      test_fpr, test_tpr, te_thresholds = roc_curve(Y_test, Y_predicted_test)\n",
        "      #thresholds = np.linspace(0.0, 1.0, num=len(te_thresholds))\n",
        "      best_t = find_best_threshold(te_thresholds, test_fpr, test_tpr) # Finding the best threshold based on the prediction on val data\n",
        "      Thresholds.append(best_t)\n",
        "\n",
        "      # F1-score based on the optimal threshold value\n",
        "      print('Train', f1_score(Y_train, predict_with_best_t(Y_predicted_train, best_t)))\n",
        "      trainscores_folds.append(f1_score(Y_train, predict_with_best_t(Y_predicted_train, best_t)))\n",
        "\n",
        "      print('Test', f1_score(Y_test, predict_with_best_t(Y_predicted_test, best_t)))\n",
        "      testscores_folds.append(f1_score(Y_test, predict_with_best_t(Y_predicted_test, best_t)))\n",
        "\n",
        "  # print(trainscores_folds)\n",
        "  TR.append(Thresholds[np.argmax(testscores_folds)]) \n",
        "  trainscores.append(np.mean(np.array(trainscores_folds))) # Taking the mean of trainscores obtained from each fold\n",
        "  testscores.append(np.mean(np.array(testscores_folds))) # Taking the mean of testscores obtained from each fold\n",
        "  print() "
      ]
    },
    {
      "cell_type": "code",
      "execution_count": 86,
      "metadata": {
        "colab": {
          "base_uri": "https://localhost:8080/"
        },
        "id": "3qRAxKufH2o_",
        "outputId": "380c0c26-1935-443d-8c8b-b7b53f031dd3"
      },
      "outputs": [
        {
          "output_type": "stream",
          "name": "stdout",
          "text": [
            "[0.5467778547753517, 0.5375912098976767, 0.5321309251665952, 0.5426493057726098, 0.559367424594582, 0.5319788778509493, 0.5431857051320493, 0.5330706545519681, 0.5273613135246831, 0.5372956301586949]\n",
            "[0.011851969361935137, 0.031846133826731925, 0.028807827422345923, 0.01789529924899096, 0.02026824050690431, 0.023455222394600565, 0.020869070653328686, 0.024999691427759325, 0.023904341945346522, 0.0197675238745296]\n"
          ]
        }
      ],
      "source": [
        "print(trainscores)\n",
        "print(testscores)"
      ]
    },
    {
      "cell_type": "code",
      "execution_count": 87,
      "metadata": {
        "colab": {
          "base_uri": "https://localhost:8080/",
          "height": 265
        },
        "id": "9sFJSumRS8Mm",
        "outputId": "f34b7c37-87ee-47fd-a882-36596df3f860"
      },
      "outputs": [
        {
          "output_type": "display_data",
          "data": {
            "text/plain": [
              "<Figure size 432x288 with 1 Axes>"
            ],
            "image/png": "[encoded data removed]"
          },
          "metadata": {
            "needs_background": "light"
          }
        }
      ],
      "source": [
        "plt.plot(trainscores,label = \"Train\")\n",
        "plt.plot(testscores, label = 'Val')\n",
        "plt.legend()\n",
        "plt.grid(True)\n",
        "plt.show()"
      ]
    },
    {
      "cell_type": "markdown",
      "metadata": {
        "id": "Pz23bUndk0II"
      },
      "source": [
        "This plot shows the trainscores and testscores on each iteration"
      ]
    },
    {
      "cell_type": "code",
      "execution_count": 88,
      "metadata": {
        "colab": {
          "base_uri": "https://localhost:8080/"
        },
        "id": "6VzEn-s2S949",
        "outputId": "0648935d-1552-4855-e903-1fecc7f51c27"
      },
      "outputs": [
        {
          "output_type": "stream",
          "name": "stdout",
          "text": [
            "0.031846133826731925 0.5375912098976767\n"
          ]
        }
      ],
      "source": [
        "# Choosing the best model based on highest test score.\n",
        "test_score, train_score, threshold, est = BEST(trainscores, testscores, TR, Models)\n",
        "print(test_score, train_score)"
      ]
    },
    {
      "cell_type": "code",
      "execution_count": 89,
      "metadata": {
        "colab": {
          "base_uri": "https://localhost:8080/"
        },
        "id": "qWzKUSEoIDtb",
        "outputId": "20220a25-5411-4e3b-94de-61df58585822"
      },
      "outputs": [
        {
          "output_type": "execute_result",
          "data": {
            "text/plain": [
              "LogisticRegression(C=0.001, l1_ratio=0.04732454568613975, n_jobs=-1,\n",
              "                   penalty='l1', solver='saga')"
            ]
          },
          "metadata": {},
          "execution_count": 89
        }
      ],
      "source": [
        "# Using the best model\n",
        "LR = est\n",
        "LR"
      ]
    },
    {
      "cell_type": "code",
      "execution_count": 90,
      "metadata": {
        "colab": {
          "base_uri": "https://localhost:8080/"
        },
        "id": "BRfc31waVfj-",
        "outputId": "44db92a9-87be-4adc-e8f3-9e9679dc2c02"
      },
      "outputs": [
        {
          "output_type": "execute_result",
          "data": {
            "text/plain": [
              "CalibratedClassifierCV(base_estimator=LogisticRegression(C=0.001,\n",
              "                                                         l1_ratio=0.04732454568613975,\n",
              "                                                         n_jobs=-1,\n",
              "                                                         penalty='l1',\n",
              "                                                         solver='saga'),\n",
              "                       method='isotonic')"
            ]
          },
          "metadata": {},
          "execution_count": 90
        }
      ],
      "source": [
        "# Fitting the calibrated classifier over the best model\n",
        "sig_clf = CalibratedClassifierCV(LR, method=\"isotonic\")\n",
        "sig_clf.fit(X_train_standard, y_train_sam)"
      ]
    },
    {
      "cell_type": "code",
      "execution_count": 91,
      "metadata": {
        "colab": {
          "base_uri": "https://localhost:8080/"
        },
        "id": "uO6ZHOqMX42B",
        "outputId": "18ae94cc-b292-4672-f1e1-98b89c422b57"
      },
      "outputs": [
        {
          "output_type": "stream",
          "name": "stdout",
          "text": [
            "the maximum value of sqrt(tpr*(1-fpr)) 0.6270160283676214 for threshold 0.808\n"
          ]
        }
      ],
      "source": [
        "Y_predicted_val = sig_clf.predict_proba(X_val_standard)[:, 1]\n",
        "\n",
        "Y_predicted_train = sig_clf.predict_proba(X_train_standard)[:, 1]\n",
        "\n",
        "# Threshold Tuning based on the original Val Dataset.\n",
        "train_fpr, train_tpr, tr_thresholds = roc_curve(y_train_sam, Y_predicted_train)\n",
        "val_fpr, val_tpr, val_thresholds = roc_curve(y_val, Y_predicted_val)\n",
        "thresholds = np.linspace(0.0, 1.0, num=len(val_thresholds))\n",
        "best_t = find_best_threshold(val_thresholds, val_fpr, val_tpr)"
      ]
    },
    {
      "cell_type": "code",
      "execution_count": 92,
      "metadata": {
        "colab": {
          "base_uri": "https://localhost:8080/",
          "height": 1000
        },
        "id": "Fd4_wG2HVfnW",
        "outputId": "b04d2cb2-8c3c-4779-c993-ccd668567905"
      },
      "outputs": [
        {
          "output_type": "stream",
          "name": "stdout",
          "text": [
            "The Prescision Score:  0.9781543670818782\n",
            "The Recall Score:  0.96369503994714\n",
            "The ROC Score:  0.9950108071872725\n",
            "The F1 Score:  0.9708708702614173\n",
            "****************************************************************************************************\n",
            "              precision    recall  f1-score   support\n",
            "\n",
            "           0       0.97      0.98      0.98    310253\n",
            "           1       0.98      0.96      0.97    248203\n",
            "\n",
            "    accuracy                           0.97    558456\n",
            "   macro avg       0.97      0.97      0.97    558456\n",
            "weighted avg       0.97      0.97      0.97    558456\n",
            "\n",
            "****************************************************************************************************\n",
            "Sum of columns in precision matrix [1. 1.]\n",
            "Sum of rows in recall matrix [1. 1.]\n"
          ]
        },
        {
          "output_type": "display_data",
          "data": {
            "text/plain": [
              "<Figure size 1440x288 with 6 Axes>"
            ],
            "image/png": "[encoded data removed]"
          },
          "metadata": {
            "needs_background": "light"
          }
        },
        {
          "output_type": "stream",
          "name": "stdout",
          "text": [
            "====================================================================================================\n",
            "====================================================================================================\n",
            "The Prescision Score:  0.0010572687224669603\n",
            "The Recall Score:  0.4\n",
            "The ROC Score:  0.6715394786798109\n",
            "The F1 Score:  0.0021089630931458696\n",
            "****************************************************************************************************\n",
            "              precision    recall  f1-score   support\n",
            "\n",
            "           0       1.00      0.98      0.99    330993\n",
            "           1       0.00      0.40      0.00        15\n",
            "\n",
            "    accuracy                           0.98    331008\n",
            "   macro avg       0.50      0.69      0.50    331008\n",
            "weighted avg       1.00      0.98      0.99    331008\n",
            "\n",
            "****************************************************************************************************\n",
            "Sum of columns in precision matrix [1. 1.]\n",
            "Sum of rows in recall matrix [1. 1.]\n"
          ]
        },
        {
          "output_type": "display_data",
          "data": {
            "text/plain": [
              "<Figure size 1440x288 with 6 Axes>"
            ],
            "image/png": "[encoded data removed]"
          },
          "metadata": {
            "needs_background": "light"
          }
        }
      ],
      "source": [
        "# Getting the metrics based on the optimal threshold value\n",
        "Metrics(sig_clf, X_train_standard, y_train_sam, best_t) # Train dataset\n",
        "print('='*100)\n",
        "print('='*100)\n",
        "Metrics(sig_clf, X_val_standard, y_val, best_t) # Val dataset"
      ]
    },
    {
      "cell_type": "code",
      "execution_count": 93,
      "metadata": {
        "colab": {
          "base_uri": "https://localhost:8080/",
          "height": 590
        },
        "id": "khXHwmSvIKp-",
        "outputId": "88ea364d-1a70-4a1e-f016-6aa5c4cfc31a"
      },
      "outputs": [
        {
          "output_type": "stream",
          "name": "stdout",
          "text": [
            "The Prescision Score:  0.0005064145847400405\n",
            "The Recall Score:  0.42857142857142855\n",
            "The ROC Score:  0.6864603147679222\n",
            "The F1 Score:  0.0010116337885685382\n",
            "****************************************************************************************************\n",
            "              precision    recall  f1-score   support\n",
            "\n",
            "           0       1.00      0.98      0.99    330148\n",
            "           1       0.00      0.43      0.00         7\n",
            "\n",
            "    accuracy                           0.98    330155\n",
            "   macro avg       0.50      0.71      0.50    330155\n",
            "weighted avg       1.00      0.98      0.99    330155\n",
            "\n",
            "****************************************************************************************************\n",
            "Sum of columns in precision matrix [1. 1.]\n",
            "Sum of rows in recall matrix [1. 1.]\n"
          ]
        },
        {
          "output_type": "display_data",
          "data": {
            "text/plain": [
              "<Figure size 1440x288 with 6 Axes>"
            ],
            "image/png": "[encoded data removed]"
          },
          "metadata": {
            "needs_background": "light"
          }
        }
      ],
      "source": [
        "Metrics(sig_clf, X_test_standard, y_test, best_t) # Test dataset"
      ]
    },
    {
      "cell_type": "code",
      "execution_count": 94,
      "metadata": {
        "colab": {
          "base_uri": "https://localhost:8080/",
          "height": 295
        },
        "id": "vwvVcUSpXgyo",
        "outputId": "b1594d9f-b577-4304-8051-6d83cace350f"
      },
      "outputs": [
        {
          "output_type": "display_data",
          "data": {
            "text/plain": [
              "<Figure size 432x288 with 1 Axes>"
            ],
            "image/png": "[encoded data removed]"
          },
          "metadata": {
            "needs_background": "light"
          }
        }
      ],
      "source": [
        "# Plotting ROC curve for Train, Val and Test.\n",
        "Y_predicted_test = sig_clf.predict_proba(X_test_standard)[:, 1]\n",
        "\n",
        "test_fpr, test_tpr, te_thresholds = roc_curve(y_test, Y_predicted_test)\n",
        "\n",
        "plt.plot(train_fpr, train_tpr, label=\"train AUC =\"+str(auc(train_fpr, train_tpr)))\n",
        "plt.plot(test_fpr, test_tpr, label=\"test AUC =\"+str(auc(test_fpr, test_tpr)))\n",
        "plt.plot(val_fpr, val_tpr, label=\"val AUC =\"+str(auc(val_fpr, val_tpr)))\n",
        "plt.legend()\n",
        "plt.xlabel(\"FPR\")\n",
        "plt.ylabel(\"TPR\")\n",
        "plt.title(\"ERROR PLOTS\")\n",
        "plt.grid()\n",
        "plt.show()"
      ]
    },
    {
      "cell_type": "markdown",
      "metadata": {
        "id": "GYgHEIwRmqA6"
      },
      "source": [
        "This plot shows the roc_curve of train, val and test dataset."
      ]
    },
    {
      "cell_type": "code",
      "execution_count": 95,
      "metadata": {
        "colab": {
          "base_uri": "https://localhost:8080/",
          "height": 730
        },
        "id": "M1sTZAY8Xgyz",
        "outputId": "2a92041c-4379-4752-a2cc-83a214fdc352"
      },
      "outputs": [
        {
          "output_type": "display_data",
          "data": {
            "text/plain": [
              "<Figure size 720x864 with 1 Axes>"
            ],
            "image/png": "[encoded data removed]"
          },
          "metadata": {
            "needs_background": "light"
          }
        }
      ],
      "source": [
        "# FeatureImportances by LR.\n",
        "LR.fit(X_train_standard, y_train_sam)\n",
        "features = list(Data.columns)[5:]\n",
        "features.append('model_1')\n",
        "features.append('model_0')\n",
        "importances = LR.coef_[0]\n",
        "indices = (np.argsort(importances))[-30:]\n",
        "plt.figure(figsize=(10,12))\n",
        "plt.title('Feature Importances')\n",
        "plt.barh(range(len(indices)), importances[indices], color='y', align='center')\n",
        "plt.yticks(range(len(indices)), [features[i] for i in indices])\n",
        "plt.xlabel('Relative Importance')\n",
        "plt.grid(True)\n",
        "plt.show()"
      ]
    },
    {
      "cell_type": "markdown",
      "metadata": {
        "id": "4mXph3m7AXR2"
      },
      "source": [
        "|  Data| Precision  | Recall | ROC-Score | F1-Score |\n",
        "|------------|--------|----------------------|----------||\n",
        "|      Train |  0.8080|           0.9911 |  0.9929 | 0.8903|\n",
        "|    Val   |  0.00012    |  1.0        |   0.9392 |0.00024|\n",
        "|    Test  |    0.00012  |    0.8333 |   0.8468 |0.00024|"
      ]
    },
    {
      "cell_type": "markdown",
      "metadata": {
        "id": "mvlWAduJbQO8"
      },
      "source": [
        "# 9.2. SVC"
      ]
    },
    {
      "cell_type": "markdown",
      "metadata": {
        "id": "FpQ2t7JCm3lE"
      },
      "source": [
        "\n",
        "\n",
        "> Since Training data is large enough, both libsvm and liblinear solver tends to get hang more time on training the model. Thus, SGD classifier with hinge loss is used as linear SVC.\n",
        "\n",
        "> As libsvm will take more time on training, kernel SVC are modelled as follows:\n",
        "\n",
        "1.   Fitting the kernel trick on Training data using sklearn's Nystroem library and then transforming the train, val and test data. This kernel transformation is same as kernel trick done by sklearn svm.\n",
        "Ref : https://scikit-learn.org/stable/modules/generated/sklearn.kernel_approximation.Nystroem.html#sklearn.kernel_approximation.Nystroem\n",
        "2.   Then fitting the linear SVC(SGD classifier) over the transformed Data.\n",
        "\n",
        "\n",
        "\n",
        "\n",
        "\n"
      ]
    },
    {
      "cell_type": "code",
      "execution_count": 96,
      "metadata": {
        "colab": {
          "base_uri": "https://localhost:8080/"
        },
        "id": "sZTTXX1L4ZKX",
        "outputId": "3d7b59b5-acb7-4fb4-96f2-77637ba09ae4"
      },
      "outputs": [
        {
          "output_type": "execute_result",
          "data": {
            "text/plain": [
              "{'alpha': [0.0001,\n",
              "  0.001,\n",
              "  0.01,\n",
              "  0.1,\n",
              "  1,\n",
              "  10.0,\n",
              "  100.0,\n",
              "  1000.0,\n",
              "  10000.0,\n",
              "  100000.0],\n",
              " 'penalty': ['l1', 'l2', 'elasticnet'],\n",
              " 'l1_ratio': [0.05812220370957988,\n",
              "  0.10762860548969244,\n",
              "  0.24482984943514619,\n",
              "  0.33327406005446136,\n",
              "  0.3480674861562817,\n",
              "  0.5650341323575339,\n",
              "  0.565584669705053,\n",
              "  0.6299282215221811,\n",
              "  0.6840058849595462,\n",
              "  0.8823715118896399],\n",
              " 'class_weight': [{0: 1, 1: 10},\n",
              "  {0: 1, 1: 100},\n",
              "  {0: 1, 1: 1000},\n",
              "  {0: 1, 1: 10000},\n",
              "  {0: 10, 1: 100000}],\n",
              " 'kernel': ['linear', 'poly', 'rbf', 'sigmoid'],\n",
              " 'degree': [1, 2, 2, 2, 2, 3, 4, 5, 5, 5],\n",
              " 'gamma': [0.6715691965213344,\n",
              "  0.9815773867491717,\n",
              "  1.610428766976596,\n",
              "  2.5462895820037543,\n",
              "  2.6935375053169386,\n",
              "  3.8367496524417657,\n",
              "  5.129105531024197,\n",
              "  5.982113851509428,\n",
              "  8.966462910401846,\n",
              "  9.344049403978772],\n",
              " 'n_components': [30, 60, 90, 120, 150, 180, 210, 240, 270, 300]}"
            ]
          },
          "metadata": {},
          "execution_count": 96
        }
      ],
      "source": [
        "# Hyperparameter tuning of SGD Classifier and Kernel transformation\n",
        "param = {'alpha' : [1e-4, 1e-3, 1e-2, 1e-1, 1, 1e1, 1e2, 1e3, 1e4, 1e5],\n",
        "         'penalty' : ['l1', 'l2', 'elasticnet'],\n",
        "         'l1_ratio' : list(np.sort(np.random.uniform(0, 1, 10))),\n",
        "         'class_weight' : balance,\n",
        "         'kernel' : ['linear', 'poly', 'rbf', 'sigmoid'],\n",
        "         'degree' : list(np.sort(np.random.randint(1, 7, 10))),\n",
        "         'gamma' : list(np.sort(np.random.uniform(0, 10, 10))),\n",
        "         'n_components' : list(30 * np.arange(1, 11))}\n",
        "svc = SGDClassifier(loss='hinge', n_jobs = -1)\n",
        "feature_map = Nystroem(random_state=1) # Initialising the kernel transformer.\n",
        "param"
      ]
    },
    {
      "cell_type": "markdown",
      "metadata": {
        "id": "jzWL5J-bpliL"
      },
      "source": [
        "This custom Random SearchCV is built on the original Training dataset with stratifiedkfold split where at each fold the generated training data is sampled and trained with assigned parameter and evaluated on the generated unsampled val data using f1-score metric."
      ]
    },
    {
      "cell_type": "code",
      "execution_count": null,
      "metadata": {
        "colab": {
          "base_uri": "https://localhost:8080/"
        },
        "id": "4uga8ExEbQPE",
        "outputId": "87ba6031-3353-4382-e64a-d0b7c27f262f"
      },
      "outputs": [
        {
          "output_type": "stream",
          "name": "stderr",
          "text": [
            "\r  0%|          | 0/10 [00:00<?, ?it/s]"
          ]
        },
        {
          "output_type": "stream",
          "name": "stdout",
          "text": [
            "\n",
            "B Counter({0: 446765, 1: 8})\n",
            "A Counter({0: 279227, 1: 223382})\n",
            "Test 0.00015921031682853047\n",
            "Train 0.7008901972380495\n",
            "\n",
            "B Counter({0: 446765, 1: 8})\n",
            "A Counter({0: 279227, 1: 223382})\n",
            "Test 0.0\n",
            "Train 0.5404059181086419\n",
            "\n",
            "B Counter({0: 446765, 1: 8})\n",
            "A Counter({0: 279227, 1: 223382})\n",
            "Test 0.0\n",
            "Train 0.74728966877508\n",
            "\n",
            "B Counter({0: 446765, 1: 8})\n",
            "A Counter({0: 279227, 1: 223382})\n",
            "Test 0.0001219586560156107\n",
            "Train 0.5939637467631038\n",
            "\n",
            "B Counter({0: 446765, 1: 8})\n",
            "A Counter({0: 279227, 1: 223382})\n",
            "Test 0.0\n",
            "Train 0.8030696112843096\n",
            "\n",
            "B Counter({0: 446765, 1: 9})\n",
            "A Counter({0: 279227, 1: 223382})\n",
            "Test 0.0\n",
            "Train 0.4256397059646218\n",
            "\n",
            "B Counter({0: 446766, 1: 8})\n",
            "A Counter({0: 279228, 1: 223383})\n",
            "Test 0.0\n",
            "Train 0.612111263680969\n",
            "\n",
            "B Counter({0: 446766, 1: 8})\n",
            "A Counter({0: 279228, 1: 223383})\n",
            "Test 0.0\n",
            "Train 0.5870439050389749\n",
            "\n",
            "B Counter({0: 446766, 1: 8})\n",
            "A Counter({0: 279228, 1: 223383})\n",
            "Test 0.0\n",
            "Train 0.4309803307057645\n",
            "\n",
            "B Counter({0: 446766, 1: 8})\n",
            "A Counter({0: 279228, 1: 223383})\n",
            "Test 0.0\n"
          ]
        },
        {
          "output_type": "stream",
          "name": "stderr",
          "text": [
            "\r 10%|█         | 1/10 [27:05<4:03:47, 1625.27s/it]"
          ]
        },
        {
          "output_type": "stream",
          "name": "stdout",
          "text": [
            "Train 0.7202787490111535\n",
            "\n",
            "\n",
            "B Counter({0: 446765, 1: 8})\n",
            "A Counter({0: 279227, 1: 223382})\n",
            "Test 0.0\n",
            "Train 0.8578072869202513\n",
            "\n",
            "B Counter({0: 446765, 1: 8})\n",
            "A Counter({0: 279227, 1: 223382})\n",
            "Test 0.0\n",
            "Train 0.9192496768972473\n",
            "\n",
            "B Counter({0: 446765, 1: 8})\n",
            "A Counter({0: 279227, 1: 223382})\n",
            "Test 0.0\n",
            "Train 0.9128867870881825\n",
            "\n",
            "B Counter({0: 446765, 1: 8})\n",
            "A Counter({0: 279227, 1: 223382})\n",
            "Test 0.0\n",
            "Train 0.9399693929444408\n",
            "\n",
            "B Counter({0: 446765, 1: 8})\n",
            "A Counter({0: 279227, 1: 223382})\n",
            "Test 0.0\n",
            "Train 0.9332865470273985\n",
            "\n",
            "B Counter({0: 446765, 1: 9})\n",
            "A Counter({0: 279227, 1: 223382})\n",
            "Test 0.0\n",
            "Train 0.8903145931089129\n",
            "\n",
            "B Counter({0: 446766, 1: 8})\n",
            "A Counter({0: 279228, 1: 223383})\n",
            "Test 0.0\n",
            "Train 0.9270283107125895\n",
            "\n",
            "B Counter({0: 446766, 1: 8})\n",
            "A Counter({0: 279228, 1: 223383})\n",
            "Test 0.0\n",
            "Train 0.9260464117913616\n",
            "\n",
            "B Counter({0: 446766, 1: 8})\n",
            "A Counter({0: 279228, 1: 223383})\n",
            "Test 0.0\n",
            "Train 0.985423982238735\n",
            "\n",
            "B Counter({0: 446766, 1: 8})\n",
            "A Counter({0: 279228, 1: 223383})\n",
            "Test 0.0\n"
          ]
        },
        {
          "output_type": "stream",
          "name": "stderr",
          "text": [
            "\r 20%|██        | 2/10 [28:04<1:33:53, 704.25s/it] "
          ]
        },
        {
          "output_type": "stream",
          "name": "stdout",
          "text": [
            "Train 0.866309134246354\n",
            "\n",
            "\n",
            "B Counter({0: 446765, 1: 8})\n",
            "A Counter({0: 279227, 1: 223382})\n",
            "Test 0.0\n",
            "Train 0.9952372678223755\n",
            "\n",
            "B Counter({0: 446765, 1: 8})\n",
            "A Counter({0: 279227, 1: 223382})\n",
            "Test 0.0\n",
            "Train 0.9921849148202353\n",
            "\n",
            "B Counter({0: 446765, 1: 8})\n",
            "A Counter({0: 279227, 1: 223382})\n",
            "Test 0.0024813895781637717\n",
            "Train 0.9898481431097207\n",
            "\n",
            "B Counter({0: 446765, 1: 8})\n",
            "A Counter({0: 279227, 1: 223382})\n",
            "Test 0.0025284450063211127\n",
            "Train 0.9902276953629761\n",
            "\n",
            "B Counter({0: 446765, 1: 8})\n",
            "A Counter({0: 279227, 1: 223382})\n",
            "Test 0.0\n",
            "Train 0.992518125387128\n",
            "\n",
            "B Counter({0: 446765, 1: 9})\n",
            "A Counter({0: 279227, 1: 223382})\n",
            "Test 0.0\n",
            "Train 0.9901552727578978\n",
            "\n",
            "B Counter({0: 446766, 1: 8})\n",
            "A Counter({0: 279228, 1: 223383})\n",
            "Test 0.0\n",
            "Train 0.9943556894917005\n",
            "\n",
            "B Counter({0: 446766, 1: 8})\n",
            "A Counter({0: 279228, 1: 223383})\n",
            "Test 0.0023809523809523807\n",
            "Train 0.9901772614240312\n",
            "\n",
            "B Counter({0: 446766, 1: 8})\n",
            "A Counter({0: 279228, 1: 223383})\n",
            "Test 0.0\n",
            "Train 0.9933320734161173\n",
            "\n",
            "B Counter({0: 446766, 1: 8})\n",
            "A Counter({0: 279228, 1: 223383})\n",
            "Test 0.0\n"
          ]
        },
        {
          "output_type": "stream",
          "name": "stderr",
          "text": [
            "\r 30%|███       | 3/10 [29:20<48:42, 417.43s/it]  "
          ]
        },
        {
          "output_type": "stream",
          "name": "stdout",
          "text": [
            "Train 0.9929589673152062\n",
            "\n",
            "\n",
            "B Counter({0: 446765, 1: 8})\n",
            "A Counter({0: 279227, 1: 223382})\n",
            "Test 0.0\n",
            "Train 0.9950555030914242\n",
            "\n",
            "B Counter({0: 446765, 1: 8})\n",
            "A Counter({0: 279227, 1: 223382})\n",
            "Test 0.0\n",
            "Train 0.9917686337885595\n",
            "\n",
            "B Counter({0: 446765, 1: 8})\n",
            "A Counter({0: 279227, 1: 223382})\n",
            "Test 0.002333722287047841\n",
            "Train 0.9890504970002877\n",
            "\n",
            "B Counter({0: 446765, 1: 8})\n",
            "A Counter({0: 279227, 1: 223382})\n",
            "Test 0.0026143790849673205\n",
            "Train 0.9909634946477449\n",
            "\n",
            "B Counter({0: 446765, 1: 8})\n",
            "A Counter({0: 279227, 1: 223382})\n",
            "Test 0.0\n",
            "Train 0.9920484901504382\n",
            "\n",
            "B Counter({0: 446765, 1: 9})\n",
            "A Counter({0: 279227, 1: 223382})\n",
            "Test 0.0\n",
            "Train 0.9899402619963483\n",
            "\n",
            "B Counter({0: 446766, 1: 8})\n",
            "A Counter({0: 279228, 1: 223383})\n",
            "Test 0.0\n",
            "Train 0.9929589673152062\n",
            "\n",
            "B Counter({0: 446766, 1: 8})\n",
            "A Counter({0: 279228, 1: 223383})\n",
            "Test 0.0023174971031286206\n",
            "Train 0.9898196787050719\n",
            "\n",
            "B Counter({0: 446766, 1: 8})\n",
            "A Counter({0: 279228, 1: 223383})\n",
            "Test 0.0\n",
            "Train 0.9934977428895461\n",
            "\n",
            "B Counter({0: 446766, 1: 8})\n",
            "A Counter({0: 279228, 1: 223383})\n",
            "Test 0.0\n"
          ]
        },
        {
          "output_type": "stream",
          "name": "stderr",
          "text": [
            "\r 40%|████      | 4/10 [30:27<27:54, 279.02s/it]"
          ]
        },
        {
          "output_type": "stream",
          "name": "stdout",
          "text": [
            "Train 0.992303950638672\n",
            "\n",
            "\n",
            "B Counter({0: 446765, 1: 8})\n",
            "A Counter({0: 279227, 1: 223382})\n",
            "Test 0.0\n",
            "Train 0.9985211873521187\n",
            "\n",
            "B Counter({0: 446765, 1: 8})\n",
            "A Counter({0: 279227, 1: 223382})\n",
            "Test 0.0\n",
            "Train 0.999012421984696\n",
            "\n",
            "B Counter({0: 446765, 1: 8})\n",
            "A Counter({0: 279227, 1: 223382})\n",
            "Test 0.0\n",
            "Train 0.9996106842559818\n",
            "\n",
            "B Counter({0: 446765, 1: 8})\n",
            "A Counter({0: 279227, 1: 223382})\n",
            "Test 0.0\n",
            "Train 0.9992524084088386\n",
            "\n",
            "B Counter({0: 446765, 1: 8})\n",
            "A Counter({0: 279227, 1: 223382})\n",
            "Test 0.0\n",
            "Train 0.9994045886961389\n",
            "\n",
            "B Counter({0: 446765, 1: 9})\n",
            "A Counter({0: 279227, 1: 223382})\n",
            "Test 0.0\n",
            "Train 0.9988276775486826\n",
            "\n",
            "B Counter({0: 446766, 1: 8})\n",
            "A Counter({0: 279228, 1: 223383})\n",
            "Test 0.0\n",
            "Train 0.9994247277529688\n",
            "\n",
            "B Counter({0: 446766, 1: 8})\n",
            "A Counter({0: 279228, 1: 223383})\n",
            "Test 0.05405405405405406\n",
            "Train 0.9995860843806144\n",
            "\n",
            "B Counter({0: 446766, 1: 8})\n",
            "A Counter({0: 279228, 1: 223383})\n",
            "Test 0.0\n",
            "Train 0.9995368847782752\n",
            "\n",
            "B Counter({0: 446766, 1: 8})\n",
            "A Counter({0: 279228, 1: 223383})\n",
            "Test 0.0\n"
          ]
        },
        {
          "output_type": "stream",
          "name": "stderr",
          "text": [
            "\r 50%|█████     | 5/10 [36:08<25:06, 301.35s/it]"
          ]
        },
        {
          "output_type": "stream",
          "name": "stdout",
          "text": [
            "Train 0.9997001566345939\n",
            "\n",
            "\n",
            "B Counter({0: 446765, 1: 8})\n",
            "A Counter({0: 279227, 1: 223382})\n",
            "Test 0.0\n",
            "Train 0.9709728015403785\n",
            "\n",
            "B Counter({0: 446765, 1: 8})\n",
            "A Counter({0: 279227, 1: 223382})\n",
            "Test 0.0\n",
            "Train 0.9895919520741494\n",
            "\n",
            "B Counter({0: 446765, 1: 8})\n",
            "A Counter({0: 279227, 1: 223382})\n",
            "Test 0.0\n",
            "Train 0.9580054451199045\n",
            "\n",
            "B Counter({0: 446765, 1: 8})\n",
            "A Counter({0: 279227, 1: 223382})\n",
            "Test 0.0\n",
            "Train 0.9798034897123099\n",
            "\n",
            "B Counter({0: 446765, 1: 8})\n",
            "A Counter({0: 279227, 1: 223382})\n",
            "Test 0.0\n",
            "Train 0.9777137565593168\n",
            "\n",
            "B Counter({0: 446765, 1: 9})\n",
            "A Counter({0: 279227, 1: 223382})\n",
            "Test 0.0\n",
            "Train 0.9681963467685171\n",
            "\n",
            "B Counter({0: 446766, 1: 8})\n",
            "A Counter({0: 279228, 1: 223383})\n",
            "Test 0.0\n",
            "Train 0.9839934401951588\n",
            "\n",
            "B Counter({0: 446766, 1: 8})\n",
            "A Counter({0: 279228, 1: 223383})\n",
            "Test 0.0\n",
            "Train 0.9583984534221528\n",
            "\n",
            "B Counter({0: 446766, 1: 8})\n",
            "A Counter({0: 279228, 1: 223383})\n",
            "Test 0.0\n",
            "Train 0.9976427355023751\n",
            "\n",
            "B Counter({0: 446766, 1: 8})\n",
            "A Counter({0: 279228, 1: 223383})\n",
            "Test 0.0\n"
          ]
        },
        {
          "output_type": "stream",
          "name": "stderr",
          "text": [
            "\r 60%|██████    | 6/10 [38:28<16:25, 246.35s/it]"
          ]
        },
        {
          "output_type": "stream",
          "name": "stdout",
          "text": [
            "Train 0.9717424456758006\n",
            "\n",
            "\n",
            "B Counter({0: 446765, 1: 8})\n",
            "A Counter({0: 279227, 1: 223382})\n",
            "Test 0.00036010082823190496\n",
            "Train 0.7989318978845357\n",
            "\n",
            "B Counter({0: 446765, 1: 8})\n",
            "A Counter({0: 279227, 1: 223382})\n",
            "Test 0.0\n",
            "Train 0.7357781865045107\n",
            "\n",
            "B Counter({0: 446765, 1: 8})\n",
            "A Counter({0: 279227, 1: 223382})\n",
            "Test 0.0\n",
            "Train 0.8480102663776133\n",
            "\n",
            "B Counter({0: 446765, 1: 8})\n",
            "A Counter({0: 279227, 1: 223382})\n",
            "Test 0.0\n",
            "Train 0.7488417713088651\n",
            "\n",
            "B Counter({0: 446765, 1: 8})\n",
            "A Counter({0: 279227, 1: 223382})\n",
            "Test 0.0\n",
            "Train 0.810572352959774\n",
            "\n",
            "B Counter({0: 446765, 1: 9})\n",
            "A Counter({0: 279227, 1: 223382})\n",
            "Test 0.0\n",
            "Train 0.7659938905147265\n",
            "\n",
            "B Counter({0: 446766, 1: 8})\n",
            "A Counter({0: 279228, 1: 223383})\n",
            "Test 0.0\n",
            "Train 0.8096592017267459\n",
            "\n",
            "B Counter({0: 446766, 1: 8})\n",
            "A Counter({0: 279228, 1: 223383})\n",
            "Test 0.0\n",
            "Train 0.7524650984538735\n",
            "\n",
            "B Counter({0: 446766, 1: 8})\n",
            "A Counter({0: 279228, 1: 223383})\n",
            "Test 0.0\n",
            "Train 0.6793368233778451\n",
            "\n",
            "B Counter({0: 446766, 1: 8})\n",
            "A Counter({0: 279228, 1: 223383})\n",
            "Test 0.0\n"
          ]
        },
        {
          "output_type": "stream",
          "name": "stderr",
          "text": [
            "\r 70%|███████   | 7/10 [2:50:09<2:17:26, 2748.74s/it]"
          ]
        },
        {
          "output_type": "stream",
          "name": "stdout",
          "text": [
            "Train 0.7500992159733308\n",
            "\n",
            "\n",
            "B Counter({0: 446765, 1: 8})\n",
            "A Counter({0: 279227, 1: 223382})\n",
            "Test 0.0\n",
            "Train 0.550035370954134\n",
            "\n",
            "B Counter({0: 446765, 1: 8})\n",
            "A Counter({0: 279227, 1: 223382})\n",
            "Test 0.0\n",
            "Train 0.9962587353944204\n",
            "\n",
            "B Counter({0: 446765, 1: 8})\n",
            "A Counter({0: 279227, 1: 223382})\n",
            "Test 0.00011982505541908815\n",
            "Train 0.6544188662824636\n",
            "\n",
            "B Counter({0: 446765, 1: 8})\n",
            "A Counter({0: 279227, 1: 223382})\n",
            "Test 0.0\n",
            "Train 0.8149308953382012\n",
            "\n",
            "B Counter({0: 446765, 1: 8})\n",
            "A Counter({0: 279227, 1: 223382})\n",
            "Test 0.0\n",
            "Train 0.513990180758465\n",
            "\n",
            "B Counter({0: 446765, 1: 9})\n",
            "A Counter({0: 279227, 1: 223382})\n",
            "Test 0.0\n",
            "Train 0.5082588195194002\n",
            "\n",
            "B Counter({0: 446766, 1: 8})\n",
            "A Counter({0: 279228, 1: 223383})\n",
            "Test 0.0\n",
            "Train 0.5432936579221084\n",
            "\n",
            "B Counter({0: 446766, 1: 8})\n",
            "A Counter({0: 279228, 1: 223383})\n",
            "Test 0.0008274720728175425\n",
            "Train 0.964488490405574\n",
            "\n",
            "B Counter({0: 446766, 1: 8})\n",
            "A Counter({0: 279228, 1: 223383})\n",
            "Test 0.00011665208515602217\n",
            "Train 0.5974245906506702\n",
            "\n",
            "B Counter({0: 446766, 1: 8})\n",
            "A Counter({0: 279228, 1: 223383})\n",
            "Test 0.0\n"
          ]
        },
        {
          "output_type": "stream",
          "name": "stderr",
          "text": [
            "\r 80%|████████  | 8/10 [4:04:30<1:49:47, 3293.89s/it]"
          ]
        },
        {
          "output_type": "stream",
          "name": "stdout",
          "text": [
            "Train 0.7527242094172837\n",
            "\n",
            "\n",
            "B Counter({0: 446765, 1: 8})\n",
            "A Counter({0: 279227, 1: 223382})\n",
            "Test 0.0\n",
            "Train 0.9968903866922022\n",
            "\n",
            "B Counter({0: 446765, 1: 8})\n",
            "A Counter({0: 279227, 1: 223382})\n",
            "Test 0.0\n",
            "Train 0.9723653977519716\n",
            "\n",
            "B Counter({0: 446765, 1: 8})\n",
            "A Counter({0: 279227, 1: 223382})\n",
            "Test 0.0\n",
            "Train 0.9544661034797464\n",
            "\n",
            "B Counter({0: 446765, 1: 8})\n",
            "A Counter({0: 279227, 1: 223382})\n",
            "Test 0.0\n",
            "Train 0.9603529559596223\n",
            "\n",
            "B Counter({0: 446765, 1: 8})\n",
            "A Counter({0: 279227, 1: 223382})\n",
            "Test 0.0\n",
            "Train 0.967273063498301\n",
            "\n",
            "B Counter({0: 446765, 1: 9})\n",
            "A Counter({0: 279227, 1: 223382})\n",
            "Test 0.0\n",
            "Train 0.9519848753530178\n",
            "\n",
            "B Counter({0: 446766, 1: 8})\n",
            "A Counter({0: 279228, 1: 223383})\n",
            "Test 0.0\n",
            "Train 0.9607443591532915\n",
            "\n",
            "B Counter({0: 446766, 1: 8})\n",
            "A Counter({0: 279228, 1: 223383})\n",
            "Test 0.0\n",
            "Train 0.9530474537606302\n",
            "\n",
            "B Counter({0: 446766, 1: 8})\n",
            "A Counter({0: 279228, 1: 223383})\n",
            "Test 0.0\n",
            "Train 0.9932897399267234\n",
            "\n",
            "B Counter({0: 446766, 1: 8})\n",
            "A Counter({0: 279228, 1: 223383})\n",
            "Test 0.0\n"
          ]
        },
        {
          "output_type": "stream",
          "name": "stderr",
          "text": [
            "\r 90%|█████████ | 9/10 [4:14:33<40:52, 2452.82s/it]  "
          ]
        },
        {
          "output_type": "stream",
          "name": "stdout",
          "text": [
            "Train 0.9755485749661799\n",
            "\n",
            "\n",
            "B Counter({0: 446765, 1: 8})\n",
            "A Counter({0: 279227, 1: 223382})\n"
          ]
        }
      ],
      "source": [
        "# Creating custom RandomSearchCV for hyperparameter tuning.\n",
        "# In this Cross-Validation is done by StratifiedKFold\n",
        "trainscores = [] # This list is to store the trainscores\n",
        "testscores  = [] # This list is to store the testscores\n",
        "Models = [] # This list is to store the models on each iter\n",
        "TR = []\n",
        "F = [] # This list is to store the kernel map on each iter\n",
        "\n",
        "# This loop is to use ten random values for each hyperparameter\n",
        "for iter in tqdm(range(0, 10)):\n",
        "  #print(iter)\n",
        "  Thresholds = []\n",
        "  trainscores_folds = []\n",
        "  testscores_folds  = []\n",
        "  svc = SGDClassifier(loss='hinge', n_jobs = -1)\n",
        "  feature_map = Nystroem(random_state=1)\n",
        "  for key, value in param.items(): # Assigns the value for each hyperparameter\n",
        "    if isinstance(value, list):\n",
        "      if (key == 'alpha'):\n",
        "        svc.C = value[iter]\n",
        "      if (key == 'penalty'):\n",
        "        svc.penalty = choice(value)\n",
        "      if (key == 'l1_ratio'):\n",
        "        svc.l1_ratio = value[iter]\n",
        "      if (key == 'kernel'):\n",
        "        feature_map.kernel = choice(value)\n",
        "      if (key == 'degree'):\n",
        "        feature_map.degree = value[iter]\n",
        "      if (key == 'gamma'):\n",
        "        feature_map.gamma = value[iter]\n",
        "      if (key == 'n_components'):\n",
        "        feature_map.n_components = value[iter]\n",
        "  Models.append(svc)\n",
        "  F.append(feature_map)\n",
        "  ss = StratifiedKFold(n_splits = 10, shuffle = True, random_state = 1) # Splitting the training data into train and val data using\n",
        "  # using stratifiedKFold (10-folds) to ensure that each fold consists of both classes.\n",
        "  # Running the loop for each fold\n",
        "  for train, test in ss.split(X_Train_orig, Y_Train_orig): # This loop uses original training dataset.\n",
        "      print()\n",
        "      X_train = np.zeros(len(train))\n",
        "      Y_train = np.zeros(len(train))\n",
        "      X_test = np.zeros(len(test))\n",
        "      Y_test = np.zeros(len(test))\n",
        "\n",
        "      # selecting the data points based on the train_indices and test_indices\n",
        "      X_train = X_Train_orig[train]\n",
        "      Y_train = Y_Train_orig[train]\n",
        "      X_test  = X_Train_orig[test]\n",
        "      Y_test  = Y_Train_orig[test]\n",
        "      print(\"B\", Counter(Y_train)) # Count of training classes before sampling\n",
        "\n",
        "      X_train, Y_train = pipeline.fit_resample(X_train, Y_train) # Sampling the training data by the above defined pipeline\n",
        "      print(\"A\", Counter(Y_train)) # Count of training classes after sampling\n",
        "      # Standardizing the above train and val data.\n",
        "      sc = StandardScaler()\n",
        "      sc.fit(X_train)\n",
        "      X_train = sc.transform(X_train)\n",
        "      X_test = sc.transform(X_test)\n",
        "      # This code snippet applies the kernel transform on Train and Val data\n",
        "      X_train = feature_map.fit_transform(X_train)\n",
        "      X_test = feature_map.transform(X_test)\n",
        "      # This transformed data is used for the model.\n",
        "\n",
        "      svc.fit(X_train, Y_train)\n",
        "\n",
        "      Y_predicted_test = svc.predict(X_test)\n",
        "      print('Test', f1_score(Y_test, Y_predicted_test))\n",
        "      testscores_folds.append(f1_score(Y_test, Y_predicted_test))\n",
        "\n",
        "      Y_predicted_train = svc.predict(X_train)\n",
        "      print('Train', f1_score(Y_train, Y_predicted_train))\n",
        "      trainscores_folds.append(f1_score(Y_train, Y_predicted_train))\n",
        "\n",
        "  trainscores.append(np.mean(np.array(trainscores_folds))) # Taking the mean of trainscores obtained from each fold\n",
        "  testscores.append(np.mean(np.array(testscores_folds))) # Taking the mean of testscores obtained from each fold\n",
        "  print() "
      ]
    },
    {
      "cell_type": "code",
      "execution_count": null,
      "metadata": {
        "id": "vovQo8oQbQPG"
      },
      "outputs": [],
      "source": [
        "print(trainscores)\n",
        "print(testscores)"
      ]
    },
    {
      "cell_type": "code",
      "execution_count": null,
      "metadata": {
        "id": "Nf62pCpcbQPK"
      },
      "outputs": [],
      "source": [
        "plt.plot(trainscores,label = \"Train\")\n",
        "plt.plot(testscores, label = 'Val')\n",
        "plt.legend()\n",
        "plt.grid(True)\n",
        "plt.show()"
      ]
    },
    {
      "cell_type": "markdown",
      "metadata": {
        "id": "iA5SkXN96N9a"
      },
      "source": [
        "This plot shows the trainscores and testscores on each iteration"
      ]
    },
    {
      "cell_type": "code",
      "execution_count": null,
      "metadata": {
        "id": "8nE_KHErQZP5"
      },
      "outputs": [],
      "source": [
        "TR = list(np.zeros(10))\n",
        "TR"
      ]
    },
    {
      "cell_type": "code",
      "execution_count": null,
      "metadata": {
        "id": "dfzyCXBMbQPM"
      },
      "outputs": [],
      "source": [
        "# Choosing the best model based on highest test score.\n",
        "test_score, train_score, threshold, est = BEST(trainscores, testscores, TR, Models)\n",
        "print(test_score, train_score)"
      ]
    },
    {
      "cell_type": "code",
      "execution_count": null,
      "metadata": {
        "id": "SYIB5Bp4QosK"
      },
      "outputs": [],
      "source": [
        "# Getting the best kernel map based on highest test score.\n",
        "f_map = F[testscores.index(0.006299812654906578)]\n",
        "f_map"
      ]
    },
    {
      "cell_type": "code",
      "execution_count": null,
      "metadata": {
        "id": "-Mbo-PfdbQPO"
      },
      "outputs": [],
      "source": [
        "# Using the best model\n",
        "svc = est\n",
        "svc"
      ]
    },
    {
      "cell_type": "code",
      "execution_count": null,
      "metadata": {
        "id": "9kotTgnZRmgi"
      },
      "outputs": [],
      "source": [
        "# Applying the best kernel transform on Train, Original Val and Original Test Datset.\n",
        "X_TR = f_map.fit_transform(X_train_standard)\n",
        "X_VA = f_map.transform(X_val_standard)\n",
        "X_TE = f_map.transform(X_test_standard)"
      ]
    },
    {
      "cell_type": "code",
      "execution_count": null,
      "metadata": {
        "id": "yYkGjsL_bQPR"
      },
      "outputs": [],
      "source": [
        "# Fitting the calibrated classifier over the best model\n",
        "sig_clf = CalibratedClassifierCV(svc, method=\"isotonic\")\n",
        "sig_clf.fit(X_TR, y_train_sam)"
      ]
    },
    {
      "cell_type": "code",
      "execution_count": null,
      "metadata": {
        "id": "zhDiwKf4bQPT"
      },
      "outputs": [],
      "source": [
        "# Threshold Tuning based on the original Val Dataset.\n",
        "Y_predicted_val = sig_clf.predict_proba(X_VA)[:, 1]\n",
        "\n",
        "Y_predicted_train = sig_clf.predict_proba(X_TR)[:, 1]\n",
        "\n",
        "train_fpr, train_tpr, tr_thresholds = roc_curve(y_train_sam, Y_predicted_train)\n",
        "val_fpr, val_tpr, val_thresholds = roc_curve(y_val, Y_predicted_val)\n",
        "thresholds = np.linspace(0.0, 1.0, num=len(val_thresholds))\n",
        "best_t = find_best_threshold(val_thresholds, val_fpr, val_tpr)"
      ]
    },
    {
      "cell_type": "code",
      "execution_count": null,
      "metadata": {
        "id": "-3VsOJ_WbQPW"
      },
      "outputs": [],
      "source": [
        "# Getting the metrics based on the optimal threshold value\n",
        "Metrics(sig_clf, X_TR, y_train_sam, best_t)\n",
        "print('='*100)\n",
        "print('='*100)\n",
        "Metrics(sig_clf, X_VA, y_val, best_t)"
      ]
    },
    {
      "cell_type": "code",
      "execution_count": null,
      "metadata": {
        "id": "ZP6EuoLUbQPZ"
      },
      "outputs": [],
      "source": [
        "Metrics(sig_clf, X_TE, y_test, best_t)"
      ]
    },
    {
      "cell_type": "code",
      "execution_count": null,
      "metadata": {
        "id": "6UpWwwjvbQPd"
      },
      "outputs": [],
      "source": [
        "# Plotting ROC curve for Train, Val and Test.\n",
        "Y_predicted_test = sig_clf.predict_proba(X_TE)[:, 1]\n",
        "\n",
        "test_fpr, test_tpr, te_thresholds = roc_curve(y_test, Y_predicted_test)\n",
        "\n",
        "plt.plot(train_fpr, train_tpr, label=\"train AUC =\"+str(auc(train_fpr, train_tpr)))\n",
        "plt.plot(test_fpr, test_tpr, label=\"test AUC =\"+str(auc(test_fpr, test_tpr)))\n",
        "plt.plot(val_fpr, val_tpr, label=\"val AUC =\"+str(auc(val_fpr, val_tpr)))\n",
        "plt.legend()\n",
        "plt.xlabel(\"FPR\")\n",
        "plt.ylabel(\"TPR\")\n",
        "plt.title(\"ERROR PLOTS\")\n",
        "plt.grid()\n",
        "plt.show()"
      ]
    },
    {
      "cell_type": "markdown",
      "metadata": {
        "id": "50TcDE-K656z"
      },
      "source": [
        "This plot shows the roc_curve of train, val and test dataset."
      ]
    },
    {
      "cell_type": "markdown",
      "metadata": {
        "id": "pT87em2oCZSC"
      },
      "source": [
        "|  Data| Precision  | Recall | ROC-Score | F1-Score |\n",
        "|------------|--------|----------------------|----------||\n",
        "|      Train |  0.7723|           0.9999 |  0.9975 | 0.8714|\n",
        "|    Val   |  9.629458439257376e-05    | 1.0       |   0.9357 |0.00019|\n",
        "|    Test  |   9.681666795755558e-05   |    0.8333  |   0.9203 |0.00019|"
      ]
    },
    {
      "cell_type": "markdown",
      "metadata": {
        "id": "UGYiNdBp3Yta"
      },
      "source": [
        "# 9.3. STACKING CLASSIFIER\n",
        "\n",
        "\n",
        "\n",
        "\n",
        "\n"
      ]
    },
    {
      "cell_type": "markdown",
      "metadata": {
        "id": "OoNcGN917AyC"
      },
      "source": [
        "> Estimators : Logistic Regression, SVC\n",
        "\n",
        "> Meta Classifier : Logistic Regression"
      ]
    },
    {
      "cell_type": "code",
      "execution_count": null,
      "metadata": {
        "id": "1RKLpKJc2OPM"
      },
      "outputs": [],
      "source": [
        "# Hyperparameter tuning of estimators and meta classifier.\n",
        "param = {'lr__C' : [1e-4, 1e-3, 1e-2, 1e-1, 1, 1e1, 1e2, 1e3, 1e4, 1e5],\n",
        "         'lr__penalty' : ['l1', 'l2', 'elasticnet'],\n",
        "         'lr__l1_ratio' : list(np.sort(np.random.uniform(0, 1, 10))),\n",
        "         'lr__class_weight' : balance,\n",
        "         'svc__alpha' : [1e-4, 1e-3, 1e-2, 1e-1, 1, 1e1, 1e2, 1e3, 1e4, 1e5],\n",
        "         'svc__penalty' : ['l1', 'l2'],\n",
        "         'svc__l1_ratio' : list(np.sort(np.random.uniform(0, 1, 10))),\n",
        "         'final_estimator__C' : [1e-4, 1e-3, 1e-2, 1e-1, 1, 1e1, 1e2, 1e3, 1e4, 1e5],\n",
        "         'final_estimator__penalty' : ['l1', 'l2', 'elasticnet'],\n",
        "         'final_estimator__l1_ratio' : list(np.sort(np.random.uniform(0, 1, 10)))}\n",
        "\n",
        "svc = SGDClassifier(loss='hinge', n_jobs = -1)\n",
        "LR = LogisticRegression(n_jobs = -1, solver = 'saga')\n",
        "meta = LogisticRegression(n_jobs = -1, solver = 'saga')\n",
        "models = [('lr', LR), ('svc', svc)]\n",
        "param"
      ]
    },
    {
      "cell_type": "markdown",
      "metadata": {
        "id": "56stpxQQ7cGA"
      },
      "source": [
        "This custom Random SearchCV is built on the original Training dataset with stratifiedkfold split where at each fold the generated training data is sampled and trained with assigned parameter and evaluated on the generated unsampled val data using f1-score metric."
      ]
    },
    {
      "cell_type": "code",
      "execution_count": null,
      "metadata": {
        "id": "zCkHTRay2OUy"
      },
      "outputs": [],
      "source": [
        "# Creating custom RandomSearchCV for hyperparameter tuning.\n",
        "# In this Cross-Validation is done by StratifiedKFold\n",
        "trainscores = [] # This list is to store the trainscores\n",
        "testscores  = [] # This list is to store the testscores\n",
        "Models = [] # This list is to store the models on each iter\n",
        "TR = []\n",
        "# This loop is to use ten random values for each hyperparameter\n",
        "for iter in tqdm(range(0, 10)):\n",
        "  #print(iter)\n",
        "  Thresholds = []\n",
        "  trainscores_folds = []\n",
        "  testscores_folds  = []\n",
        "  svc = SGDClassifier(loss='hinge', n_jobs = -1)\n",
        "  LR = LogisticRegression(n_jobs = -1, solver = 'saga')\n",
        "  meta = LogisticRegression(n_jobs = -1, solver = 'saga')\n",
        "  models = [('lr', LR), ('svc', svc)]\n",
        "  for key, value in param.items(): # Assigns the value for each hyperparameter\n",
        "    if isinstance(value, list):\n",
        "      if ('C' in key and 'lr' in key):\n",
        "        LR.C = value[iter]\n",
        "      if ('penalty' in key and 'lr' in key):\n",
        "        LR.penalty = choice(value)\n",
        "      if ('l1_ratio' in key and 'lr' in key):\n",
        "        LR.l1_ratio = value[iter]\n",
        "      \n",
        "      if ('alpha' in key and 'svc' in key):\n",
        "        svc.alpha = value[iter]\n",
        "      if ('penalty' in key and 'svc' in key):\n",
        "        svc.penalty = choice(value)\n",
        "      if ('l1_ratio' in key and 'svc' in key):\n",
        "        svc.l1_ratio = value[iter]\n",
        "\n",
        "      if ('C' in key and 'final' in key):\n",
        "        meta.C = value[iter]\n",
        "      if ('penalty' in key and 'final' in key):\n",
        "        meta.penalty = choice(value)\n",
        "      if ('l1_ratio' in key and 'final' in key):\n",
        "        meta.l1_ratio = value[iter]\n",
        "\n",
        "  Stack = StackingClassifier(estimators = models, final_estimator = meta, n_jobs = -1)\n",
        "  #print(Stack)\n",
        "  Models.append(Stack)\n",
        "  ss = StratifiedKFold(n_splits = 10, shuffle = True, random_state = 1) # Splitting the training data into train and val data\n",
        "  # using stratifiedKFold (10-folds) to ensure that each fold consists of both classes.\n",
        "  # Running the loop for each fold\n",
        "  for train, test in ss.split(X_Train_orig, Y_Train_orig): # This loop uses original training dataset.\n",
        "      print()\n",
        "      X_train = np.zeros(len(train))\n",
        "      Y_train = np.zeros(len(train))\n",
        "      X_test = np.zeros(len(test))\n",
        "      Y_test = np.zeros(len(test))\n",
        "\n",
        "      # selecting the data points based on the train_indices and test_indices\n",
        "      X_train = X_Train_orig[train]\n",
        "      Y_train = Y_Train_orig[train]\n",
        "      X_test  = X_Train_orig[test]\n",
        "      Y_test  = Y_Train_orig[test]\n",
        "      print(\"B\", Counter(Y_train)) # Count of training classes before sampling\n",
        "\n",
        "      X_train, Y_train = pipeline.fit_resample(X_train, Y_train) # Sampling the training data by the above defined pipeline\n",
        "      print(\"A\", Counter(Y_train)) # Count of training classes after sampling\n",
        "      # Standardizing the above train and val data.\n",
        "      sc = StandardScaler()\n",
        "      sc.fit(X_train)\n",
        "      X_train = sc.transform(X_train)\n",
        "      X_test = sc.transform(X_test)\n",
        "      \n",
        "      Stack.fit(X_train,Y_train)\n",
        "\n",
        "      Y_predicted_test = Stack.predict_proba(X_test)[:, 1]\n",
        "     \n",
        "      Y_predicted_train = Stack.predict_proba(X_train)[:, 1]\n",
        "      \n",
        "      # This following snippets are used tuning the thresholds generated by roc_curve \n",
        "      train_fpr, train_tpr, tr_thresholds = roc_curve(Y_train, Y_predicted_train)\n",
        "      test_fpr, test_tpr, te_thresholds = roc_curve(Y_test, Y_predicted_test)\n",
        "      thresholds = np.linspace(0.0, 1.0, num=len(te_thresholds))\n",
        "      best_t = find_best_threshold(te_thresholds, test_fpr, test_tpr) # Finding the best threshold based on the prediction on val data\n",
        "      Thresholds.append(best_t)\n",
        "\n",
        "      # F1-score based on the optimal threshold value\n",
        "      print('Test', f1_score(Y_test, predict_with_best_t(Y_predicted_test, best_t)))\n",
        "      testscores_folds.append(f1_score(Y_test, predict_with_best_t(Y_predicted_test, best_t)))\n",
        "\n",
        "      print('Train', f1_score(Y_train, predict_with_best_t(Y_predicted_train, best_t)))\n",
        "      trainscores_folds.append(f1_score(Y_train, predict_with_best_t(Y_predicted_train, best_t))) \n",
        "  \n",
        "  TR.append(Thresholds[np.argmax(testscores_folds)]) \n",
        "  trainscores.append(np.mean(np.array(trainscores_folds))) # Taking the mean of trainscores obtained from each fold\n",
        "  testscores.append(np.mean(np.array(testscores_folds))) # Taking the mean of testscores obtained from each fold\n",
        "  print() "
      ]
    },
    {
      "cell_type": "code",
      "execution_count": null,
      "metadata": {
        "id": "iUrV6DI42OLF"
      },
      "outputs": [],
      "source": [
        "print(trainscores)\n",
        "print(testscores)"
      ]
    },
    {
      "cell_type": "code",
      "execution_count": null,
      "metadata": {
        "id": "SS8Y3jCN6gud"
      },
      "outputs": [],
      "source": [
        "plt.plot(trainscores,label = \"Train\")\n",
        "plt.plot(testscores, label = 'Val')\n",
        "plt.legend()\n",
        "plt.grid(True)\n",
        "plt.show()"
      ]
    },
    {
      "cell_type": "markdown",
      "metadata": {
        "id": "fZQC6LRM8n7s"
      },
      "source": [
        "This plot shows the trainscores and testscores on each iteration"
      ]
    },
    {
      "cell_type": "code",
      "execution_count": null,
      "metadata": {
        "id": "n0oUWi2HRfxx"
      },
      "outputs": [],
      "source": [
        "# Choosing the best model based on highest test score.\n",
        "test_score, train_score, threshold, est = BEST(trainscores, testscores, TR, Models)\n",
        "print(test_score, train_score)"
      ]
    },
    {
      "cell_type": "code",
      "execution_count": null,
      "metadata": {
        "id": "D83WxCnQRf4M"
      },
      "outputs": [],
      "source": [
        "# Using the best model\n",
        "Stack = est\n",
        "Stack"
      ]
    },
    {
      "cell_type": "code",
      "execution_count": null,
      "metadata": {
        "id": "oci8rsTJRfqW"
      },
      "outputs": [],
      "source": [
        "# Fitting the calibrated classifier over the best model\n",
        "sig_clf = CalibratedClassifierCV(Stack, method=\"isotonic\")\n",
        "sig_clf.fit(X_train_standard, y_train_sam)"
      ]
    },
    {
      "cell_type": "code",
      "execution_count": null,
      "metadata": {
        "id": "_Lj8OmNEv8My"
      },
      "outputs": [],
      "source": [
        "# Threshold Tuning based on the original Val Dataset.\n",
        "Y_predicted_val = sig_clf.predict_proba(X_val_standard)[:, 1] #NEW\n",
        "\n",
        "Y_predicted_train = sig_clf.predict_proba(X_train_standard)[:, 1]\n",
        "\n",
        "train_fpr, train_tpr, tr_thresholds = roc_curve(y_train_sam, Y_predicted_train)\n",
        "val_fpr, val_tpr, val_thresholds = roc_curve(y_val, Y_predicted_val)\n",
        "thresholds = np.linspace(0.0, 1.0, num=len(val_thresholds))\n",
        "best_t = find_best_threshold(val_thresholds, val_fpr, val_tpr)"
      ]
    },
    {
      "cell_type": "code",
      "execution_count": null,
      "metadata": {
        "id": "viU0OBoWv_Bn"
      },
      "outputs": [],
      "source": [
        "# Getting the metrics based on the optimal threshold value\n",
        "Metrics(sig_clf, X_train_standard, y_train_sam, best_t) \n",
        "print('='*100)\n",
        "print('='*100)\n",
        "Metrics(sig_clf, X_val_standard, y_val, best_t)"
      ]
    },
    {
      "cell_type": "code",
      "execution_count": null,
      "metadata": {
        "id": "L9vnDoNawLv9"
      },
      "outputs": [],
      "source": [
        "Metrics(sig_clf, X_test_standard, y_test, best_t) "
      ]
    },
    {
      "cell_type": "code",
      "execution_count": null,
      "metadata": {
        "id": "tkM3bboTwQ3W"
      },
      "outputs": [],
      "source": [
        "# Plotting ROC curve for Train, Val and Test.\n",
        "Y_predicted_test = sig_clf.predict_proba(X_test_standard)[:, 1]\n",
        "\n",
        "test_fpr, test_tpr, te_thresholds = roc_curve(y_test, Y_predicted_test)\n",
        "\n",
        "plt.plot(train_fpr, train_tpr, label=\"train AUC =\"+str(auc(train_fpr, train_tpr)))\n",
        "plt.plot(test_fpr, test_tpr, label=\"test AUC =\"+str(auc(test_fpr, test_tpr)))\n",
        "plt.plot(val_fpr, val_tpr, label=\"val AUC =\"+str(auc(val_fpr, val_tpr)))\n",
        "plt.legend()\n",
        "plt.xlabel(\"FPR\")\n",
        "plt.ylabel(\"TPR\")\n",
        "plt.title(\"ERROR PLOTS\")\n",
        "plt.grid()\n",
        "plt.show()"
      ]
    },
    {
      "cell_type": "markdown",
      "metadata": {
        "id": "Mbyb0Tqn9De7"
      },
      "source": [
        "This plot shows the roc_curve of train, val and test dataset."
      ]
    },
    {
      "cell_type": "markdown",
      "metadata": {
        "id": "hqhivtp0Daig"
      },
      "source": [
        "|  Data| Precision  | Recall | ROC-Score | F1-Score |\n",
        "|------------|--------|----------------------|----------||\n",
        "|      Train |  0.8176|     0.9999 |  0.9979 | 0.8997|\n",
        "|    Val   |  0.000127    |  1.0        |   0.9420 |0.00025|\n",
        "|    Test  |    0.000127  |    0.8333  |   0.9136 |0.00025|"
      ]
    },
    {
      "cell_type": "markdown",
      "metadata": {
        "id": "BDFbUjuuYUwN"
      },
      "source": [
        "# 9.4. XGBOOST"
      ]
    },
    {
      "cell_type": "code",
      "execution_count": null,
      "metadata": {
        "id": "gzPOE6iUYUwX"
      },
      "outputs": [],
      "source": [
        "# Hyperparameter tuning of XGBoost\n",
        "from xgboost import XGBClassifier\n",
        "param = {'learning_rate' : list(np.sort(np.random.uniform(0, 0.2, 10)))\n",
        "         'max_depth' : list(np.sort(np.random.randint(10, 100, 10))),\n",
        "         'colsample_bytree' : list(np.sort(np.random.uniform(0, 1, 10))),\n",
        "         'subsample' : list(np.sort(np.random.uniform(0, 1, 10))),\n",
        "         'num_leaves' : list(np.sort(np.random.randint(100, 500, 10))),\n",
        "         'reg_lambda' : list(np.sort(np.random.uniform(0, 1, 10))),\n",
        "         'colsample_bylevel' : list(np.sort(np.random.uniform(0, 1, 10))),\n",
        "         'colsample_bynode' : list(np.sort(np.random.uniform(0, 1, 10))),\n",
        "         'gamma' : list(np.sort(np.random.uniform(0, 1, 10)))}\n",
        "GBDT = XGBClassifier(n_jobs = -1, n_estimators = 120)\n",
        "param"
      ]
    },
    {
      "cell_type": "markdown",
      "metadata": {
        "id": "g7HrN00b9YKj"
      },
      "source": [
        "This custom Random SearchCV is built on the original Training dataset with stratifiedkfold split where at each fold the generated training data is sampled and trained with assigned parameter and evaluated on the generated unsampled val data using f1-score metric."
      ]
    },
    {
      "cell_type": "code",
      "execution_count": null,
      "metadata": {
        "id": "KdLnV5o9YUwa"
      },
      "outputs": [],
      "source": [
        "# Creating custom RandomSearchCV for hyperparameter tuning.\n",
        "# In this Cross-Validation is done by StratifiedKFold\n",
        "\n",
        "trainscores = [] # This list is to store the trainscores\n",
        "testscores  = [] # This list is to store the testscores\n",
        "Models = [] # This list is to store the models on each iter\n",
        "TR = []\n",
        "# This loop is to use ten random values for each hyperparameter\n",
        "for iter in tqdm(range(0, 10)):\n",
        "  #print(iter)\n",
        "  Thresholds = []\n",
        "  trainscores_folds = []\n",
        "  testscores_folds  = []\n",
        "  GBDT = XGBClassifier(n_jobs = -1, n_estimators = 120)\n",
        "  for key, value in param.items(): # Assigns the value for each hyperparameter\n",
        "    if isinstance(value, list):\n",
        "      if (key == \"learning_rate\"):\n",
        "        GBDT.learning_rate = value[iter]\n",
        "      #if (key == \"n_estimators\"):\n",
        "        #GBDT.n_estimators = value[iter]\n",
        "      if (key == \"max_depth\"):\n",
        "        GBDT.max_depth = value[iter]\n",
        "      if (key ==  \"colsample_bytree\"):\n",
        "        GBDT.colsample_bytree= value[iter]\n",
        "      if (key == 'subsample'):\n",
        "        GBDT.subsample = value[iter]\n",
        "      if (key == \"num_leaves\"):\n",
        "        GBDT.num_leaves = value[iter]\n",
        "      if (key == \"reg_lambda\"):\n",
        "        GBDT.reg_lambda = value[iter]\n",
        "      if (key == 'colsample_bylevel'):\n",
        "        GBDT.colsample_bylevel = value[iter]\n",
        "      if (key == \"colsample_bynode\"):\n",
        "        GBDT.colsample_bynode = value[iter]\n",
        "      if (key == \"gamma\"):\n",
        "        GBDT.gamma = value[iter]\n",
        "\n",
        "  Models.append(GBDT)\n",
        "  ss = StratifiedKFold(n_splits = 10, shuffle = True, random_state = 1) # Splitting the training data into train and val data\n",
        "  # using stratifiedKFold (10-folds) to ensure that each fold consists of both classes.\n",
        "  # Running the loop for each fold\n",
        "  for train, test in ss.split(X_Train_orig, Y_Train_orig): # This loop uses original training dataset.\n",
        "      print()\n",
        "      X_train = np.zeros(len(train))\n",
        "      Y_train = np.zeros(len(train))\n",
        "      X_test = np.zeros(len(test))\n",
        "      Y_test = np.zeros(len(test))\n",
        "\n",
        "      # selecting the data points based on the train_indices and test_indices\n",
        "      X_train = X_Train_orig[train]\n",
        "      Y_train = Y_Train_orig[train]\n",
        "      X_test  = X_Train_orig[test]\n",
        "      Y_test  = Y_Train_orig[test]\n",
        "      print(\"B\", Counter(Y_train)) # Count of training classes before sampling\n",
        "\n",
        "      X_train, Y_train = pipeline.fit_resample(X_train, Y_train) # Sampling the training data by the above defined pipeline\n",
        "      print(\"A\", Counter(Y_train)) # Count of training classes after sampling\n",
        "      # Standardizing the above train and val data.\n",
        "      sc = StandardScaler()\n",
        "      sc.fit(X_train)\n",
        "      X_train = sc.transform(X_train)\n",
        "      X_test = sc.transform(X_test)\n",
        "\n",
        "      GBDT.fit(X_train,Y_train)\n",
        "\n",
        "      Y_predicted_test = GBDT.predict_proba(X_test)[:, 1]\n",
        "\n",
        "      Y_predicted_train = GBDT.predict_proba(X_train)[:, 1]\n",
        "\n",
        "      # This following snippets are used tuning the thresholds generated by roc_curve \n",
        "      train_fpr, train_tpr, tr_thresholds = roc_curve(Y_train, Y_predicted_train)\n",
        "      test_fpr, test_tpr, te_thresholds = roc_curve(Y_test, Y_predicted_test)\n",
        "      thresholds = np.linspace(0.0, 1.0, num=len(te_thresholds))\n",
        "      best_t = find_best_threshold(te_thresholds, test_fpr, test_tpr) # Finding the best threshold based on the prediction on val data\n",
        "      Thresholds.append(best_t)\n",
        "\n",
        "      # F1-score based on the optimal threshold value\n",
        "      print('Test', f1_score(Y_test, predict_with_best_t(Y_predicted_test, best_t)))\n",
        "      testscores_folds.append(f1_score(Y_test, predict_with_best_t(Y_predicted_test, best_t)))\n",
        "\n",
        "      print('Train', f1_score(Y_train, predict_with_best_t(Y_predicted_train, best_t)))\n",
        "      trainscores_folds.append(f1_score(Y_train, predict_with_best_t(Y_predicted_train, best_t)))\n",
        "\n",
        "  TR.append(Thresholds[np.argmax(testscores_folds)])    \n",
        "  trainscores.append(np.mean(np.array(trainscores_folds))) # Taking the mean of trainscores obtained from each fold\n",
        "  testscores.append(np.mean(np.array(testscores_folds))) # Taking the mean of testscores obtained from each fold\n",
        "  print() "
      ]
    },
    {
      "cell_type": "code",
      "execution_count": null,
      "metadata": {
        "id": "i-RoYrXUYUwe"
      },
      "outputs": [],
      "source": [
        "print(trainscores)\n",
        "print(testscores)"
      ]
    },
    {
      "cell_type": "code",
      "execution_count": null,
      "metadata": {
        "id": "wB8LXrB2YUwi"
      },
      "outputs": [],
      "source": [
        "plt.plot(trainscores,label = \"Train\")\n",
        "plt.plot(testscores, label = 'Val')\n",
        "plt.legend()\n",
        "plt.grid(True)\n",
        "plt.show()"
      ]
    },
    {
      "cell_type": "markdown",
      "metadata": {
        "id": "TdbL4Fnz-TTA"
      },
      "source": [
        "This plot shows the trainscores and testscores on each iteration"
      ]
    },
    {
      "cell_type": "code",
      "execution_count": null,
      "metadata": {
        "id": "N3mEDdtlYUwm"
      },
      "outputs": [],
      "source": [
        "# Choosing the best model based on highest test score.\n",
        "test_score, train_score, threshold, est = BEST(trainscores, testscores, TR, Models)\n",
        "print(test_score, train_score)"
      ]
    },
    {
      "cell_type": "code",
      "execution_count": null,
      "metadata": {
        "id": "DejdAciWYUwq"
      },
      "outputs": [],
      "source": [
        "# Using the best model\n",
        "GBDT = est\n",
        "GBDT"
      ]
    },
    {
      "cell_type": "code",
      "execution_count": null,
      "metadata": {
        "id": "6XSuNs7JYUwt"
      },
      "outputs": [],
      "source": [
        "# Fitting the calibrated classifier over the best model\n",
        "sig_clf = CalibratedClassifierCV(GBDT, method=\"isotonic\")\n",
        "sig_clf.fit(X_train_standard, y_train_sam)"
      ]
    },
    {
      "cell_type": "code",
      "execution_count": null,
      "metadata": {
        "id": "-eTZ0UooYUww"
      },
      "outputs": [],
      "source": [
        "# Threshold Tuning based on the original Val Dataset.\n",
        "Y_predicted_val = sig_clf.predict_proba(X_val_standard)[:, 1]\n",
        "\n",
        "Y_predicted_train = sig_clf.predict_proba(X_train_standard)[:, 1]\n",
        "\n",
        "train_fpr, train_tpr, tr_thresholds = roc_curve(y_train_sam, Y_predicted_train)\n",
        "val_fpr, val_tpr, val_thresholds = roc_curve(y_val, Y_predicted_val)\n",
        "thresholds = np.linspace(0.0, 1.0, num=len(val_thresholds))\n",
        "best_t = find_best_threshold(val_thresholds, val_fpr, val_tpr)"
      ]
    },
    {
      "cell_type": "code",
      "execution_count": null,
      "metadata": {
        "id": "ZtMMBDA3YUw0"
      },
      "outputs": [],
      "source": [
        "# Getting the metrics based on the optimal threshold value\n",
        "Metrics(sig_clf, X_train_standard, y_train_sam, best_t)\n",
        "print('='*100)\n",
        "print('='*100)\n",
        "Metrics(sig_clf, X_val_standard, y_val, best_t)"
      ]
    },
    {
      "cell_type": "code",
      "execution_count": null,
      "metadata": {
        "id": "biMOCynLYUw4"
      },
      "outputs": [],
      "source": [
        "Metrics(sig_clf, X_test_standard, y_test, best_t)"
      ]
    },
    {
      "cell_type": "code",
      "execution_count": null,
      "metadata": {
        "id": "gskgegCKYUw8"
      },
      "outputs": [],
      "source": [
        "# Plotting ROC curve for Train, Val and Test.\n",
        "Y_predicted_test = sig_clf.predict_proba(X_test_standard)[:, 1]\n",
        "\n",
        "test_fpr, test_tpr, te_thresholds = roc_curve(y_test, Y_predicted_test)\n",
        "\n",
        "plt.plot(train_fpr, train_tpr, label=\"train AUC =\"+str(auc(train_fpr, train_tpr)))\n",
        "plt.plot(test_fpr, test_tpr, label=\"test AUC =\"+str(auc(test_fpr, test_tpr)))\n",
        "plt.plot(val_fpr, val_tpr, label=\"val AUC =\"+str(auc(val_fpr, val_tpr)))\n",
        "plt.legend()\n",
        "plt.xlabel(\"FPR\")\n",
        "plt.ylabel(\"TPR\")\n",
        "plt.title(\"ERROR PLOTS\")\n",
        "plt.grid()\n",
        "plt.show()"
      ]
    },
    {
      "cell_type": "markdown",
      "metadata": {
        "id": "ty-HrRXY-mxF"
      },
      "source": [
        "This plot shows the roc_curve of train, val and test dataset."
      ]
    },
    {
      "cell_type": "code",
      "execution_count": null,
      "metadata": {
        "id": "39n-_e68YUxA"
      },
      "outputs": [],
      "source": [
        "GBDT.fit(X_train_standard, y_train_sam)\n",
        "features = list(Data.columns)[5:]\n",
        "features.append('model_1')\n",
        "features.append('model_0')\n",
        "importances = GBDT.feature_importances_\n",
        "indices = (np.argsort(importances))[-25:]\n",
        "plt.figure(figsize=(10,12))\n",
        "plt.title('Feature Importances')\n",
        "plt.barh(range(len(indices)), importances[indices], color='y', align='center')\n",
        "plt.yticks(range(len(indices)), [features[i] for i in indices])\n",
        "plt.xlabel('Relative Importance')\n",
        "plt.grid(True)\n",
        "plt.show()"
      ]
    },
    {
      "cell_type": "markdown",
      "metadata": {
        "id": "Xrqw24C3EJ6o"
      },
      "source": [
        "|  Data| Precision  | Recall | ROC-Score | F1-Score |\n",
        "|------------|--------|----------------------|----------||\n",
        "|      Train |  0.8771|        0.9999 |  0.9999 | 0.9345|\n",
        "|    Val   |  0.00016    |  0.8        |   0.8993 |0.00032|\n",
        "|    Test  |    0.00012  |   0.5  |   0.8946 |0.00024|"
      ]
    },
    {
      "cell_type": "markdown",
      "metadata": {
        "id": "dwNB5oq9QQCu"
      },
      "source": [
        "# 10. Summary"
      ]
    },
    {
      "cell_type": "markdown",
      "metadata": {
        "id": "IpA4UMGCE066"
      },
      "source": [
        "|  Data|Model| Precision  | Recall | ROC-Score | F1-Score |\n",
        "|------------|----|--------|----------------------|----------||\n",
        "|      Train |Logistic Reg|  0.8080|   0.9911 |  0.9929 | 0.8903|\n",
        "|     | SVC|  0.7723    |  0.9999     |   0.9975 |0.8714|\n",
        "|      |Stacking|    0.8176  |    0.9999  |   0.9979 |0.8997|\n",
        "|      |GBDT|    0.8771  |    0.9999  |   0.9999 |0.9345|"
      ]
    },
    {
      "cell_type": "markdown",
      "metadata": {
        "id": "GJs34w2CMpjr"
      },
      "source": [
        "|  Data|Model| Precision  | Recall | ROC-Score | F1-Score |\n",
        "|------------|----|--------|----------------------|----------||\n",
        "|      Val |Logistic Reg|  0.00012    |  1.0    |   0.9392 |0.00024|\n",
        "|     | SVC|  9.629458439257376e-05    | 1.0       |   0.9357 |0.00019|\n",
        "|      |Stacking|    0.000127  |    1.0  |   0.9420 |0.00025|\n",
        "|      |GBDT|    0.00016  |    0.8  |   0.8993 |0.00032|"
      ]
    },
    {
      "cell_type": "markdown",
      "metadata": {
        "id": "ldZOL4r0NyfY"
      },
      "source": [
        "|  Data|Model| Precision  | Recall | ROC-Score | F1-Score |\n",
        "|------------|----|--------|----------------------|----------||\n",
        "|      Test |Logistic Reg|  0.00012  |    0.8333 |   0.8468 |0.00024|\n",
        "|     |SVC| 9.681666795755558e-05   |    0.8333  |   0.9203 |0.00019|\n",
        "|      |Stacking|    0.000127  |    0.8333  |   0.9136 |0.00025|\n",
        "|      |GBDT|    0.00012 |    0.5  |   0.8946 |0.00024|"
      ]
    },
    {
      "cell_type": "markdown",
      "metadata": {
        "id": "nGWIKhA9fTho"
      },
      "source": [
        "\n",
        "\n",
        "> The above tables show the performance of each models on Train, Val and Test Dataset.\n",
        "\n",
        "> All these models doesn't show good precision score on Val and Test data but shows good recall score on par with Train recall score.\n",
        "\n",
        "> Because of that F1-score is very much less than the Train Data.\n",
        "\n",
        "> Stacking shows good ROC score on Val Data and also on Test Data when compared to other models.\n",
        "\n",
        "> Logistic Regression shows good ROC score on Val Data but it doesn't achieve same on the Test Data.\n",
        "\n",
        "> SVC shows good ROC score on Test Data when compared to other models and it also achieved the good score on Val Data.\n",
        "\n",
        "> XGboost doesn't perform well on Val and Test Data.\n",
        "\n",
        "\n",
        "\n",
        "\n",
        "\n",
        "\n",
        "\n",
        "\n",
        "\n",
        "\n",
        "\n",
        "\n",
        "\n",
        "\n",
        "\n",
        "\n",
        "\n",
        "\n",
        "\n"
      ]
    },
    {
      "cell_type": "code",
      "execution_count": null,
      "metadata": {
        "id": "yIiL3oXSeH3K"
      },
      "outputs": [],
      "source": []
    },
    {
      "cell_type": "code",
      "execution_count": null,
      "metadata": {
        "id": "oPzbymYfeH3K"
      },
      "outputs": [],
      "source": []
    }
  ],
  "metadata": {
    "colab": {
      "collapsed_sections": [
        "mvlWAduJbQO8"
      ],
      "provenance": [],
      "include_colab_link": true
    },
    "gpuClass": "standard",
    "kernelspec": {
      "display_name": "Python 3",
      "language": "python",
      "name": "python3"
    },
    "language_info": {
      "codemirror_mode": {
        "name": "ipython",
        "version": 3
      },
      "file_extension": ".py",
      "mimetype": "text/x-python",
      "name": "python",
      "nbconvert_exporter": "python",
      "pygments_lexer": "ipython3",
      "version": "3.7.6"
    }
  },
  "nbformat": 4,
  "nbformat_minor": 0
}